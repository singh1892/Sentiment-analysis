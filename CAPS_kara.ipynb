{
 "cells": [
  {
   "cell_type": "code",
   "execution_count": 2,
   "metadata": {},
   "outputs": [],
   "source": [
    "from bs4 import BeautifulSoup\n",
    "import urllib as ul\n",
    "from selenium import webdriver\n",
    "import pandas as pd\n",
    "import re"
   ]
  },
  {
   "cell_type": "code",
   "execution_count": 3,
   "metadata": {},
   "outputs": [],
   "source": [
    "browser = webdriver.Chrome('C:\\\\Users\\\\karan\\\\Downloads\\\\chromedriver')"
   ]
  },
  {
   "cell_type": "code",
   "execution_count": 20,
   "metadata": {},
   "outputs": [
    {
     "name": "stdout",
     "output_type": "stream",
     "text": [
      "https://www.ndtv.com/india/page-1\n"
     ]
    }
   ],
   "source": [
    "data = {'intro':[],'links':[]}\n",
    "\n",
    "for i in range(1,2):\n",
    "    try:\n",
    "        address='https://www.ndtv.com/india/page-'+str(i)\n",
    "        doc = ul.request.urlopen(address)\n",
    "        print(address)\n",
    "        browser.get(address)\n",
    "        containers = [x.get_attribute('innerHTML') for x in browser.find_elements_by_xpath(\"//div[@class='nstory_intro']\")]\n",
    "        soup = BeautifulSoup(doc)\n",
    "        links = soup.findAll('div', attrs={'class':'nstory_header'})\n",
    "        for link in links:\n",
    "            data['links'].append(link.find('a').get('href'))\n",
    "        for container in containers:\n",
    "            data['intro'].append(container)\n",
    "    \n",
    "    except:\n",
    "        continue\n",
    "        \n",
    "    \n",
    "   \n",
    "    "
   ]
  },
  {
   "cell_type": "code",
   "execution_count": null,
   "metadata": {},
   "outputs": [],
   "source": []
  },
  {
   "cell_type": "code",
   "execution_count": 21,
   "metadata": {},
   "outputs": [],
   "source": [
    "NDTV_04Feb=pd.DataFrame(data)\n"
   ]
  },
  {
   "cell_type": "code",
   "execution_count": 22,
   "metadata": {},
   "outputs": [],
   "source": [
    "NDTV_04Feb.to_csv('NDTV_04Feb.csv', index = False)"
   ]
  },
  {
   "cell_type": "code",
   "execution_count": 23,
   "metadata": {},
   "outputs": [
    {
     "data": {
      "text/html": [
       "<div>\n",
       "<style scoped>\n",
       "    .dataframe tbody tr th:only-of-type {\n",
       "        vertical-align: middle;\n",
       "    }\n",
       "\n",
       "    .dataframe tbody tr th {\n",
       "        vertical-align: top;\n",
       "    }\n",
       "\n",
       "    .dataframe thead th {\n",
       "        text-align: right;\n",
       "    }\n",
       "</style>\n",
       "<table border=\"1\" class=\"dataframe\">\n",
       "  <thead>\n",
       "    <tr style=\"text-align: right;\">\n",
       "      <th></th>\n",
       "      <th>intro</th>\n",
       "      <th>links</th>\n",
       "    </tr>\n",
       "  </thead>\n",
       "  <tbody>\n",
       "    <tr>\n",
       "      <th>0</th>\n",
       "      <td>The Bombay High Court on Monday granted furthe...</td>\n",
       "      <td>https://www.ndtv.com/india-news/in-koregaon-bh...</td>\n",
       "    </tr>\n",
       "    <tr>\n",
       "      <th>1</th>\n",
       "      <td>Prime Minister Narendra Modi on Monday said th...</td>\n",
       "      <td>https://www.ndtv.com/india-news/pm-modi-in-vri...</td>\n",
       "    </tr>\n",
       "    <tr>\n",
       "      <th>2</th>\n",
       "      <td>Peoples Conference led by separatist-turned-po...</td>\n",
       "      <td>https://www.ndtv.com/india-news/lok-sabha-elec...</td>\n",
       "    </tr>\n",
       "    <tr>\n",
       "      <th>3</th>\n",
       "      <td>Cracking the whip, the Congress on Monday soug...</td>\n",
       "      <td>https://www.ndtv.com/india-news/karnataka-cong...</td>\n",
       "    </tr>\n",
       "    <tr>\n",
       "      <th>4</th>\n",
       "      <td>The new Twitter account of Congress leader Pri...</td>\n",
       "      <td>https://www.ndtv.com/india-news/new-superstar-...</td>\n",
       "    </tr>\n",
       "  </tbody>\n",
       "</table>\n",
       "</div>"
      ],
      "text/plain": [
       "                                               intro  \\\n",
       "0  The Bombay High Court on Monday granted furthe...   \n",
       "1  Prime Minister Narendra Modi on Monday said th...   \n",
       "2  Peoples Conference led by separatist-turned-po...   \n",
       "3  Cracking the whip, the Congress on Monday soug...   \n",
       "4  The new Twitter account of Congress leader Pri...   \n",
       "\n",
       "                                               links  \n",
       "0  https://www.ndtv.com/india-news/in-koregaon-bh...  \n",
       "1  https://www.ndtv.com/india-news/pm-modi-in-vri...  \n",
       "2  https://www.ndtv.com/india-news/lok-sabha-elec...  \n",
       "3  https://www.ndtv.com/india-news/karnataka-cong...  \n",
       "4  https://www.ndtv.com/india-news/new-superstar-...  "
      ]
     },
     "execution_count": 23,
     "metadata": {},
     "output_type": "execute_result"
    }
   ],
   "source": [
    "NDTV_04Feb.head()"
   ]
  },
  {
   "cell_type": "code",
   "execution_count": null,
   "metadata": {},
   "outputs": [],
   "source": [
    "day =NDTV_Feb12\n",
    "\n",
    "articles={'text':[]}\n",
    "for article in day:\n",
    "    for x in ['modi', 'bjp', 'rahul', 'gandhi','congress']:\n",
    "        for row in range(len(day)):\n",
    "            if re.findall(x,day['intro'].str.lower()[row]):\n",
    "                   \n",
    "                try:\n",
    "                        article_address = day['links'][row]\n",
    "                        print(article_address)\n",
    "                        doc_article = ul.request.urlopen(article_address)\n",
    "                        browser.get(article_address)\n",
    "                        containers = [x.get_attribute('innerHTML') for x in browser.find_elements_by_xpath(\"//div[@class='ins_storybody']\")]\n",
    "                        #containers1 = [x.get_attribute('innerHTML') for x in containers.(\"//p\")]\n",
    "                        articles['text'].append(containers)\n",
    "                       # for link in links:\n",
    "                        #print(link.find('p').get(\"\"))              \n",
    "\n",
    "                except:\n",
    "                    continue\n",
    "            \n",
    "            text=pd.DataFrame(articles)"
   ]
  },
  {
   "cell_type": "code",
   "execution_count": 1,
   "metadata": {},
   "outputs": [],
   "source": [
    "def cleanhtml(sentence): #function to clean the word of any html-tags\n",
    "    cleanr = re.compile('<.*?>')\n",
    "    cleantext = re.sub(cleanr, '', sentence)\n",
    "    cleans = re.compile('&nbsp;')\n",
    "    cleantext = re.sub(cleans, '', cleantext)\n",
    "\n",
    "    return cleantext"
   ]
  },
  {
   "cell_type": "code",
   "execution_count": 3,
   "metadata": {},
   "outputs": [
    {
     "ename": "NameError",
     "evalue": "name 'text' is not defined",
     "output_type": "error",
     "traceback": [
      "\u001b[1;31m---------------------------------------------------------------------------\u001b[0m",
      "\u001b[1;31mNameError\u001b[0m                                 Traceback (most recent call last)",
      "\u001b[1;32m<ipython-input-3-aa785adca3fc>\u001b[0m in \u001b[0;36m<module>\u001b[1;34m\u001b[0m\n\u001b[1;32m----> 1\u001b[1;33m \u001b[0mtext\u001b[0m\u001b[1;33m\u001b[0m\u001b[1;33m\u001b[0m\u001b[0m\n\u001b[0m",
      "\u001b[1;31mNameError\u001b[0m: name 'text' is not defined"
     ]
    }
   ],
   "source": [
    "text.text[5]"
   ]
  },
  {
   "cell_type": "code",
   "execution_count": 57,
   "metadata": {},
   "outputs": [],
   "source": [
    "final_text=[]\n",
    "for i in range(len(text)):\n",
    "    final_text.append(cleanhtml(str(text.text[i])))"
   ]
  },
  {
   "cell_type": "code",
   "execution_count": 58,
   "metadata": {},
   "outputs": [],
   "source": [
    "final_text_df = pd.DataFrame(final_text)"
   ]
  },
  {
   "cell_type": "code",
   "execution_count": 64,
   "metadata": {},
   "outputs": [
    {
     "data": {
      "text/plain": [
       "'[\\'Lucknow:Asserting that the Congress would \"play on the front foot\" in Uttar Pradesh, Congress chief Rahul Gandhi said on Monday he and his party would not sit idle till it forms government in the state and that Priyanka Gandhi and Jyotiraditya Scindia had been given that mandate.During a four-and-a-half-hour roadshow that marked his sister Priyanka\\\\\\'s first public event after being appointed as the party\\\\\\'s general secretary in charge of eastern Uttar Pradesh, the Congress president said he had told her and Mr Scindia, the general secretary in charge of western UP, their mandate was to bring a government in the state that would ensure justice for all.\"Their aim is definitely the Lok Sabha elections, but also to bring a Congress government here,\" he said, taking the political challenge posed by his opponents head on.Asking the crowd to repeat his \"chowkidar chor hai\" (guard is the thief) barb against PM Narendra Modi in connection with the Congress party\\\\\\'s corruption allegation in the Rafale fighter jet deal, Mr Gandhi alleged that the prime minister has \"stolen\" money from Uttar Pradesh and other states to benefit industrialist Anil Ambani.The government and Mr Ambani\\\\\\'s Reliance Group have denied the allegations levelled against them by the Congress and other opposition parties.On Uttar Pradesh, where his party is struggling to regain its lost moorings, the Congress chief said, \"UP is the centre (and) heart of country. I have made Priyanka and Scindiaji general secretaries and told them that they have to fight injustice that has been rampant in the state for years. They have to fight against it and bring a government that gives justice.\"Priyanka Gandhi Vadra and Jyotiraditya Scindia were recently appointed by him as Congress general secretaries with charge of eastern and western UP, respectively, keeping in mind the Lok Sabha elections expected to take place in April-May.The Congress party had fared miserably in the state during the 2014 Lok Sabha elections by winning just two of 80 seats in the state.Using a cricket analogy, he said the Congress will play on the front foot and not on the back foot in the state.\"Till a Congress ideology government is installed here (UP), we will not sit idle and ensure justice to the farmers, the youth, the poor,\" he said.Moving through major thoroughfares of the state capital atop a makeshift \"rath\" and braving teeming crowds, Rahul Gandhi stopped in the Lalbagh area to address bystanders.Later on reaching the state Congress headquarters, he profusely thanked his partymen for the grand show.He said that for the Congress there was no dearth of issues.\"There are issues after issues for the Congress workers, talk about corruption, farmers, employment... it is only a matter of moving ahead and fighting for the Congress ideology and see what happens in Uttar Pradesh,\" Rahul Gandhi stressed.The Congress president, who gave the important assignment to Priyanka Gandhi Vadra and Jyotiraditya Scindia after the Samajwadi Party and the BSP cold-shouldered him in the \"gathbandhan\" (alliance) for the coming Lok Sabha election, reiterated that he has full respect for BSP chief Mayawati and Akhilesh Yadav of SP.\"An alliance is also in the contest here and I have clearly said that I respect Mayawatiji and Akhilesh Yadavji...but Congress will fight with all its might for its ideology to change Uttar Pradesh,\" Rahul Gandhi said.\"We will play on the front foot...till Congress ideology government takes over here. We will not be sitting idle till we bring a government that works for the farmers, youth and poor here,\" he said.Rahul Gandhi, who along with other leaders, also inaugurated the Congress media centre \"Rajiv Gandhi Hall\" in the party headquarters, asked party workers not to be afraid in this fight of ideology which is to connect people in the face of the challenge of the RSS, BJP and Narendra Modi, who he alleged have been working to break and weaken the country.\"The Congress began its journey from Uttar Pradesh and it cannot remain weak in the state...Congress has to improve performance in UP in the Lok Sabha polls and form government in the next Assembly elections,\" he stressed.In his address which was marked by chanting of \"chowkidar chor hai\", Rahul Gandhi alleged that \"in the last five years, \"chowkidar\" has not provided employment, he has just benefitted his friend Anil Ambani.\"\"People want Congress government as they have tried all and they have failed and now there is only one way ahead...the battle will be fought on the ground,\" he said, adding that the grassroot workers and leaders will have to be given priority if the party has to be strengthened in the state.\"This is our responsibility to encourage the grassroot leaders and workers...those who fly in helicopters will not help,\" Rahul, who has the enormous task of strengthening the organisation, stressed.He also referred to PM Modi\\\\\\'s claims of having 56-inch chest and that he wants to be the chowkidar of the country and said that the truth is coming out one after another and the hollowness of PM Modi\\\\\\'s claims is coming out before the people.Referring to a report on The Hindu newspaper that critical provisions for anti-corruption penalties and making payments through an escrow account were dropped days before the Rafale deal, Rahul Gandhi said in every defence deal there is a clause of corruption. COMMENT\"The government can act in case of corruption...but Modi has cancelled it and given Rs. 30,000 crore to Anil Ambani,\" he said.\\']'"
      ]
     },
     "execution_count": 64,
     "metadata": {},
     "output_type": "execute_result"
    }
   ],
   "source": [
    "final_text[5]"
   ]
  },
  {
   "cell_type": "code",
   "execution_count": null,
   "metadata": {},
   "outputs": [],
   "source": []
  }
 ],
 "metadata": {
  "kernelspec": {
   "display_name": "Python 3",
   "language": "python",
   "name": "python3"
  },
  "language_info": {
   "codemirror_mode": {
    "name": "ipython",
    "version": 3
   },
   "file_extension": ".py",
   "mimetype": "text/x-python",
   "name": "python",
   "nbconvert_exporter": "python",
   "pygments_lexer": "ipython3",
   "version": "3.6.7"
  }
 },
 "nbformat": 4,
 "nbformat_minor": 2
}
