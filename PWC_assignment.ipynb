{
 "cells": [
  {
   "cell_type": "markdown",
   "metadata": {
    "colab_type": "text",
    "id": "_8VfPrBu0Sxt"
   },
   "source": [
    "# Importing Libraries required."
   ]
  },
  {
   "cell_type": "code",
   "execution_count": 39,
   "metadata": {
    "colab": {
     "base_uri": "https://localhost:8080/",
     "height": 54
    },
    "colab_type": "code",
    "id": "SkJT-HeJ_Yvl",
    "outputId": "a527c80c-0064-4195-e57b-08d0c727081a"
   },
   "outputs": [
    {
     "name": "stdout",
     "output_type": "stream",
     "text": [
      "[nltk_data] Downloading package stopwords to /root/nltk_data...\n",
      "[nltk_data]   Package stopwords is already up-to-date!\n"
     ]
    }
   ],
   "source": [
    "import pandas as pd\n",
    "import numpy as np\n",
    "import sklearn\n",
    "import matplotlib.pyplot as plt\n",
    "%matplotlib inline\n",
    "import re\n",
    "from sklearn.feature_extraction.text import CountVectorizer\n",
    "from sklearn.feature_extraction.text import TfidfTransformer\n",
    "from sklearn.naive_bayes import MultinomialNB\n",
    "from sklearn.linear_model import LogisticRegression\n",
    "from sklearn.ensemble import RandomForestClassifier\n",
    "from sklearn.svm import LinearSVC\n",
    "from sklearn.model_selection import cross_val_score\n",
    "from sklearn.metrics import confusion_matrix\n",
    "from sklearn import metrics\n",
    "from sklearn.model_selection import train_test_split\n",
    "from sklearn.model_selection import cross_val_score\n",
    "from sklearn.feature_extraction.text import TfidfVectorizer\n",
    "from sklearn import metrics\n",
    "import re\n",
    "import nltk\n",
    "import nltk\n",
    "nltk.download('stopwords')\n",
    "from nltk.corpus import stopwords\n",
    "from xgboost.sklearn import XGBClassifier\n",
    "from sklearn.model_selection import KFold,StratifiedKFold\n",
    "from sklearn.model_selection import train_test_split, cross_val_score\n",
    "from sklearn.model_selection import GridSearchCV\n",
    "from sklearn.tree import DecisionTreeClassifier\n",
    "from sklearn.ensemble import AdaBoostClassifier, BaggingClassifier, RandomForestClassifier\n",
    "from sklearn.metrics import cohen_kappa_score"
   ]
  },
  {
   "cell_type": "markdown",
   "metadata": {
    "colab_type": "text",
    "id": "TVusftoP0mSx"
   },
   "source": [
    "# Reading the data file as specified to read it endoded 'iso8859_2' "
   ]
  },
  {
   "cell_type": "code",
   "execution_count": 0,
   "metadata": {
    "colab": {},
    "colab_type": "code",
    "id": "DvFwEkhw_fk2"
   },
   "outputs": [],
   "source": [
    "df = pd.read_csv(\"/content/data.csv\",encoding='iso8859_2')"
   ]
  },
  {
   "cell_type": "markdown",
   "metadata": {
    "colab_type": "text",
    "id": "J-XAW62lQmSP"
   },
   "source": [
    "We can see the data['text'] conatining all the messages which has latin text and also # hashtags. The total length is 3118."
   ]
  },
  {
   "cell_type": "code",
   "execution_count": 3,
   "metadata": {
    "colab": {
     "base_uri": "https://localhost:8080/",
     "height": 235
    },
    "colab_type": "code",
    "id": "RQquf6EZ_4B1",
    "outputId": "4c546a48-e5d8-49d5-d123-fb565820d248"
   },
   "outputs": [
    {
     "data": {
      "text/plain": [
       "0       Barclays CEO stresses the importance of regula...\n",
       "1       Barclays announces result of Rights Issue http...\n",
       "2       Barclays publishes its prospectus for its ĺŁ5....\n",
       "3       Barclays Group Finance Director Chris Lucas is...\n",
       "4       Barclays announces that Irene McDermott Brown ...\n",
       "                              ...                        \n",
       "3113    Wishing you a happy and healthy Thanksgiving. ...\n",
       "3114    WouldnĚ˘âÂă˘t it be great if your oven recog...\n",
       "3115    Yesterday, these #HealthyKids lit up Broadway ...\n",
       "3116    Yo-Jelly, Danone new brand in South Africa : t...\n",
       "3117    Z Bhutta: Problems with food&amp;land systems ...\n",
       "Name: text, Length: 3118, dtype: object"
      ]
     },
     "execution_count": 3,
     "metadata": {
      "tags": []
     },
     "output_type": "execute_result"
    }
   ],
   "source": [
    "df['text']"
   ]
  },
  {
   "cell_type": "code",
   "execution_count": 4,
   "metadata": {
    "colab": {
     "base_uri": "https://localhost:8080/",
     "height": 35
    },
    "colab_type": "code",
    "id": "CwuRTd8n_6Oz",
    "outputId": "fcc13419-767a-4487-ee7f-930f99e5284a"
   },
   "outputs": [
    {
     "data": {
      "text/plain": [
       "(3118, 3)"
      ]
     },
     "execution_count": 4,
     "metadata": {
      "tags": []
     },
     "output_type": "execute_result"
    }
   ],
   "source": [
    "df.shape"
   ]
  },
  {
   "cell_type": "markdown",
   "metadata": {
    "colab_type": "text",
    "id": "xGjJDtII1aHw"
   },
   "source": [
    "The dataframe consists of 39 null values which are not usable and there are missing rows present in file. So, drop the rows."
   ]
  },
  {
   "cell_type": "code",
   "execution_count": 5,
   "metadata": {
    "colab": {
     "base_uri": "https://localhost:8080/",
     "height": 90
    },
    "colab_type": "code",
    "id": "zHxo4qKj_9kH",
    "outputId": "5b3ef531-feea-4519-e4bf-4224b6e84395"
   },
   "outputs": [
    {
     "data": {
      "text/plain": [
       "category      39\n",
       "screenname    39\n",
       "text          39\n",
       "dtype: int64"
      ]
     },
     "execution_count": 5,
     "metadata": {
      "tags": []
     },
     "output_type": "execute_result"
    }
   ],
   "source": [
    "df.isnull().sum()"
   ]
  },
  {
   "cell_type": "code",
   "execution_count": 0,
   "metadata": {
    "colab": {},
    "colab_type": "code",
    "id": "HjKtJv11AALr"
   },
   "outputs": [],
   "source": [
    "df = df.dropna()"
   ]
  },
  {
   "cell_type": "code",
   "execution_count": 7,
   "metadata": {
    "colab": {
     "base_uri": "https://localhost:8080/",
     "height": 90
    },
    "colab_type": "code",
    "id": "VZx2YQ04ABpU",
    "outputId": "2fb8cc6f-dded-430c-90c9-96813748e43a"
   },
   "outputs": [
    {
     "data": {
      "text/plain": [
       "category      0\n",
       "screenname    0\n",
       "text          0\n",
       "dtype: int64"
      ]
     },
     "execution_count": 7,
     "metadata": {
      "tags": []
     },
     "output_type": "execute_result"
    }
   ],
   "source": [
    "df.isnull().sum()"
   ]
  },
  {
   "cell_type": "markdown",
   "metadata": {
    "colab_type": "text",
    "id": "hNKK4KyJ18NR"
   },
   "source": [
    "After dropping the rows we have 3079 data points or rows and 3 columns."
   ]
  },
  {
   "cell_type": "code",
   "execution_count": 8,
   "metadata": {
    "colab": {
     "base_uri": "https://localhost:8080/",
     "height": 35
    },
    "colab_type": "code",
    "id": "Tsuj6FbXADRn",
    "outputId": "ba76fc54-e2a6-4abb-e7ce-6a7008baf347"
   },
   "outputs": [
    {
     "data": {
      "text/plain": [
       "(3079, 3)"
      ]
     },
     "execution_count": 8,
     "metadata": {
      "tags": []
     },
     "output_type": "execute_result"
    }
   ],
   "source": [
    "df.shape"
   ]
  },
  {
   "cell_type": "code",
   "execution_count": 9,
   "metadata": {
    "colab": {
     "base_uri": "https://localhost:8080/",
     "height": 198
    },
    "colab_type": "code",
    "id": "Zl5b1NjEAE9s",
    "outputId": "283cd7b2-6d87-4d0d-cac7-92ec51f24e5f"
   },
   "outputs": [
    {
     "data": {
      "text/html": [
       "<div>\n",
       "<style scoped>\n",
       "    .dataframe tbody tr th:only-of-type {\n",
       "        vertical-align: middle;\n",
       "    }\n",
       "\n",
       "    .dataframe tbody tr th {\n",
       "        vertical-align: top;\n",
       "    }\n",
       "\n",
       "    .dataframe thead th {\n",
       "        text-align: right;\n",
       "    }\n",
       "</style>\n",
       "<table border=\"1\" class=\"dataframe\">\n",
       "  <thead>\n",
       "    <tr style=\"text-align: right;\">\n",
       "      <th></th>\n",
       "      <th>category</th>\n",
       "      <th>screenname</th>\n",
       "      <th>text</th>\n",
       "    </tr>\n",
       "  </thead>\n",
       "  <tbody>\n",
       "    <tr>\n",
       "      <th>0</th>\n",
       "      <td>Information</td>\n",
       "      <td>Barclays</td>\n",
       "      <td>Barclays CEO stresses the importance of regula...</td>\n",
       "    </tr>\n",
       "    <tr>\n",
       "      <th>1</th>\n",
       "      <td>Information</td>\n",
       "      <td>Barclays</td>\n",
       "      <td>Barclays announces result of Rights Issue http...</td>\n",
       "    </tr>\n",
       "    <tr>\n",
       "      <th>2</th>\n",
       "      <td>Information</td>\n",
       "      <td>Barclays</td>\n",
       "      <td>Barclays publishes its prospectus for its ĺŁ5....</td>\n",
       "    </tr>\n",
       "    <tr>\n",
       "      <th>3</th>\n",
       "      <td>Information</td>\n",
       "      <td>Barclays</td>\n",
       "      <td>Barclays Group Finance Director Chris Lucas is...</td>\n",
       "    </tr>\n",
       "    <tr>\n",
       "      <th>4</th>\n",
       "      <td>Information</td>\n",
       "      <td>Barclays</td>\n",
       "      <td>Barclays announces that Irene McDermott Brown ...</td>\n",
       "    </tr>\n",
       "  </tbody>\n",
       "</table>\n",
       "</div>"
      ],
      "text/plain": [
       "      category screenname                                               text\n",
       "0  Information   Barclays  Barclays CEO stresses the importance of regula...\n",
       "1  Information   Barclays  Barclays announces result of Rights Issue http...\n",
       "2  Information   Barclays  Barclays publishes its prospectus for its ĺŁ5....\n",
       "3  Information   Barclays  Barclays Group Finance Director Chris Lucas is...\n",
       "4  Information   Barclays  Barclays announces that Irene McDermott Brown ..."
      ]
     },
     "execution_count": 9,
     "metadata": {
      "tags": []
     },
     "output_type": "execute_result"
    }
   ],
   "source": [
    "df.head()"
   ]
  },
  {
   "cell_type": "markdown",
   "metadata": {
    "colab_type": "text",
    "id": "mW1RbsN22GuP"
   },
   "source": [
    "There are three categories in which the data has been classified in training data i.e.  Information, Dialouge, Action. We can see it is Imbalanced data set. To handle imbalance data set we can do undersmapling or oversmapling techniques such as Smote. But, for now we will try to run it as it is and try to find how our model works."
   ]
  },
  {
   "cell_type": "code",
   "execution_count": 0,
   "metadata": {
    "colab": {},
    "colab_type": "code",
    "id": "kpxEboRkAGeM"
   },
   "outputs": [],
   "source": [
    "category_count = df['category'].value_counts()"
   ]
  },
  {
   "cell_type": "code",
   "execution_count": 11,
   "metadata": {
    "colab": {
     "base_uri": "https://localhost:8080/",
     "height": 90
    },
    "colab_type": "code",
    "id": "bqqhow2BAJA8",
    "outputId": "6520bfbf-835a-4806-8a8d-a4f99299ac88"
   },
   "outputs": [
    {
     "data": {
      "text/plain": [
       "Information    2129\n",
       "Action          724\n",
       "Dialogue        226\n",
       "Name: category, dtype: int64"
      ]
     },
     "execution_count": 11,
     "metadata": {
      "tags": []
     },
     "output_type": "execute_result"
    }
   ],
   "source": [
    "category_count"
   ]
  },
  {
   "cell_type": "code",
   "execution_count": 12,
   "metadata": {
    "colab": {
     "base_uri": "https://localhost:8080/",
     "height": 351
    },
    "colab_type": "code",
    "id": "zXEpJejdAKsc",
    "outputId": "0d2fe2e6-1f6d-46f0-a666-2b934503f1af"
   },
   "outputs": [
    {
     "data": {
      "text/plain": [
       "Text(0.5, 1.0, 'category visuals')"
      ]
     },
     "execution_count": 12,
     "metadata": {
      "tags": []
     },
     "output_type": "execute_result"
    },
    {
     "data": {
      "image/png": "[encoded data removed]",
      "text/plain": [
       "<Figure size 432x288 with 1 Axes>"
      ]
     },
     "metadata": {
      "needs_background": "light",
      "tags": []
     },
     "output_type": "display_data"
    }
   ],
   "source": [
    "index = [1,2,3]\n",
    "plt.bar (index, category_count)\n",
    "plt.xticks(index, ['Information', 'Action', 'Dialogue'], rotation = 45)\n",
    "plt.ylabel ('category_count')\n",
    "plt.xlabel ('category')\n",
    "plt.title ('category visuals')"
   ]
  },
  {
   "cell_type": "code",
   "execution_count": 0,
   "metadata": {
    "colab": {},
    "colab_type": "code",
    "id": "5e8rFw5QAMGh"
   },
   "outputs": [],
   "source": [
    "df_new = df.copy()"
   ]
  },
  {
   "cell_type": "code",
   "execution_count": 0,
   "metadata": {
    "colab": {},
    "colab_type": "code",
    "id": "bMYZGWx7AU5c"
   },
   "outputs": [],
   "source": [
    "df_new['category_id'] = pd.factorize(df.category)[0]"
   ]
  },
  {
   "cell_type": "code",
   "execution_count": 15,
   "metadata": {
    "colab": {
     "base_uri": "https://localhost:8080/",
     "height": 217
    },
    "colab_type": "code",
    "id": "AN4nwaUhAN7K",
    "outputId": "4c0773e1-95ca-433e-f72e-2734e46575aa"
   },
   "outputs": [
    {
     "name": "stdout",
     "output_type": "stream",
     "text": [
      "<class 'pandas.core.frame.DataFrame'>\n",
      "Int64Index: 3079 entries, 0 to 3117\n",
      "Data columns (total 4 columns):\n",
      " #   Column       Non-Null Count  Dtype \n",
      "---  ------       --------------  ----- \n",
      " 0   category     3079 non-null   object\n",
      " 1   screenname   3079 non-null   object\n",
      " 2   text         3079 non-null   object\n",
      " 3   category_id  3079 non-null   int64 \n",
      "dtypes: int64(1), object(3)\n",
      "memory usage: 120.3+ KB\n"
     ]
    }
   ],
   "source": [
    "df_new.info()"
   ]
  },
  {
   "cell_type": "code",
   "execution_count": 0,
   "metadata": {
    "colab": {},
    "colab_type": "code",
    "id": "wZnliONkAPis"
   },
   "outputs": [],
   "source": [
    "category_id_count = df_new['category_id'].value_counts()"
   ]
  },
  {
   "cell_type": "code",
   "execution_count": 17,
   "metadata": {
    "colab": {
     "base_uri": "https://localhost:8080/",
     "height": 90
    },
    "colab_type": "code",
    "id": "zaZ-A_jAAR0T",
    "outputId": "cac9a2a2-9a5a-4127-e3f1-d799b63ab149"
   },
   "outputs": [
    {
     "data": {
      "text/plain": [
       "0    2129\n",
       "1     724\n",
       "2     226\n",
       "Name: category_id, dtype: int64"
      ]
     },
     "execution_count": 17,
     "metadata": {
      "tags": []
     },
     "output_type": "execute_result"
    }
   ],
   "source": [
    "category_id_count"
   ]
  },
  {
   "cell_type": "markdown",
   "metadata": {
    "colab_type": "text",
    "id": "CInJmRTI2wUm"
   },
   "source": [
    "We have created the functions to clean the data and remove the stop words from the data given to find usefuk meaning of the data."
   ]
  },
  {
   "cell_type": "code",
   "execution_count": 0,
   "metadata": {
    "colab": {},
    "colab_type": "code",
    "id": "W7GNd9lHAZRq"
   },
   "outputs": [],
   "source": [
    "replace_1 = re.compile(\"(\\.)|(\\;)|(\\:)|(\\!)|(\\')|(\\?)|(\\,)|(\\\")|(\\()|(\\))|(\\[)|(\\])\")\n",
    "replace_2 = re.compile(\"(<br\\s*/><br\\s*/>)|(\\-)|(\\/)\")\n",
    "# function to clean text data\n",
    "\n",
    "def clean_reviews(reviews):\n",
    "    reviews = [replace_1.sub(\"\", line.lower()) for line in reviews]\n",
    "    reviews = [replace_2.sub(\" \", line) for line in reviews]\n",
    "    return reviews"
   ]
  },
  {
   "cell_type": "code",
   "execution_count": 0,
   "metadata": {
    "colab": {},
    "colab_type": "code",
    "id": "-Ga4I43XAc5j"
   },
   "outputs": [],
   "source": [
    "df_new['text'] = clean_reviews(df_new['text'])"
   ]
  },
  {
   "cell_type": "code",
   "execution_count": 0,
   "metadata": {
    "colab": {},
    "colab_type": "code",
    "id": "--YFX3UeAoGz"
   },
   "outputs": [],
   "source": [
    "df_new['text'] = clean_reviews(df_new['text'])"
   ]
  },
  {
   "cell_type": "code",
   "execution_count": 0,
   "metadata": {
    "colab": {},
    "colab_type": "code",
    "id": "5GU1RZhjApwI"
   },
   "outputs": [],
   "source": [
    "spec_chars = [\"!\",'\"',\"#\",\"%\",\"&\",\"'\",\"(\",\")\",\n",
    "              \"*\",\"+\",\",\",\"-\",\".\",\"/\",\":\",\";\",\"<\",\n",
    "              \"=\",\">\",\"?\",\"@\",\"[\",\"\\\\\",\"]\",\"^\",\"_\",\n",
    "              \"`\",\"{\",\"|\",\"}\",\"~\",\"–\"]\n"
   ]
  },
  {
   "cell_type": "code",
   "execution_count": 0,
   "metadata": {
    "colab": {},
    "colab_type": "code",
    "id": "01HVJE0DAtiq"
   },
   "outputs": [],
   "source": [
    "for char in spec_chars:\n",
    "    df_new['category'] = df_new['category'].str.replace(char, ' ')"
   ]
  },
  {
   "cell_type": "code",
   "execution_count": 0,
   "metadata": {
    "colab": {},
    "colab_type": "code",
    "id": "R58K__G3AvAH"
   },
   "outputs": [],
   "source": [
    "def clean_words (raw_tweet):\n",
    "    letters_only = re.sub(\"[^a-zA-Z]\", \" \", raw_tweet)\n",
    "    words = letters_only.lower().split()\n",
    "    stops = set(stopwords.words(\"english\"))\n",
    "    meaningful_words = [w for w in words if not w in stops]\n",
    "    return (\" \".join(meaningful_words))"
   ]
  },
  {
   "cell_type": "code",
   "execution_count": 0,
   "metadata": {
    "colab": {},
    "colab_type": "code",
    "id": "1b0pIKKoAwPF"
   },
   "outputs": [],
   "source": [
    "df_new['clean_text'] = df_new['text'].apply(lambda x: clean_words(x))"
   ]
  },
  {
   "cell_type": "code",
   "execution_count": 25,
   "metadata": {
    "colab": {
     "base_uri": "https://localhost:8080/",
     "height": 126
    },
    "colab_type": "code",
    "id": "x_j9wX7oAyqG",
    "outputId": "3b53c10a-40c3-4338-ed7f-bef404c2ec3a"
   },
   "outputs": [
    {
     "data": {
      "text/plain": [
       "category       0\n",
       "screenname     0\n",
       "text           0\n",
       "category_id    0\n",
       "clean_text     0\n",
       "dtype: int64"
      ]
     },
     "execution_count": 25,
     "metadata": {
      "tags": []
     },
     "output_type": "execute_result"
    }
   ],
   "source": [
    "df_new.isnull().sum()"
   ]
  },
  {
   "cell_type": "markdown",
   "metadata": {
    "colab_type": "text",
    "id": "zISawc2S3G8T"
   },
   "source": [
    "After cleaning the data we split the test and train data to create a model check against the testing data and evalute the model built.  We have kept test data size 25% and 75% for training."
   ]
  },
  {
   "cell_type": "code",
   "execution_count": 0,
   "metadata": {
    "colab": {},
    "colab_type": "code",
    "id": "1r5xxzJxBGDy"
   },
   "outputs": [],
   "source": [
    "X = df_new['clean_text'] # Collection of documents\n",
    "y = df_new['category'] # Target or the labels we want to predict \n",
    "\n",
    "X_train, X_test, y_train, y_test = train_test_split(X, y, \n",
    "                                                    test_size=0.25,\n",
    "                                                    random_state = 0)"
   ]
  },
  {
   "cell_type": "code",
   "execution_count": 27,
   "metadata": {
    "colab": {
     "base_uri": "https://localhost:8080/",
     "height": 35
    },
    "colab_type": "code",
    "id": "qQEP5oo3BI3z",
    "outputId": "54336030-28bc-43ee-ed0a-9f77350f1ebf"
   },
   "outputs": [
    {
     "data": {
      "text/plain": [
       "((2309,), (2309,))"
      ]
     },
     "execution_count": 27,
     "metadata": {
      "tags": []
     },
     "output_type": "execute_result"
    }
   ],
   "source": [
    "X_train.shape , y_train.shape"
   ]
  },
  {
   "cell_type": "markdown",
   "metadata": {
    "colab_type": "text",
    "id": "G5aJ_Z1B3f3u"
   },
   "source": [
    "After, train test split we should start design the classifier. Since, the inputs are texts we first need to convert them into numerical vectors to feed them into any machine learning algorithm. The vectorization of features are done using the following two methods."
   ]
  },
  {
   "cell_type": "markdown",
   "metadata": {
    "colab_type": "text",
    "id": "aRv9J72u4Ecy"
   },
   "source": [
    "We will be using bag of words method to create and build model. Firstly we use countvectorizer which assigns unique values to each words count the no of occorunces of the each rows consolidated. For 2309 train data we have 7729 vetors."
   ]
  },
  {
   "cell_type": "code",
   "execution_count": 28,
   "metadata": {
    "colab": {
     "base_uri": "https://localhost:8080/",
     "height": 35
    },
    "colab_type": "code",
    "id": "Pk0SmeWFBK-5",
    "outputId": "3bfae5db-ddba-4b41-d029-d4008d023045"
   },
   "outputs": [
    {
     "data": {
      "text/plain": [
       "(2309, 7729)"
      ]
     },
     "execution_count": 28,
     "metadata": {
      "tags": []
     },
     "output_type": "execute_result"
    }
   ],
   "source": [
    "\n",
    "count_vect = CountVectorizer()\n",
    "X_train_count_1 = count_vect.fit_transform(X_train)\n",
    "X_train_count_1.shape"
   ]
  },
  {
   "cell_type": "markdown",
   "metadata": {
    "colab_type": "text",
    "id": "1BVtX25f5NMi"
   },
   "source": [
    "TF-IDF: Its value represents the importance of a word to a document in a corpus. TF-IDF value is proportional to the frequency of a word in a document. It has same samples and features and there is no loss in data as seen above in countvector."
   ]
  },
  {
   "cell_type": "code",
   "execution_count": 29,
   "metadata": {
    "colab": {
     "base_uri": "https://localhost:8080/",
     "height": 35
    },
    "colab_type": "code",
    "id": "cg0waC1rBNKb",
    "outputId": "0fcd0599-59d4-4ce8-9a24-ed407421ed47"
   },
   "outputs": [
    {
     "data": {
      "text/plain": [
       "(2309, 7729)"
      ]
     },
     "execution_count": 29,
     "metadata": {
      "tags": []
     },
     "output_type": "execute_result"
    }
   ],
   "source": [
    "\n",
    "\n",
    "tfidf_transform = TfidfTransformer()\n",
    "X_train_tfidf_1 = tfidf_transform.fit_transform(X_train_count_1)\n",
    "X_train_tfidf_1.shape"
   ]
  },
  {
   "cell_type": "markdown",
   "metadata": {
    "colab_type": "text",
    "id": "-PjVWD9y52Lg"
   },
   "source": [
    "Now we will use different classifiers model to Build our model and will evalute our model on not only accuracy but precesion, recall and F1 socre. Because, we are dealing with imbalanced data set."
   ]
  },
  {
   "cell_type": "code",
   "execution_count": 30,
   "metadata": {
    "colab": {
     "base_uri": "https://localhost:8080/",
     "height": 217
    },
    "colab_type": "code",
    "id": "tLxlT3bjBViz",
    "outputId": "badacf71-f7b8-4d0e-dcf7-0076e75d01ce"
   },
   "outputs": [
    {
     "name": "stdout",
     "output_type": "stream",
     "text": [
      "Accuracy: 0.7805194805194805\n",
      "              precision    recall  f1-score   support\n",
      "\n",
      " Information       0.78      0.40      0.53       171\n",
      "      Action       1.00      0.08      0.16        59\n",
      "    Dialogue       0.78      0.98      0.87       540\n",
      "\n",
      "    accuracy                           0.78       770\n",
      "   macro avg       0.85      0.49      0.52       770\n",
      "weighted avg       0.80      0.78      0.74       770\n",
      "\n"
     ]
    }
   ],
   "source": [
    "\n",
    "clf = MultinomialNB().fit(X_train_tfidf_1,y_train)\n",
    "X_test_nb = count_vect.transform(X_test)\n",
    "X_test_tfidf_clf = tfidf_transform.transform(X_test_nb)\n",
    "predict_clf = clf.predict(X_test_tfidf_clf)\n",
    "print(\"Accuracy:\", metrics.accuracy_score(y_test,predict_clf))\n",
    "print(metrics.classification_report(y_test,predict_clf,target_names=df_new['category'].unique()))"
   ]
  },
  {
   "cell_type": "code",
   "execution_count": 0,
   "metadata": {
    "colab": {},
    "colab_type": "code",
    "id": "rl1Pj3cABXhp"
   },
   "outputs": [],
   "source": []
  },
  {
   "cell_type": "code",
   "execution_count": 0,
   "metadata": {
    "colab": {},
    "colab_type": "code",
    "id": "KTVZoW4DBvU0"
   },
   "outputs": [],
   "source": [
    "from sklearn.metrics import make_scorer, accuracy_score\n",
    "def kappa(y, y_pred, **kargs):\n",
    "    return cohen_kappa_score(y,y_pred)\n",
    "\n",
    "kappa = make_scorer(kappa)"
   ]
  },
  {
   "cell_type": "code",
   "execution_count": 0,
   "metadata": {
    "colab": {},
    "colab_type": "code",
    "id": "PR3tfSh1Bw4i"
   },
   "outputs": [],
   "source": [
    "tree = DecisionTreeClassifier()\n",
    "rf = RandomForestClassifier()\n",
    "bagg = BaggingClassifier(base_estimator=tree)\n",
    "boost = AdaBoostClassifier(base_estimator=tree)"
   ]
  },
  {
   "cell_type": "code",
   "execution_count": 0,
   "metadata": {
    "colab": {},
    "colab_type": "code",
    "id": "F400ug3GBy5n"
   },
   "outputs": [],
   "source": [
    "param_grid_tree = {'criterion':['gini','entropy'], 'max_depth':[3,5,7,9]}\n",
    "param_grid_rf = {'n_estimators':[100,200,500], 'max_depth':[3,5,7,9]}\n",
    "param_grid_bagg = {'n_estimators':[100,200,500]}\n",
    "param_grid_boost = {'n_estimators':[100,200,500], 'learning_rate':[0.0001,0.0003,0.0005]}"
   ]
  },
  {
   "cell_type": "code",
   "execution_count": 0,
   "metadata": {
    "colab": {},
    "colab_type": "code",
    "id": "DnWbtMLSB0Qa"
   },
   "outputs": [],
   "source": [
    "best_model_tree = GridSearchCV(estimator=tree,param_grid=param_grid_tree, scoring=kappa, cv=5)\n",
    "\n",
    "best_model_rf = GridSearchCV(estimator=rf, param_grid=param_grid_rf, scoring=kappa,  cv=5)\n",
    "\n",
    "best_model_bagg = GridSearchCV(estimator=bagg,param_grid=param_grid_bagg, scoring=kappa,  cv=5)\n",
    "\n",
    "best_model_boost = GridSearchCV(estimator=boost, param_grid=param_grid_boost, scoring=kappa,cv=5)"
   ]
  },
  {
   "cell_type": "code",
   "execution_count": 35,
   "metadata": {
    "colab": {
     "base_uri": "https://localhost:8080/",
     "height": 217
    },
    "colab_type": "code",
    "id": "JNAz9mW5B13Z",
    "outputId": "9ed5afb8-79a4-4813-b131-7d40b987f1eb"
   },
   "outputs": [
    {
     "name": "stdout",
     "output_type": "stream",
     "text": [
      "Accuracy: 0.8389610389610389\n",
      "              precision    recall  f1-score   support\n",
      "\n",
      " Information       0.85      0.51      0.64       171\n",
      "      Action       0.91      0.54      0.68        59\n",
      "    Dialogue       0.83      0.97      0.90       540\n",
      "\n",
      "    accuracy                           0.84       770\n",
      "   macro avg       0.87      0.68      0.74       770\n",
      "weighted avg       0.84      0.84      0.82       770\n",
      "\n"
     ]
    }
   ],
   "source": [
    "tree_1 =best_model_tree.fit(X_train_tfidf_1,y_train)\n",
    "X_test_tree = count_vect.transform(X_test)\n",
    "X_test_tfidf_tree = tfidf_transform.transform(X_test_tree)\n",
    "predict_tree = tree_1.predict(X_test_tfidf_tree)\n",
    "\n",
    "print(\"Accuracy:\", metrics.accuracy_score(y_test,predict_tree))\n",
    "print(metrics.classification_report(y_test,predict_tree,target_names=df_new['category'].unique()))"
   ]
  },
  {
   "cell_type": "code",
   "execution_count": 36,
   "metadata": {
    "colab": {
     "base_uri": "https://localhost:8080/",
     "height": 274
    },
    "colab_type": "code",
    "id": "tkQAgAbjB33l",
    "outputId": "7bc1e7ae-dfc3-4259-d620-d58a4a5f1c56"
   },
   "outputs": [
    {
     "name": "stdout",
     "output_type": "stream",
     "text": [
      "Accuracy: 0.7194805194805195\n",
      "              precision    recall  f1-score   support\n",
      "\n",
      " Information       0.79      0.09      0.16       171\n",
      "      Action       0.00      0.00      0.00        59\n",
      "    Dialogue       0.72      1.00      0.84       540\n",
      "\n",
      "    accuracy                           0.72       770\n",
      "   macro avg       0.50      0.36      0.33       770\n",
      "weighted avg       0.68      0.72      0.62       770\n",
      "\n"
     ]
    },
    {
     "name": "stderr",
     "output_type": "stream",
     "text": [
      "/usr/local/lib/python3.6/dist-packages/sklearn/metrics/_classification.py:1272: UndefinedMetricWarning: Precision and F-score are ill-defined and being set to 0.0 in labels with no predicted samples. Use `zero_division` parameter to control this behavior.\n",
      "  _warn_prf(average, modifier, msg_start, len(result))\n"
     ]
    }
   ],
   "source": [
    "rf_1 =best_model_rf.fit(X_train_tfidf_1,y_train)\n",
    "X_test_rf = count_vect.transform(X_test)\n",
    "X_test_tfidf_rf = tfidf_transform.transform(X_test_rf)\n",
    "predict_rf = rf_1.predict(X_test_tfidf_rf)\n",
    "\n",
    "print(\"Accuracy:\", metrics.accuracy_score(y_test,predict_rf))\n",
    "print(metrics.classification_report(y_test,predict_rf,target_names=df_new['category'].unique()))"
   ]
  },
  {
   "cell_type": "code",
   "execution_count": 37,
   "metadata": {
    "colab": {
     "base_uri": "https://localhost:8080/",
     "height": 217
    },
    "colab_type": "code",
    "id": "FWGrJzNkB-In",
    "outputId": "4057f6f2-3d05-44c3-ba27-f23e268ae03a"
   },
   "outputs": [
    {
     "name": "stdout",
     "output_type": "stream",
     "text": [
      "Accuracy: 0.8961038961038961\n",
      "              precision    recall  f1-score   support\n",
      "\n",
      " Information       0.80      0.84      0.82       171\n",
      "      Action       0.80      0.75      0.77        59\n",
      "    Dialogue       0.94      0.93      0.93       540\n",
      "\n",
      "    accuracy                           0.90       770\n",
      "   macro avg       0.85      0.84      0.84       770\n",
      "weighted avg       0.90      0.90      0.90       770\n",
      "\n"
     ]
    }
   ],
   "source": [
    "bagg_1 = best_model_bagg.fit(X_train_tfidf_1,y_train)\n",
    "X_test_bagg = count_vect.transform(X_test)\n",
    "X_test_tfidf_bagg = tfidf_transform.transform(X_test_bagg)\n",
    "predict_bagg = bagg_1.predict(X_test_tfidf_bagg)\n",
    "\n",
    "print(\"Accuracy:\", metrics.accuracy_score(y_test,predict_bagg))\n",
    "print(metrics.classification_report(y_test,predict_bagg,target_names=df_new['category'].unique()))"
   ]
  },
  {
   "cell_type": "code",
   "execution_count": 38,
   "metadata": {
    "colab": {
     "base_uri": "https://localhost:8080/",
     "height": 217
    },
    "colab_type": "code",
    "id": "VEr-bi1WCC1A",
    "outputId": "629e0a14-0fd7-4185-8183-e03c5f3d78ff"
   },
   "outputs": [
    {
     "name": "stdout",
     "output_type": "stream",
     "text": [
      "Accuracy: 0.8909090909090909\n",
      "              precision    recall  f1-score   support\n",
      "\n",
      " Information       0.79      0.81      0.80       171\n",
      "      Action       0.78      0.78      0.78        59\n",
      "    Dialogue       0.93      0.93      0.93       540\n",
      "\n",
      "    accuracy                           0.89       770\n",
      "   macro avg       0.84      0.84      0.84       770\n",
      "weighted avg       0.89      0.89      0.89       770\n",
      "\n"
     ]
    }
   ],
   "source": [
    "boost_1 = best_model_boost.fit(X_train_tfidf_1,y_train)\n",
    "X_test_boost = count_vect.transform(X_test)\n",
    "X_test_tfidf_boost = tfidf_transform.transform(X_test_boost)\n",
    "predict_boost= boost_1.predict(X_test_tfidf_boost)\n",
    "\n",
    "print(\"Accuracy:\", metrics.accuracy_score(y_test,predict_boost))\n",
    "print(metrics.classification_report(y_test,predict_boost,target_names=df_new['category'].unique()))"
   ]
  },
  {
   "cell_type": "code",
   "execution_count": 0,
   "metadata": {
    "colab": {},
    "colab_type": "code",
    "id": "YOn31FtpcflR"
   },
   "outputs": [],
   "source": [
    "xg = XGBClassifier(learning_rate=0.1, n_estimators=140, max_depth=5,\n",
    " min_child_weight=2, gamma=0)\n",
    "param_grid_xgb = {\n",
    " 'max_depth':[4,5,6],\n",
    " 'min_child_weight':[4,5,6]\n",
    "}\n",
    "xgb_search = GridSearchCV(estimator =xg, param_grid=param_grid_xgb, scoring=kappa,cv=5) \n"
   ]
  },
  {
   "cell_type": "code",
   "execution_count": 0,
   "metadata": {
    "colab": {},
    "colab_type": "code",
    "id": "ll2EdYP2gsnz"
   },
   "outputs": [],
   "source": []
  },
  {
   "cell_type": "code",
   "execution_count": 50,
   "metadata": {
    "colab": {
     "base_uri": "https://localhost:8080/",
     "height": 217
    },
    "colab_type": "code",
    "id": "xhZVYClse2rQ",
    "outputId": "c00a6184-b61d-4ce8-fd0c-5c9eeaa41fa2"
   },
   "outputs": [
    {
     "name": "stdout",
     "output_type": "stream",
     "text": [
      "Accuracy: 0.8805194805194805\n",
      "              precision    recall  f1-score   support\n",
      "\n",
      " Information       0.83      0.75      0.79       171\n",
      "      Action       0.85      0.66      0.74        59\n",
      "    Dialogue       0.90      0.94      0.92       540\n",
      "\n",
      "    accuracy                           0.88       770\n",
      "   macro avg       0.86      0.79      0.82       770\n",
      "weighted avg       0.88      0.88      0.88       770\n",
      "\n"
     ]
    }
   ],
   "source": [
    "xgb_1 = xgb_search.fit(X_train_tfidf_1,y_train)\n",
    "X_test_xgb = count_vect.transform(X_test)\n",
    "X_test_tfidf_xgb = tfidf_transform.transform(X_test_xgb)\n",
    "predict_xgb = xgb_1.predict(X_test_tfidf_xgb)\n",
    "\n",
    "print(\"Accuracy:\", metrics.accuracy_score(y_test,predict_xgb))\n",
    "print(metrics.classification_report(y_test,predict_xgb,target_names=df_new['category'].unique()))"
   ]
  },
  {
   "cell_type": "markdown",
   "metadata": {
    "colab_type": "text",
    "id": "eyXq7ObA7tbt"
   },
   "source": [
    "From all above models we see that, Boosted trees and Bagging have given good results. Also Decesion tree has really given good results comparatively. As, it did not took much time to run unlike Ensemble models."
   ]
  },
  {
   "cell_type": "markdown",
   "metadata": {
    "colab_type": "text",
    "id": "FG3-EdaQ8LFO"
   },
   "source": [
    "Going forward we can also try to use some Deep neural network models and try to get better model. Also, to get better model we need more data to train model. The data was small hence learning process could be affected. \n",
    "\n",
    "On other hand, There has been BERT model works on LSTM model which was develoed by Google AI can also explored."
   ]
  },
  {
   "cell_type": "code",
   "execution_count": 0,
   "metadata": {
    "colab": {},
    "colab_type": "code",
    "id": "Rr5Eym_68xXb"
   },
   "outputs": [],
   "source": []
  }
 ],
 "metadata": {
  "accelerator": "GPU",
  "colab": {
   "collapsed_sections": [],
   "name": "PWC_assignment.ipynb",
   "provenance": []
  },
  "kernelspec": {
   "display_name": "Python 3",
   "language": "python",
   "name": "python3"
  },
  "language_info": {
   "codemirror_mode": {
    "name": "ipython",
    "version": 3
   },
   "file_extension": ".py",
   "mimetype": "text/x-python",
   "name": "python",
   "nbconvert_exporter": "python",
   "pygments_lexer": "ipython3",
   "version": "3.6.7"
  }
 },
 "nbformat": 4,
 "nbformat_minor": 1
}
