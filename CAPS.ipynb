{
 "cells": [
  {
   "cell_type": "code",
   "execution_count": 1,
   "metadata": {},
   "outputs": [],
   "source": [
    "from bs4 import BeautifulSoup\n",
    "import urllib as ul\n",
    "from selenium import webdriver\n",
    "import pandas as pd\n",
    "import re\n",
    "from selenium.webdriver.chrome.options import Options\n",
    "opts = Options()\n",
    "opts.add_argument('user-agent=Mozilla/5.0 (Windows NT 10.0; Win64; x64; rv:64.0) Gecko/20100101 Firefox/64.0')"
   ]
  },
  {
   "cell_type": "code",
   "execution_count": 2,
   "metadata": {},
   "outputs": [],
   "source": [
    "browser = webdriver.Chrome('C:/Users/Simranjeet Singh/Downloads/chromedriver')"
   ]
  },
  {
   "cell_type": "code",
   "execution_count": 5,
   "metadata": {},
   "outputs": [
    {
     "name": "stdout",
     "output_type": "stream",
     "text": [
      "https://www.ndtv.com/india/page-1\n",
      "https://www.ndtv.com/india/page-2\n",
      "https://www.ndtv.com/india/page-3\n",
      "https://www.ndtv.com/india/page-4\n",
      "https://www.ndtv.com/india/page-5\n",
      "https://www.ndtv.com/india/page-6\n",
      "https://www.ndtv.com/india/page-7\n",
      "https://www.ndtv.com/india/page-8\n",
      "https://www.ndtv.com/india/page-9\n",
      "https://www.ndtv.com/india/page-10\n",
      "https://www.ndtv.com/india/page-11\n",
      "https://www.ndtv.com/india/page-12\n",
      "https://www.ndtv.com/india/page-13\n",
      "https://www.ndtv.com/india/page-14\n"
     ]
    }
   ],
   "source": [
    "data = {'intro':[],'links':[]}\n",
    "\n",
    "for i in range(1,15):\n",
    "    try:\n",
    "        address='https://www.ndtv.com/india/page-'+str(i)\n",
    "        doc = ul.request.urlopen(address)\n",
    "        print(address)\n",
    "        browser.get(address)\n",
    "        containers = [x.get_attribute('innerHTML') for x in browser.find_elements_by_xpath(\"//div[@class='nstory_intro']\")]\n",
    "        soup = BeautifulSoup(doc)\n",
    "        links = soup.findAll('div', attrs={'class':'nstory_header'})\n",
    "        for link in links:\n",
    "            data['links'].append(link.find('a').get('href'))\n",
    "        for container in containers:\n",
    "            data['intro'].append(container)\n",
    "    except:\n",
    "        continue\n",
    "        \n",
    "    \n",
    "   \n",
    "    "
   ]
  },
  {
   "cell_type": "code",
   "execution_count": 6,
   "metadata": {},
   "outputs": [],
   "source": [
    "NDTV_March22= pd.DataFrame(data)\n"
   ]
  },
  {
   "cell_type": "code",
   "execution_count": 7,
   "metadata": {},
   "outputs": [],
   "source": [
    "NDTV_March22.to_csv('NDTV_March22.csv', index = False)"
   ]
  },
  {
   "cell_type": "code",
   "execution_count": 8,
   "metadata": {},
   "outputs": [
    {
     "data": {
      "text/html": [
       "<div>\n",
       "<style scoped>\n",
       "    .dataframe tbody tr th:only-of-type {\n",
       "        vertical-align: middle;\n",
       "    }\n",
       "\n",
       "    .dataframe tbody tr th {\n",
       "        vertical-align: top;\n",
       "    }\n",
       "\n",
       "    .dataframe thead th {\n",
       "        text-align: right;\n",
       "    }\n",
       "</style>\n",
       "<table border=\"1\" class=\"dataframe\">\n",
       "  <thead>\n",
       "    <tr style=\"text-align: right;\">\n",
       "      <th></th>\n",
       "      <th>intro</th>\n",
       "      <th>links</th>\n",
       "    </tr>\n",
       "  </thead>\n",
       "  <tbody>\n",
       "    <tr>\n",
       "      <th>0</th>\n",
       "      <td>Hitesh Patel, an accused in a case related to ...</td>\n",
       "      <td>https://www.ndtv.com/india-news/hitesh-patel-a...</td>\n",
       "    </tr>\n",
       "    <tr>\n",
       "      <th>1</th>\n",
       "      <td>Congress leader Sam Pitroda on Friday triggere...</td>\n",
       "      <td>https://www.ndtv.com/india-news/sam-pitroda-co...</td>\n",
       "    </tr>\n",
       "    <tr>\n",
       "      <th>2</th>\n",
       "      <td>A key aide of the alleged mastermind of Pulwam...</td>\n",
       "      <td>https://www.ndtv.com/india-news/sajjad-khan-ja...</td>\n",
       "    </tr>\n",
       "    <tr>\n",
       "      <th>3</th>\n",
       "      <td>Two Army jawans were injured as Pakistani troo...</td>\n",
       "      <td>https://www.ndtv.com/india-news/2-army-jawans-...</td>\n",
       "    </tr>\n",
       "    <tr>\n",
       "      <th>4</th>\n",
       "      <td>Five people celebrating Holi drowned in the Ar...</td>\n",
       "      <td>https://www.ndtv.com/india-news/5-people-playi...</td>\n",
       "    </tr>\n",
       "  </tbody>\n",
       "</table>\n",
       "</div>"
      ],
      "text/plain": [
       "                                               intro  \\\n",
       "0  Hitesh Patel, an accused in a case related to ...   \n",
       "1  Congress leader Sam Pitroda on Friday triggere...   \n",
       "2  A key aide of the alleged mastermind of Pulwam...   \n",
       "3  Two Army jawans were injured as Pakistani troo...   \n",
       "4  Five people celebrating Holi drowned in the Ar...   \n",
       "\n",
       "                                               links  \n",
       "0  https://www.ndtv.com/india-news/hitesh-patel-a...  \n",
       "1  https://www.ndtv.com/india-news/sam-pitroda-co...  \n",
       "2  https://www.ndtv.com/india-news/sajjad-khan-ja...  \n",
       "3  https://www.ndtv.com/india-news/2-army-jawans-...  \n",
       "4  https://www.ndtv.com/india-news/5-people-playi...  "
      ]
     },
     "execution_count": 8,
     "metadata": {},
     "output_type": "execute_result"
    }
   ],
   "source": [
    "NDTV_March22.head()"
   ]
  },
  {
   "cell_type": "code",
   "execution_count": 3,
   "metadata": {},
   "outputs": [],
   "source": [
    "error = pd.read_csv('error.csv')\n",
    "error_data = pd.DataFrame(error)"
   ]
  },
  {
   "cell_type": "markdown",
   "metadata": {},
   "source": []
  },
  {
   "cell_type": "code",
   "execution_count": 13,
   "metadata": {},
   "outputs": [
    {
     "name": "stdout",
     "output_type": "stream",
     "text": [
      "https://www.thehindu.com/news/national/parrikar-has-denied-role-in-rafale-deal-rahul/article26123414.ece\n"
     ]
    },
    {
     "ename": "NameError",
     "evalue": "name 'browser' is not defined",
     "output_type": "error",
     "traceback": [
      "\u001b[1;31m---------------------------------------------------------------------------\u001b[0m",
      "\u001b[1;31mNameError\u001b[0m                                 Traceback (most recent call last)",
      "\u001b[1;32m<ipython-input-13-a17817de98bb>\u001b[0m in \u001b[0;36m<module>\u001b[1;34m\u001b[0m\n\u001b[0;32m     11\u001b[0m                         \u001b[0mprint\u001b[0m\u001b[1;33m(\u001b[0m\u001b[0marticle_address\u001b[0m\u001b[1;33m)\u001b[0m\u001b[1;33m\u001b[0m\u001b[1;33m\u001b[0m\u001b[0m\n\u001b[0;32m     12\u001b[0m                         \u001b[0mdoc_article\u001b[0m \u001b[1;33m=\u001b[0m \u001b[0mul\u001b[0m\u001b[1;33m.\u001b[0m\u001b[0mrequest\u001b[0m\u001b[1;33m.\u001b[0m\u001b[0murlopen\u001b[0m\u001b[1;33m(\u001b[0m\u001b[0marticle_address\u001b[0m\u001b[1;33m)\u001b[0m\u001b[1;33m\u001b[0m\u001b[1;33m\u001b[0m\u001b[0m\n\u001b[1;32m---> 13\u001b[1;33m                         \u001b[0mbrowser\u001b[0m\u001b[1;33m.\u001b[0m\u001b[0mget\u001b[0m\u001b[1;33m(\u001b[0m\u001b[0marticle_address\u001b[0m\u001b[1;33m)\u001b[0m\u001b[1;33m\u001b[0m\u001b[1;33m\u001b[0m\u001b[0m\n\u001b[0m\u001b[0;32m     14\u001b[0m                         \u001b[0mcontainers\u001b[0m \u001b[1;33m=\u001b[0m \u001b[1;33m[\u001b[0m\u001b[0mx\u001b[0m\u001b[1;33m.\u001b[0m\u001b[0mget_attribute\u001b[0m\u001b[1;33m(\u001b[0m\u001b[1;34m'innerHTML'\u001b[0m\u001b[1;33m)\u001b[0m \u001b[1;32mfor\u001b[0m \u001b[0mx\u001b[0m \u001b[1;32min\u001b[0m \u001b[0mbrowser\u001b[0m\u001b[1;33m.\u001b[0m\u001b[0mfind_elements_by_xpath\u001b[0m\u001b[1;33m(\u001b[0m\u001b[1;34m\"//div[@class='ins_storybody']\"\u001b[0m\u001b[1;33m)\u001b[0m\u001b[1;33m]\u001b[0m\u001b[1;33m\u001b[0m\u001b[1;33m\u001b[0m\u001b[0m\n\u001b[0;32m     15\u001b[0m                         \u001b[1;31m#containers1 = [x.get_attribute('innerHTML') for x in containers.(\"//p\")]\u001b[0m\u001b[1;33m\u001b[0m\u001b[1;33m\u001b[0m\u001b[1;33m\u001b[0m\u001b[0m\n",
      "\u001b[1;31mNameError\u001b[0m: name 'browser' is not defined"
     ]
    }
   ],
   "source": [
    "day =error_data\n",
    "\n",
    "articles={'text':[]}\n",
    "for article in day:\n",
    "    for x in ['rahul', 'gandhi','congress']:\n",
    "        for row in range(len(day)):\n",
    "            if re.findall(x,day['intro'].str.lower()[row]):\n",
    "                   \n",
    "                \n",
    "                        article_address = day['links'][row]\n",
    "                        print(article_address)\n",
    "                        doc_article = ul.request.urlopen(article_address)\n",
    "                        browser.get(article_address)\n",
    "                        containers = [x.get_attribute('innerHTML') for x in browser.find_elements_by_xpath(\"//div[@class='ins_storybody']\")]\n",
    "                        articles['text'].append(containers)        \n",
    "            text=pd.DataFrame(articles)"
   ]
  },
  {
   "cell_type": "code",
   "execution_count": 12,
   "metadata": {},
   "outputs": [
    {
     "data": {
      "text/plain": [
       "{'text': []}"
      ]
     },
     "execution_count": 12,
     "metadata": {},
     "output_type": "execute_result"
    }
   ],
   "source": [
    "articles"
   ]
  },
  {
   "cell_type": "code",
   "execution_count": 6,
   "metadata": {},
   "outputs": [],
   "source": [
    "def cleanhtml(sentence): #function to clean the word of any html-tags\n",
    "    cleanr = re.compile('<.*?>')\n",
    "    cleantext = re.sub(cleanr, '', sentence)\n",
    "    cleans = re.compile('&nbsp;')\n",
    "    cleantext = re.sub(cleans, '', cleantext)\n",
    "\n",
    "    return cleantext"
   ]
  },
  {
   "cell_type": "code",
   "execution_count": 7,
   "metadata": {},
   "outputs": [],
   "source": [
    "final_text=[]\n",
    "for i in range(len(text)):\n",
    "    final_text.append(cleanhtml(str(text.text[i])))"
   ]
  },
  {
   "cell_type": "code",
   "execution_count": 8,
   "metadata": {},
   "outputs": [],
   "source": [
    "final_text_df = pd.DataFrame(final_text)"
   ]
  },
  {
   "cell_type": "code",
   "execution_count": 9,
   "metadata": {},
   "outputs": [],
   "source": [
    "final_text_df.to_csv('Data_cong.csv', index = False)"
   ]
  },
  {
   "cell_type": "code",
   "execution_count": 10,
   "metadata": {},
   "outputs": [
    {
     "data": {
      "text/html": [
       "<div>\n",
       "<style scoped>\n",
       "    .dataframe tbody tr th:only-of-type {\n",
       "        vertical-align: middle;\n",
       "    }\n",
       "\n",
       "    .dataframe tbody tr th {\n",
       "        vertical-align: top;\n",
       "    }\n",
       "\n",
       "    .dataframe thead th {\n",
       "        text-align: right;\n",
       "    }\n",
       "</style>\n",
       "<table border=\"1\" class=\"dataframe\">\n",
       "  <thead>\n",
       "    <tr style=\"text-align: right;\">\n",
       "      <th></th>\n",
       "    </tr>\n",
       "  </thead>\n",
       "  <tbody>\n",
       "  </tbody>\n",
       "</table>\n",
       "</div>"
      ],
      "text/plain": [
       "Empty DataFrame\n",
       "Columns: []\n",
       "Index: []"
      ]
     },
     "execution_count": 10,
     "metadata": {},
     "output_type": "execute_result"
    }
   ],
   "source": [
    "final_text_df.head()"
   ]
  },
  {
   "cell_type": "code",
   "execution_count": 4,
   "metadata": {},
   "outputs": [],
   "source": [
    "NDTV_Feb12_article = pd.DataFrame(pd.read_csv('NDTV_Feb12_article.csv'))"
   ]
  },
  {
   "cell_type": "code",
   "execution_count": 5,
   "metadata": {},
   "outputs": [],
   "source": [
    "NDTV_Feb13_article = pd.DataFrame(pd.read_csv('NDTV_Feb13_article.csv')) "
   ]
  },
  {
   "cell_type": "code",
   "execution_count": 6,
   "metadata": {},
   "outputs": [],
   "source": [
    "NDTV_Feb14_article = pd.DataFrame(pd.read_csv('NDTV_Feb14_article.csv')) \n",
    "NDTV_March01_article = pd.DataFrame(pd.read_csv('NDTV_March01_article.csv')) \n",
    "NDTV_March02_article = pd.DataFrame(pd.read_csv('NDTV_March02_article.csv')) \n",
    "NDTV_March04_article = pd.DataFrame(pd.read_csv('NDTV_March04_article.csv')) \n",
    "NDTV_March11_article = pd.DataFrame(pd.read_csv('NDTV_March11_article.csv')) \n",
    "NDTV_March12_article = pd.DataFrame(pd.read_csv('NDTV_March12_article.csv')) \n",
    "NDTV_March22_article = pd.DataFrame(pd.read_csv('NDTV_March22_article.csv')) "
   ]
  },
  {
   "cell_type": "code",
   "execution_count": 10,
   "metadata": {},
   "outputs": [],
   "source": [
    "final_data = pd.concat([NDTV_Feb12_article,\n",
    "                       NDTV_Feb14_article,\n",
    "                       NDTV_March01_article,\n",
    "                       NDTV_March02_article,\n",
    "                       NDTV_March04_article,\n",
    "                       NDTV_March11_article,\n",
    "                       NDTV_March12_article,\n",
    "                       NDTV_March22_article])"
   ]
  },
  {
   "cell_type": "code",
   "execution_count": 13,
   "metadata": {},
   "outputs": [
    {
     "data": {
      "text/html": [
       "<div>\n",
       "<style scoped>\n",
       "    .dataframe tbody tr th:only-of-type {\n",
       "        vertical-align: middle;\n",
       "    }\n",
       "\n",
       "    .dataframe tbody tr th {\n",
       "        vertical-align: top;\n",
       "    }\n",
       "\n",
       "    .dataframe thead th {\n",
       "        text-align: right;\n",
       "    }\n",
       "</style>\n",
       "<table border=\"1\" class=\"dataframe\">\n",
       "  <thead>\n",
       "    <tr style=\"text-align: right;\">\n",
       "      <th></th>\n",
       "      <th>0</th>\n",
       "    </tr>\n",
       "  </thead>\n",
       "  <tbody>\n",
       "    <tr>\n",
       "      <th>0</th>\n",
       "      <td>['New Delhi:Congress president Rahul Gandhi Tu...</td>\n",
       "    </tr>\n",
       "    <tr>\n",
       "      <th>1</th>\n",
       "      <td>['PM Modi will lay the foundation stones of fi...</td>\n",
       "    </tr>\n",
       "    <tr>\n",
       "      <th>2</th>\n",
       "      <td>['Agartala:HighlightsMinister Manoj Kanti Deb ...</td>\n",
       "    </tr>\n",
       "    <tr>\n",
       "      <th>3</th>\n",
       "      <td>['Hyderabad:Taking a jibe at Congress Presiden...</td>\n",
       "    </tr>\n",
       "    <tr>\n",
       "      <th>4</th>\n",
       "      <td>['New Delhi:Tamil Nadu\\'s ruling AIADMK, which...</td>\n",
       "    </tr>\n",
       "  </tbody>\n",
       "</table>\n",
       "</div>"
      ],
      "text/plain": [
       "                                                   0\n",
       "0  ['New Delhi:Congress president Rahul Gandhi Tu...\n",
       "1  ['PM Modi will lay the foundation stones of fi...\n",
       "2  ['Agartala:HighlightsMinister Manoj Kanti Deb ...\n",
       "3  ['Hyderabad:Taking a jibe at Congress Presiden...\n",
       "4  ['New Delhi:Tamil Nadu\\'s ruling AIADMK, which..."
      ]
     },
     "execution_count": 13,
     "metadata": {},
     "output_type": "execute_result"
    }
   ],
   "source": [
    "final_data.head()"
   ]
  },
  {
   "cell_type": "code",
   "execution_count": 14,
   "metadata": {},
   "outputs": [],
   "source": [
    "final_data.to_csv('final_data_ca.csv',index=False)"
   ]
  },
  {
   "cell_type": "code",
   "execution_count": null,
   "metadata": {},
   "outputs": [],
   "source": []
  }
 ],
 "metadata": {
  "kernelspec": {
   "display_name": "Python 3",
   "language": "python",
   "name": "python3"
  },
  "language_info": {
   "codemirror_mode": {
    "name": "ipython",
    "version": 3
   },
   "file_extension": ".py",
   "mimetype": "text/x-python",
   "name": "python",
   "nbconvert_exporter": "python",
   "pygments_lexer": "ipython3",
   "version": "3.6.7"
  }
 },
 "nbformat": 4,
 "nbformat_minor": 2
}
