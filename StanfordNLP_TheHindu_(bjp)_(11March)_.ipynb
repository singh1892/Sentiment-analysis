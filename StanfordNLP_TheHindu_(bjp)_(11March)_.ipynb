{
 "cells": [
  {
   "cell_type": "code",
   "execution_count": 1,
   "metadata": {
    "colab": {},
    "colab_type": "code",
    "id": "_fFB5JH7rW8T"
   },
   "outputs": [],
   "source": [
    "from bs4 import BeautifulSoup\n",
    "import urllib as ul\n",
    "from selenium import webdriver\n",
    "import pandas as pd\n",
    "import re\n",
    "from selenium.webdriver.chrome.options import Options\n",
    "opts = Options()\n",
    "opts.add_argument('user-agent=Mozilla/5.0 (Windows NT 10.0; Win64; x64; rv:64.0) Gecko/20100101 Firefox/64.0')"
   ]
  },
  {
   "cell_type": "code",
   "execution_count": 0,
   "metadata": {
    "colab": {},
    "colab_type": "code",
    "id": "JTM4qreSrW8d"
   },
   "outputs": [],
   "source": [
    "import seaborn as sns\n",
    "import spacy\n",
    "from wordcloud import WordCloud"
   ]
  },
  {
   "cell_type": "code",
   "execution_count": 0,
   "metadata": {
    "colab": {},
    "colab_type": "code",
    "id": "ljdt5a-6rW8i"
   },
   "outputs": [],
   "source": [
    "import nltk\n"
   ]
  },
  {
   "cell_type": "code",
   "execution_count": 0,
   "metadata": {
    "colab": {},
    "colab_type": "code",
    "id": "tCsfBG67rW8n"
   },
   "outputs": [],
   "source": [
    "browser = webdriver.Chrome(executable_path='/home/kinshuk/Downloads/chromedriver', options=opts)"
   ]
  },
  {
   "cell_type": "code",
   "execution_count": 0,
   "metadata": {
    "colab": {},
    "colab_type": "code",
    "id": "R2Rm7OWUrW8u",
    "outputId": "a91cc073-5a94-471c-9459-51ab02daa4d2"
   },
   "outputs": [
    {
     "name": "stdout",
     "output_type": "stream",
     "text": [
      "https://www.thehindu.com/news/national/?page=1\n"
     ]
    }
   ],
   "source": [
    "data = {'intro':[],'links':[]}\n",
    "\n",
    "for i in range(1,2):\n",
    "    address='https://www.thehindu.com/news/national/?page='+str(i)\n",
    "    doc = ul.request.urlopen(address)\n",
    "    print(address)\n",
    "    browser.get(address)\n",
    "    containers = [x.get_attribute('innerHTML') for x in browser.find_elements_by_xpath(\"//a[@class='light-gray-color Other-StoryCard-text hidden-xs']\")]\n",
    "    soup = BeautifulSoup(doc,\"lxml\")\n",
    "    links = soup.findAll('div', attrs={'class':'Other-StoryCard'})\n",
    "    for link in links:\n",
    "        data['links'].append(link.find('a').get('href'))\n",
    "    for container in containers:\n",
    "        data['intro'].append(container)\n",
    "        \n",
    "    \n",
    "   \n",
    "    "
   ]
  },
  {
   "cell_type": "code",
   "execution_count": 27,
   "metadata": {
    "colab": {},
    "colab_type": "code",
    "id": "f3XWhfIWrW83"
   },
   "outputs": [],
   "source": [
    "Data_11Mar_hindu=pd.DataFrame(data)\n"
   ]
  },
  {
   "cell_type": "code",
   "execution_count": 28,
   "metadata": {
    "colab": {},
    "colab_type": "code",
    "id": "Zl7-3Oh7rW8_",
    "outputId": "54cf0063-92d3-4c4a-8a08-5f2da66756d8"
   },
   "outputs": [
    {
     "ename": "KeyError",
     "evalue": "'intro'",
     "output_type": "error",
     "traceback": [
      "\u001b[1;31m---------------------------------------------------------------------------\u001b[0m",
      "\u001b[1;31mKeyError\u001b[0m                                  Traceback (most recent call last)",
      "\u001b[1;32m~\\Anaconda3\\lib\\site-packages\\pandas\\core\\indexes\\base.py\u001b[0m in \u001b[0;36mget_loc\u001b[1;34m(self, key, method, tolerance)\u001b[0m\n\u001b[0;32m   3077\u001b[0m             \u001b[1;32mtry\u001b[0m\u001b[1;33m:\u001b[0m\u001b[1;33m\u001b[0m\u001b[1;33m\u001b[0m\u001b[0m\n\u001b[1;32m-> 3078\u001b[1;33m                 \u001b[1;32mreturn\u001b[0m \u001b[0mself\u001b[0m\u001b[1;33m.\u001b[0m\u001b[0m_engine\u001b[0m\u001b[1;33m.\u001b[0m\u001b[0mget_loc\u001b[0m\u001b[1;33m(\u001b[0m\u001b[0mkey\u001b[0m\u001b[1;33m)\u001b[0m\u001b[1;33m\u001b[0m\u001b[1;33m\u001b[0m\u001b[0m\n\u001b[0m\u001b[0;32m   3079\u001b[0m             \u001b[1;32mexcept\u001b[0m \u001b[0mKeyError\u001b[0m\u001b[1;33m:\u001b[0m\u001b[1;33m\u001b[0m\u001b[1;33m\u001b[0m\u001b[0m\n",
      "\u001b[1;32mpandas\\_libs\\index.pyx\u001b[0m in \u001b[0;36mpandas._libs.index.IndexEngine.get_loc\u001b[1;34m()\u001b[0m\n",
      "\u001b[1;32mpandas\\_libs\\index.pyx\u001b[0m in \u001b[0;36mpandas._libs.index.IndexEngine.get_loc\u001b[1;34m()\u001b[0m\n",
      "\u001b[1;32mpandas\\_libs\\hashtable_class_helper.pxi\u001b[0m in \u001b[0;36mpandas._libs.hashtable.PyObjectHashTable.get_item\u001b[1;34m()\u001b[0m\n",
      "\u001b[1;32mpandas\\_libs\\hashtable_class_helper.pxi\u001b[0m in \u001b[0;36mpandas._libs.hashtable.PyObjectHashTable.get_item\u001b[1;34m()\u001b[0m\n",
      "\u001b[1;31mKeyError\u001b[0m: 'intro'",
      "\nDuring handling of the above exception, another exception occurred:\n",
      "\u001b[1;31mKeyError\u001b[0m                                  Traceback (most recent call last)",
      "\u001b[1;32m<ipython-input-28-7b4701f525ef>\u001b[0m in \u001b[0;36m<module>\u001b[1;34m\u001b[0m\n\u001b[1;32m----> 1\u001b[1;33m \u001b[0mData_11Mar_hindu\u001b[0m\u001b[1;33m[\u001b[0m\u001b[1;34m'intro'\u001b[0m\u001b[1;33m]\u001b[0m\u001b[1;33m\u001b[0m\u001b[1;33m\u001b[0m\u001b[0m\n\u001b[0m",
      "\u001b[1;32m~\\Anaconda3\\lib\\site-packages\\pandas\\core\\frame.py\u001b[0m in \u001b[0;36m__getitem__\u001b[1;34m(self, key)\u001b[0m\n\u001b[0;32m   2686\u001b[0m             \u001b[1;32mreturn\u001b[0m \u001b[0mself\u001b[0m\u001b[1;33m.\u001b[0m\u001b[0m_getitem_multilevel\u001b[0m\u001b[1;33m(\u001b[0m\u001b[0mkey\u001b[0m\u001b[1;33m)\u001b[0m\u001b[1;33m\u001b[0m\u001b[1;33m\u001b[0m\u001b[0m\n\u001b[0;32m   2687\u001b[0m         \u001b[1;32melse\u001b[0m\u001b[1;33m:\u001b[0m\u001b[1;33m\u001b[0m\u001b[1;33m\u001b[0m\u001b[0m\n\u001b[1;32m-> 2688\u001b[1;33m             \u001b[1;32mreturn\u001b[0m \u001b[0mself\u001b[0m\u001b[1;33m.\u001b[0m\u001b[0m_getitem_column\u001b[0m\u001b[1;33m(\u001b[0m\u001b[0mkey\u001b[0m\u001b[1;33m)\u001b[0m\u001b[1;33m\u001b[0m\u001b[1;33m\u001b[0m\u001b[0m\n\u001b[0m\u001b[0;32m   2689\u001b[0m \u001b[1;33m\u001b[0m\u001b[0m\n\u001b[0;32m   2690\u001b[0m     \u001b[1;32mdef\u001b[0m \u001b[0m_getitem_column\u001b[0m\u001b[1;33m(\u001b[0m\u001b[0mself\u001b[0m\u001b[1;33m,\u001b[0m \u001b[0mkey\u001b[0m\u001b[1;33m)\u001b[0m\u001b[1;33m:\u001b[0m\u001b[1;33m\u001b[0m\u001b[1;33m\u001b[0m\u001b[0m\n",
      "\u001b[1;32m~\\Anaconda3\\lib\\site-packages\\pandas\\core\\frame.py\u001b[0m in \u001b[0;36m_getitem_column\u001b[1;34m(self, key)\u001b[0m\n\u001b[0;32m   2693\u001b[0m         \u001b[1;31m# get column\u001b[0m\u001b[1;33m\u001b[0m\u001b[1;33m\u001b[0m\u001b[1;33m\u001b[0m\u001b[0m\n\u001b[0;32m   2694\u001b[0m         \u001b[1;32mif\u001b[0m \u001b[0mself\u001b[0m\u001b[1;33m.\u001b[0m\u001b[0mcolumns\u001b[0m\u001b[1;33m.\u001b[0m\u001b[0mis_unique\u001b[0m\u001b[1;33m:\u001b[0m\u001b[1;33m\u001b[0m\u001b[1;33m\u001b[0m\u001b[0m\n\u001b[1;32m-> 2695\u001b[1;33m             \u001b[1;32mreturn\u001b[0m \u001b[0mself\u001b[0m\u001b[1;33m.\u001b[0m\u001b[0m_get_item_cache\u001b[0m\u001b[1;33m(\u001b[0m\u001b[0mkey\u001b[0m\u001b[1;33m)\u001b[0m\u001b[1;33m\u001b[0m\u001b[1;33m\u001b[0m\u001b[0m\n\u001b[0m\u001b[0;32m   2696\u001b[0m \u001b[1;33m\u001b[0m\u001b[0m\n\u001b[0;32m   2697\u001b[0m         \u001b[1;31m# duplicate columns & possible reduce dimensionality\u001b[0m\u001b[1;33m\u001b[0m\u001b[1;33m\u001b[0m\u001b[1;33m\u001b[0m\u001b[0m\n",
      "\u001b[1;32m~\\Anaconda3\\lib\\site-packages\\pandas\\core\\generic.py\u001b[0m in \u001b[0;36m_get_item_cache\u001b[1;34m(self, item)\u001b[0m\n\u001b[0;32m   2487\u001b[0m         \u001b[0mres\u001b[0m \u001b[1;33m=\u001b[0m \u001b[0mcache\u001b[0m\u001b[1;33m.\u001b[0m\u001b[0mget\u001b[0m\u001b[1;33m(\u001b[0m\u001b[0mitem\u001b[0m\u001b[1;33m)\u001b[0m\u001b[1;33m\u001b[0m\u001b[1;33m\u001b[0m\u001b[0m\n\u001b[0;32m   2488\u001b[0m         \u001b[1;32mif\u001b[0m \u001b[0mres\u001b[0m \u001b[1;32mis\u001b[0m \u001b[1;32mNone\u001b[0m\u001b[1;33m:\u001b[0m\u001b[1;33m\u001b[0m\u001b[1;33m\u001b[0m\u001b[0m\n\u001b[1;32m-> 2489\u001b[1;33m             \u001b[0mvalues\u001b[0m \u001b[1;33m=\u001b[0m \u001b[0mself\u001b[0m\u001b[1;33m.\u001b[0m\u001b[0m_data\u001b[0m\u001b[1;33m.\u001b[0m\u001b[0mget\u001b[0m\u001b[1;33m(\u001b[0m\u001b[0mitem\u001b[0m\u001b[1;33m)\u001b[0m\u001b[1;33m\u001b[0m\u001b[1;33m\u001b[0m\u001b[0m\n\u001b[0m\u001b[0;32m   2490\u001b[0m             \u001b[0mres\u001b[0m \u001b[1;33m=\u001b[0m \u001b[0mself\u001b[0m\u001b[1;33m.\u001b[0m\u001b[0m_box_item_values\u001b[0m\u001b[1;33m(\u001b[0m\u001b[0mitem\u001b[0m\u001b[1;33m,\u001b[0m \u001b[0mvalues\u001b[0m\u001b[1;33m)\u001b[0m\u001b[1;33m\u001b[0m\u001b[1;33m\u001b[0m\u001b[0m\n\u001b[0;32m   2491\u001b[0m             \u001b[0mcache\u001b[0m\u001b[1;33m[\u001b[0m\u001b[0mitem\u001b[0m\u001b[1;33m]\u001b[0m \u001b[1;33m=\u001b[0m \u001b[0mres\u001b[0m\u001b[1;33m\u001b[0m\u001b[1;33m\u001b[0m\u001b[0m\n",
      "\u001b[1;32m~\\Anaconda3\\lib\\site-packages\\pandas\\core\\internals.py\u001b[0m in \u001b[0;36mget\u001b[1;34m(self, item, fastpath)\u001b[0m\n\u001b[0;32m   4113\u001b[0m \u001b[1;33m\u001b[0m\u001b[0m\n\u001b[0;32m   4114\u001b[0m             \u001b[1;32mif\u001b[0m \u001b[1;32mnot\u001b[0m \u001b[0misna\u001b[0m\u001b[1;33m(\u001b[0m\u001b[0mitem\u001b[0m\u001b[1;33m)\u001b[0m\u001b[1;33m:\u001b[0m\u001b[1;33m\u001b[0m\u001b[1;33m\u001b[0m\u001b[0m\n\u001b[1;32m-> 4115\u001b[1;33m                 \u001b[0mloc\u001b[0m \u001b[1;33m=\u001b[0m \u001b[0mself\u001b[0m\u001b[1;33m.\u001b[0m\u001b[0mitems\u001b[0m\u001b[1;33m.\u001b[0m\u001b[0mget_loc\u001b[0m\u001b[1;33m(\u001b[0m\u001b[0mitem\u001b[0m\u001b[1;33m)\u001b[0m\u001b[1;33m\u001b[0m\u001b[1;33m\u001b[0m\u001b[0m\n\u001b[0m\u001b[0;32m   4116\u001b[0m             \u001b[1;32melse\u001b[0m\u001b[1;33m:\u001b[0m\u001b[1;33m\u001b[0m\u001b[1;33m\u001b[0m\u001b[0m\n\u001b[0;32m   4117\u001b[0m                 \u001b[0mindexer\u001b[0m \u001b[1;33m=\u001b[0m \u001b[0mnp\u001b[0m\u001b[1;33m.\u001b[0m\u001b[0marange\u001b[0m\u001b[1;33m(\u001b[0m\u001b[0mlen\u001b[0m\u001b[1;33m(\u001b[0m\u001b[0mself\u001b[0m\u001b[1;33m.\u001b[0m\u001b[0mitems\u001b[0m\u001b[1;33m)\u001b[0m\u001b[1;33m)\u001b[0m\u001b[1;33m[\u001b[0m\u001b[0misna\u001b[0m\u001b[1;33m(\u001b[0m\u001b[0mself\u001b[0m\u001b[1;33m.\u001b[0m\u001b[0mitems\u001b[0m\u001b[1;33m)\u001b[0m\u001b[1;33m]\u001b[0m\u001b[1;33m\u001b[0m\u001b[1;33m\u001b[0m\u001b[0m\n",
      "\u001b[1;32m~\\Anaconda3\\lib\\site-packages\\pandas\\core\\indexes\\base.py\u001b[0m in \u001b[0;36mget_loc\u001b[1;34m(self, key, method, tolerance)\u001b[0m\n\u001b[0;32m   3078\u001b[0m                 \u001b[1;32mreturn\u001b[0m \u001b[0mself\u001b[0m\u001b[1;33m.\u001b[0m\u001b[0m_engine\u001b[0m\u001b[1;33m.\u001b[0m\u001b[0mget_loc\u001b[0m\u001b[1;33m(\u001b[0m\u001b[0mkey\u001b[0m\u001b[1;33m)\u001b[0m\u001b[1;33m\u001b[0m\u001b[1;33m\u001b[0m\u001b[0m\n\u001b[0;32m   3079\u001b[0m             \u001b[1;32mexcept\u001b[0m \u001b[0mKeyError\u001b[0m\u001b[1;33m:\u001b[0m\u001b[1;33m\u001b[0m\u001b[1;33m\u001b[0m\u001b[0m\n\u001b[1;32m-> 3080\u001b[1;33m                 \u001b[1;32mreturn\u001b[0m \u001b[0mself\u001b[0m\u001b[1;33m.\u001b[0m\u001b[0m_engine\u001b[0m\u001b[1;33m.\u001b[0m\u001b[0mget_loc\u001b[0m\u001b[1;33m(\u001b[0m\u001b[0mself\u001b[0m\u001b[1;33m.\u001b[0m\u001b[0m_maybe_cast_indexer\u001b[0m\u001b[1;33m(\u001b[0m\u001b[0mkey\u001b[0m\u001b[1;33m)\u001b[0m\u001b[1;33m)\u001b[0m\u001b[1;33m\u001b[0m\u001b[1;33m\u001b[0m\u001b[0m\n\u001b[0m\u001b[0;32m   3081\u001b[0m \u001b[1;33m\u001b[0m\u001b[0m\n\u001b[0;32m   3082\u001b[0m         \u001b[0mindexer\u001b[0m \u001b[1;33m=\u001b[0m \u001b[0mself\u001b[0m\u001b[1;33m.\u001b[0m\u001b[0mget_indexer\u001b[0m\u001b[1;33m(\u001b[0m\u001b[1;33m[\u001b[0m\u001b[0mkey\u001b[0m\u001b[1;33m]\u001b[0m\u001b[1;33m,\u001b[0m \u001b[0mmethod\u001b[0m\u001b[1;33m=\u001b[0m\u001b[0mmethod\u001b[0m\u001b[1;33m,\u001b[0m \u001b[0mtolerance\u001b[0m\u001b[1;33m=\u001b[0m\u001b[0mtolerance\u001b[0m\u001b[1;33m)\u001b[0m\u001b[1;33m\u001b[0m\u001b[1;33m\u001b[0m\u001b[0m\n",
      "\u001b[1;32mpandas\\_libs\\index.pyx\u001b[0m in \u001b[0;36mpandas._libs.index.IndexEngine.get_loc\u001b[1;34m()\u001b[0m\n",
      "\u001b[1;32mpandas\\_libs\\index.pyx\u001b[0m in \u001b[0;36mpandas._libs.index.IndexEngine.get_loc\u001b[1;34m()\u001b[0m\n",
      "\u001b[1;32mpandas\\_libs\\hashtable_class_helper.pxi\u001b[0m in \u001b[0;36mpandas._libs.hashtable.PyObjectHashTable.get_item\u001b[1;34m()\u001b[0m\n",
      "\u001b[1;32mpandas\\_libs\\hashtable_class_helper.pxi\u001b[0m in \u001b[0;36mpandas._libs.hashtable.PyObjectHashTable.get_item\u001b[1;34m()\u001b[0m\n",
      "\u001b[1;31mKeyError\u001b[0m: 'intro'"
     ]
    }
   ],
   "source": [
    "Data_11Mar_hindu['intro']"
   ]
  },
  {
   "cell_type": "code",
   "execution_count": 0,
   "metadata": {
    "colab": {},
    "colab_type": "code",
    "id": "ps_9kpSurW9G"
   },
   "outputs": [],
   "source": [
    "Data_08Mar_hindu.to_csv('Data_08Mar_hindu.csv', index = False)"
   ]
  },
  {
   "cell_type": "code",
   "execution_count": 0,
   "metadata": {
    "colab": {},
    "colab_type": "code",
    "id": "TqijFQXPrW9K",
    "outputId": "5ff83f7d-f26a-4810-afc2-d93ddeaf0ff5"
   },
   "outputs": [
    {
     "name": "stdout",
     "output_type": "stream",
     "text": [
      "https://www.thehindu.com/news/national/bjp-relying-on-nationalism-and-ignoring-development-as-poll-issue-mayawati/article26493404.ece\n",
      "https://www.thehindu.com/news/national/mehul-choksi-trying-to-set-up-firm-in-uk-congress/article26488451.ece\n",
      "https://www.thehindu.com/news/national/rahul-gandhi-changes-tack-on-pulwama-attack/article26488144.ece\n",
      "https://www.thehindu.com/news/national/enough-is-enough-we-cannot-keep-suffering-till-eternity-narendra-modi/article26486063.ece\n",
      "https://www.thehindu.com/news/national/cbi-willing-to-extend-help-to-uk-for-nirav-modis-extradition/article26483077.ece\n",
      "https://www.thehindu.com/news/national/ed-working-on-initiating-legal-proceedings-against-nirav-modi-in-uk-sources/article26480118.ece\n",
      "https://www.thehindu.com/news/national/bjp-relying-on-nationalism-and-ignoring-development-as-poll-issue-mayawati/article26493404.ece\n",
      "https://www.thehindu.com/news/national/bjp-turning-kashmir-into-a-theatre-of-war-mehbooba-mufti/article26483269.ece\n",
      "https://www.thehindu.com/news/national/bjp-relying-on-nationalism-and-ignoring-development-as-poll-issue-mayawati/article26493404.ece\n",
      "https://www.thehindu.com/news/national/mehul-choksi-trying-to-set-up-firm-in-uk-congress/article26488451.ece\n",
      "https://www.thehindu.com/news/national/rahul-gandhi-changes-tack-on-pulwama-attack/article26488144.ece\n",
      "https://www.thehindu.com/news/national/enough-is-enough-we-cannot-keep-suffering-till-eternity-narendra-modi/article26486063.ece\n",
      "https://www.thehindu.com/news/national/bjp-relying-on-nationalism-and-ignoring-development-as-poll-issue-mayawati/article26493404.ece\n",
      "https://www.thehindu.com/news/national/mehul-choksi-trying-to-set-up-firm-in-uk-congress/article26488451.ece\n",
      "https://www.thehindu.com/news/national/rahul-gandhi-changes-tack-on-pulwama-attack/article26488144.ece\n",
      "https://www.thehindu.com/news/national/enough-is-enough-we-cannot-keep-suffering-till-eternity-narendra-modi/article26486063.ece\n",
      "https://www.thehindu.com/news/national/cbi-willing-to-extend-help-to-uk-for-nirav-modis-extradition/article26483077.ece\n",
      "https://www.thehindu.com/news/national/ed-working-on-initiating-legal-proceedings-against-nirav-modi-in-uk-sources/article26480118.ece\n",
      "https://www.thehindu.com/news/national/bjp-relying-on-nationalism-and-ignoring-development-as-poll-issue-mayawati/article26493404.ece\n",
      "https://www.thehindu.com/news/national/bjp-turning-kashmir-into-a-theatre-of-war-mehbooba-mufti/article26483269.ece\n",
      "https://www.thehindu.com/news/national/bjp-relying-on-nationalism-and-ignoring-development-as-poll-issue-mayawati/article26493404.ece\n",
      "https://www.thehindu.com/news/national/mehul-choksi-trying-to-set-up-firm-in-uk-congress/article26488451.ece\n",
      "https://www.thehindu.com/news/national/rahul-gandhi-changes-tack-on-pulwama-attack/article26488144.ece\n",
      "https://www.thehindu.com/news/national/enough-is-enough-we-cannot-keep-suffering-till-eternity-narendra-modi/article26486063.ece\n"
     ]
    }
   ],
   "source": [
    "day =Data_11Mar_hindu\n",
    "\n",
    "articles={'text':[]}\n",
    "for article in day:\n",
    "    for x in ['modi', 'bjp', 'narendra', 'amit shah']:\n",
    "        for row in range(len(day)):\n",
    "            if re.findall(x,day['intro'].str.lower()[row]):\n",
    "                   \n",
    "                try:\n",
    "                        article_address = day['links'][row]\n",
    "                        print(article_address)\n",
    "                        doc_article = ul.request.urlopen(article_address)\n",
    "                        browser.get(article_address)\n",
    "                        containers = [x.get_attribute('innerHTML') for x in browser.find_elements_by_xpath(\"//div[@class='_yeti_done']\")]\n",
    "                        #containers1 = [x.get_attribute('innerHTML') for x in containers.(\"//p\")]\n",
    "                        articles['text'].append(containers)\n",
    "                       # for link in links:\n",
    "                        #print(link.find('p').get(\"\"))              \n",
    "\n",
    "                except:\n",
    "                    continue\n",
    "            \n",
    "            text=pd.DataFrame(articles)"
   ]
  },
  {
   "cell_type": "code",
   "execution_count": 0,
   "metadata": {
    "colab": {},
    "colab_type": "code",
    "id": "kc0svbcdrW9U"
   },
   "outputs": [],
   "source": [
    "#function to clean the text of any html-tags\n",
    "def cleanhtml(sentence): \n",
    "    cleanr = re.compile('<.*?>')\n",
    "    cleantext = re.sub(cleanr, '', sentence)\n",
    "    cleans = re.compile('&nbsp;')\n",
    "    cleantext = re.sub(cleans, '', cleantext)\n",
    "\n",
    "    return cleantext"
   ]
  },
  {
   "cell_type": "code",
   "execution_count": 0,
   "metadata": {
    "colab": {},
    "colab_type": "code",
    "id": "ZgOZ-EsJrW9a",
    "outputId": "0f6507e4-1fb5-4dce-bb9b-e8c8a2af4d78"
   },
   "outputs": [
    {
     "ename": "AttributeError",
     "evalue": "'str' object has no attribute 'text'",
     "output_type": "error",
     "traceback": [
      "\u001b[0;31m---------------------------------------------------------------------------\u001b[0m",
      "\u001b[0;31mAttributeError\u001b[0m                            Traceback (most recent call last)",
      "\u001b[0;32m<ipython-input-95-5bdfa8803ede>\u001b[0m in \u001b[0;36m<module>\u001b[0;34m\u001b[0m\n\u001b[1;32m      1\u001b[0m \u001b[0mfinal_text\u001b[0m\u001b[0;34m=\u001b[0m\u001b[0;34m[\u001b[0m\u001b[0;34m]\u001b[0m\u001b[0;34m\u001b[0m\u001b[0;34m\u001b[0m\u001b[0m\n\u001b[1;32m      2\u001b[0m \u001b[0;32mfor\u001b[0m \u001b[0mi\u001b[0m \u001b[0;32min\u001b[0m \u001b[0mrange\u001b[0m\u001b[0;34m(\u001b[0m\u001b[0mlen\u001b[0m\u001b[0;34m(\u001b[0m\u001b[0mtext\u001b[0m\u001b[0;34m)\u001b[0m\u001b[0;34m)\u001b[0m\u001b[0;34m:\u001b[0m\u001b[0;34m\u001b[0m\u001b[0;34m\u001b[0m\u001b[0m\n\u001b[0;32m----> 3\u001b[0;31m     \u001b[0mfinal_text\u001b[0m\u001b[0;34m.\u001b[0m\u001b[0mappend\u001b[0m\u001b[0;34m(\u001b[0m\u001b[0mcleanhtml\u001b[0m\u001b[0;34m(\u001b[0m\u001b[0mstr\u001b[0m\u001b[0;34m(\u001b[0m\u001b[0mtext\u001b[0m\u001b[0;34m.\u001b[0m\u001b[0mtext\u001b[0m\u001b[0;34m[\u001b[0m\u001b[0mi\u001b[0m\u001b[0;34m]\u001b[0m\u001b[0;34m)\u001b[0m\u001b[0;34m)\u001b[0m\u001b[0;34m)\u001b[0m\u001b[0;34m\u001b[0m\u001b[0;34m\u001b[0m\u001b[0m\n\u001b[0m",
      "\u001b[0;31mAttributeError\u001b[0m: 'str' object has no attribute 'text'"
     ]
    }
   ],
   "source": [
    "final_text=[]\n",
    "for i in range(len(text)):\n",
    "    final_text.append(cleanhtml(str(text.text[i])))"
   ]
  },
  {
   "cell_type": "code",
   "execution_count": 22,
   "metadata": {
    "colab": {},
    "colab_type": "code",
    "id": "uXmlbv4HrW9q",
    "outputId": "87c78cae-bea2-4310-ba2c-82ea761975ce",
    "scrolled": false
   },
   "outputs": [],
   "source": [
    "data = pd.DataFrame(pd.read_csv('NDTV_Feb12_article.csv'))"
   ]
  },
  {
   "cell_type": "code",
   "execution_count": 25,
   "metadata": {},
   "outputs": [
    {
     "data": {
      "text/html": [
       "<div>\n",
       "<style scoped>\n",
       "    .dataframe tbody tr th:only-of-type {\n",
       "        vertical-align: middle;\n",
       "    }\n",
       "\n",
       "    .dataframe tbody tr th {\n",
       "        vertical-align: top;\n",
       "    }\n",
       "\n",
       "    .dataframe thead th {\n",
       "        text-align: right;\n",
       "    }\n",
       "</style>\n",
       "<table border=\"1\" class=\"dataframe\">\n",
       "  <thead>\n",
       "    <tr style=\"text-align: right;\">\n",
       "      <th></th>\n",
       "      <th>0</th>\n",
       "    </tr>\n",
       "  </thead>\n",
       "  <tbody>\n",
       "    <tr>\n",
       "      <th>0</th>\n",
       "      <td>['New Delhi:Congress president Rahul Gandhi Tu...</td>\n",
       "    </tr>\n",
       "    <tr>\n",
       "      <th>1</th>\n",
       "      <td>['PM Modi will lay the foundation stones of fi...</td>\n",
       "    </tr>\n",
       "    <tr>\n",
       "      <th>2</th>\n",
       "      <td>['Agartala:HighlightsMinister Manoj Kanti Deb ...</td>\n",
       "    </tr>\n",
       "    <tr>\n",
       "      <th>3</th>\n",
       "      <td>['Hyderabad:Taking a jibe at Congress Presiden...</td>\n",
       "    </tr>\n",
       "    <tr>\n",
       "      <th>4</th>\n",
       "      <td>['New Delhi:Tamil Nadu\\'s ruling AIADMK, which...</td>\n",
       "    </tr>\n",
       "  </tbody>\n",
       "</table>\n",
       "</div>"
      ],
      "text/plain": [
       "                                                   0\n",
       "0  ['New Delhi:Congress president Rahul Gandhi Tu...\n",
       "1  ['PM Modi will lay the foundation stones of fi...\n",
       "2  ['Agartala:HighlightsMinister Manoj Kanti Deb ...\n",
       "3  ['Hyderabad:Taking a jibe at Congress Presiden...\n",
       "4  ['New Delhi:Tamil Nadu\\'s ruling AIADMK, which..."
      ]
     },
     "execution_count": 25,
     "metadata": {},
     "output_type": "execute_result"
    }
   ],
   "source": [
    "data.head()"
   ]
  },
  {
   "cell_type": "code",
   "execution_count": 0,
   "metadata": {
    "colab": {},
    "colab_type": "code",
    "id": "Z4iSy-R-rW9z"
   },
   "outputs": [],
   "source": [
    "df_news = pd.DataFrame(final_text)"
   ]
  },
  {
   "cell_type": "code",
   "execution_count": 9,
   "metadata": {
    "colab": {},
    "colab_type": "code",
    "id": "R7GgF0q1rW93"
   },
   "outputs": [],
   "source": [
    "df_news = pd.DataFrame(pd.read_csv('final_data_ca.csv'))"
   ]
  },
  {
   "cell_type": "code",
   "execution_count": 10,
   "metadata": {
    "colab": {},
    "colab_type": "code",
    "id": "xvV3EA4WrW9-"
   },
   "outputs": [],
   "source": [
    "df_news.columns = ['text']"
   ]
  },
  {
   "cell_type": "code",
   "execution_count": 11,
   "metadata": {
    "colab": {},
    "colab_type": "code",
    "id": "NOXq34XprW-F",
    "outputId": "680d17cf-5b4e-4f1a-9d25-0d26ffbb653b"
   },
   "outputs": [
    {
     "data": {
      "text/html": [
       "<div>\n",
       "<style scoped>\n",
       "    .dataframe tbody tr th:only-of-type {\n",
       "        vertical-align: middle;\n",
       "    }\n",
       "\n",
       "    .dataframe tbody tr th {\n",
       "        vertical-align: top;\n",
       "    }\n",
       "\n",
       "    .dataframe thead th {\n",
       "        text-align: right;\n",
       "    }\n",
       "</style>\n",
       "<table border=\"1\" class=\"dataframe\">\n",
       "  <thead>\n",
       "    <tr style=\"text-align: right;\">\n",
       "      <th></th>\n",
       "      <th>text</th>\n",
       "    </tr>\n",
       "  </thead>\n",
       "  <tbody>\n",
       "    <tr>\n",
       "      <th>0</th>\n",
       "      <td>['New Delhi:Congress president Rahul Gandhi Tu...</td>\n",
       "    </tr>\n",
       "    <tr>\n",
       "      <th>1</th>\n",
       "      <td>['PM Modi will lay the foundation stones of fi...</td>\n",
       "    </tr>\n",
       "    <tr>\n",
       "      <th>2</th>\n",
       "      <td>['Agartala:HighlightsMinister Manoj Kanti Deb ...</td>\n",
       "    </tr>\n",
       "    <tr>\n",
       "      <th>3</th>\n",
       "      <td>['Hyderabad:Taking a jibe at Congress Presiden...</td>\n",
       "    </tr>\n",
       "    <tr>\n",
       "      <th>4</th>\n",
       "      <td>['New Delhi:Tamil Nadu\\'s ruling AIADMK, which...</td>\n",
       "    </tr>\n",
       "  </tbody>\n",
       "</table>\n",
       "</div>"
      ],
      "text/plain": [
       "                                                text\n",
       "0  ['New Delhi:Congress president Rahul Gandhi Tu...\n",
       "1  ['PM Modi will lay the foundation stones of fi...\n",
       "2  ['Agartala:HighlightsMinister Manoj Kanti Deb ...\n",
       "3  ['Hyderabad:Taking a jibe at Congress Presiden...\n",
       "4  ['New Delhi:Tamil Nadu\\'s ruling AIADMK, which..."
      ]
     },
     "execution_count": 11,
     "metadata": {},
     "output_type": "execute_result"
    }
   ],
   "source": [
    "df_news.head()"
   ]
  },
  {
   "cell_type": "code",
   "execution_count": 12,
   "metadata": {
    "colab": {},
    "colab_type": "code",
    "id": "IKpudmDIrW-R"
   },
   "outputs": [],
   "source": [
    "replace_1 = re.compile(\"(\\;)|(\\:)|(\\!)|(\\')|(\\?)|(\\,)|(\\\")|(\\()|(\\))|(\\[)|(\\])\")\n",
    "replace_2 = re.compile(\"(<br\\s*/><br\\s*/>)|(\\-)|(\\/)\")\n",
    "\n",
    "# function to clean text data\n",
    "def clean_reviews(reviews):\n",
    "    reviews = [replace_1.sub(\"\", line.lower()) for line in reviews]\n",
    "    reviews = [replace_2.sub(\" \", line) for line in reviews]\n",
    "    return reviews"
   ]
  },
  {
   "cell_type": "code",
   "execution_count": 13,
   "metadata": {
    "colab": {},
    "colab_type": "code",
    "id": "tD7EIb1SrW-X"
   },
   "outputs": [],
   "source": [
    "df_news['text'] = clean_reviews(df_news['text'])"
   ]
  },
  {
   "cell_type": "code",
   "execution_count": 14,
   "metadata": {
    "colab": {},
    "colab_type": "code",
    "id": "9Fq1YdhMrW-l"
   },
   "outputs": [],
   "source": [
    "for i in range(len(df_news)):\n",
    "    df_news['text'][i] = df_news['text'][i].replace('\\\\n', \"\")"
   ]
  },
  {
   "cell_type": "code",
   "execution_count": 15,
   "metadata": {
    "colab": {},
    "colab_type": "code",
    "id": "WevIz2kgrW-q",
    "outputId": "3a7f8375-77b0-4a84-a2b7-c60418f0dedc"
   },
   "outputs": [
    {
     "data": {
      "text/plain": [
       "'new delhicongress president rahul gandhi tuesday accused prime minister narendra modi of acting as a middleman of anil ambani in the rafale jet deal as he cited an e mail to claim the businessman was aware of the mou memorandum of understanding before india and france signed it. mr gandhi\\\\s scathing attack onpm modi on the rafale fighter jet deal comes a day after repeating his allegation of corruption in the 36 jet deal. the prime ministeris acting as anil ambani\\\\s middleman mr gandhi said.national security has been compromised. an mou memorandum of understanding is known to a businessman before it is drafted before anybody else. like i said the prime ministerhas done something that spies do he said addressing a press conference.anil ambani had met the french defence minister days before the signing of the deal during pm modi\\\\s visit to france in 2015 rahul gandhi said quoting from an e mail written by an airbus executive to a french official.the congress president also rejected the national auditor cag or comptroller and auditor general report on the rafale deal and dubbed it chowkidar auditor general report.the congress alleges that the government finalised an overpriced deal for 36 rafale fighter jets at an inflated price to benefit anil ambani whose inexperienced defence firm was recommended as an offset partner for dassault the company manufacturing the aircraft. both dassault and the government have denied the allegations.yesterday rahul gandhi met andhra pradesh chief minister n chandrababu naidu who was on a day long fast in the capital to express his solidarity with mr naidu over his demand for special status for andhra pradesh the prime minister became prime minister saying he will fight corruption. have you read today\\\\s hindu it is very clear in today\\\\s monday\\\\s hindu article that the pm removed the anti corruption clause. every defence deal has an anti corruption clause he said said rahul gandhi once again prompting the gathering at mr naidu\\\\s protest at andhra bhawan to say chowkidar chor hai. commentdisclaimer ndtv has been sued for 10000 crores by anil ambani\\\\s reliance group for its coverage of the rafale deal'"
      ]
     },
     "execution_count": 15,
     "metadata": {},
     "output_type": "execute_result"
    }
   ],
   "source": [
    "df_news.text[0]"
   ]
  },
  {
   "cell_type": "code",
   "execution_count": 17,
   "metadata": {
    "colab": {},
    "colab_type": "code",
    "id": "9ye9ROO0rW-x"
   },
   "outputs": [
    {
     "data": {
      "text/plain": [
       "(1774, 1)"
      ]
     },
     "execution_count": 17,
     "metadata": {},
     "output_type": "execute_result"
    }
   ],
   "source": [
    "df_news.shape"
   ]
  },
  {
   "cell_type": "code",
   "execution_count": 19,
   "metadata": {},
   "outputs": [],
   "source": [
    "df1 = df_news.drop_duplicates()"
   ]
  },
  {
   "cell_type": "code",
   "execution_count": 20,
   "metadata": {},
   "outputs": [
    {
     "data": {
      "text/plain": [
       "(646, 1)"
      ]
     },
     "execution_count": 20,
     "metadata": {},
     "output_type": "execute_result"
    }
   ],
   "source": [
    "df1.shape"
   ]
  },
  {
   "cell_type": "code",
   "execution_count": 21,
   "metadata": {},
   "outputs": [],
   "source": [
    "df1.to_csv('Removed_duplicates.csv',index=False)"
   ]
  },
  {
   "cell_type": "code",
   "execution_count": 18,
   "metadata": {},
   "outputs": [],
   "source": [
    "df_news.to_csv('FINAL_CLEANED.csv',index=False)"
   ]
  },
  {
   "cell_type": "code",
   "execution_count": 0,
   "metadata": {
    "colab": {},
    "colab_type": "code",
    "id": "jaPd-wCwrW-1",
    "outputId": "01219049-c8d2-432a-cf30-4151663be6f4"
   },
   "outputs": [
    {
     "data": {
      "text/plain": [
       "0    andhra pradesh chief minister n chandrababu na...\n",
       "1    prime minister narendra modi on tuesday launch...\n",
       "2     prime minister narendra modi on monday got ‘k...\n",
       "3    congress president rahul gandhi on monday accu...\n",
       "4     bahujan samaj party chief mayawati on sunday ...\n",
       "Name: text, dtype: object"
      ]
     },
     "execution_count": 33,
     "metadata": {
      "tags": []
     },
     "output_type": "execute_result"
    }
   ],
   "source": [
    "news=df_news['text'].copy()\n",
    "\n",
    "news.head()"
   ]
  },
  {
   "cell_type": "code",
   "execution_count": 0,
   "metadata": {
    "colab": {},
    "colab_type": "code",
    "id": "Us4bCZqsrW-7"
   },
   "outputs": [],
   "source": [
    "clean_news = df_news['news_cleaned'].copy()"
   ]
  },
  {
   "cell_type": "code",
   "execution_count": 0,
   "metadata": {
    "colab": {},
    "colab_type": "code",
    "id": "YDKJ61a8rW-_",
    "outputId": "260b831f-cfe1-4aea-ab8d-4c0ee753c23d"
   },
   "outputs": [
    {
     "data": {
      "text/plain": [
       "0    andhra pradesh chief minister chandrababu naid...\n",
       "1    prime minister narendra modi tuesday launched ...\n",
       "2    prime minister narendra modi monday got kochi’...\n",
       "3    congress president rahul gandhi monday accused...\n",
       "4    bahujan samaj party chief mayawati sunday accu...\n",
       "Name: news_cleaned, dtype: object"
      ]
     },
     "execution_count": 35,
     "metadata": {
      "tags": []
     },
     "output_type": "execute_result"
    }
   ],
   "source": [
    "clean_news.head()"
   ]
  },
  {
   "cell_type": "code",
   "execution_count": 0,
   "metadata": {
    "colab": {},
    "colab_type": "code",
    "id": "RCb65ExirW_H"
   },
   "outputs": [],
   "source": [
    "tokenize_pattern = \"[A-Za-z-']+\"\n",
    "\n",
    "tokenizer = nltk.tokenize.RegexpTokenizer(pattern=tokenize_pattern)\n",
    "news_tokens = [tokenizer.tokenize(rev.lower()) for rev in news]\n",
    "\n"
   ]
  },
  {
   "cell_type": "markdown",
   "metadata": {
    "colab_type": "text",
    "id": "ylBsErbvrW_N"
   },
   "source": [
    "# TOPIC Extraction"
   ]
  },
  {
   "cell_type": "code",
   "execution_count": 0,
   "metadata": {
    "colab": {},
    "colab_type": "code",
    "id": "_GqChGa3rW_Q"
   },
   "outputs": [],
   "source": [
    "import numpy as np\n",
    "hm = np.array([[y for (x,y) in lsi_model[news_corpora[i]]] for i in range(len(news_corpora))])\n",
    "\n",
    "tsne = TSNE(random_state=2017, perplexity=30)\n",
    "tsne_embedding = tsne.fit_transform(hm)\n",
    "tsne_embedding = pd.DataFrame(tsne_embedding, columns=['x','y'])\n",
    "tsne_embedding['hue'] = hm.argmax(axis=1)\n"
   ]
  },
  {
   "cell_type": "markdown",
   "metadata": {
    "colab_type": "text",
    "id": "-58BfyFsrW_W"
   },
   "source": [
    "# Redefining some of the fucntions for NLP STANFORD"
   ]
  },
  {
   "cell_type": "code",
   "execution_count": 0,
   "metadata": {
    "colab": {},
    "colab_type": "code",
    "id": "SpzyDbzfrW_X"
   },
   "outputs": [],
   "source": [
    "#supply clean_news line by line to the NLP server to get a faster output\n"
   ]
  },
  {
   "cell_type": "code",
   "execution_count": 0,
   "metadata": {
    "colab": {},
    "colab_type": "code",
    "id": "pf5RQ8bFrW_d"
   },
   "outputs": [],
   "source": []
  },
  {
   "cell_type": "code",
   "execution_count": 0,
   "metadata": {
    "colab": {},
    "colab_type": "code",
    "id": "17J2hMH3rW_k"
   },
   "outputs": [],
   "source": []
  },
  {
   "cell_type": "code",
   "execution_count": 0,
   "metadata": {
    "colab": {},
    "colab_type": "code",
    "id": "N0Ob45A-rW_o"
   },
   "outputs": [],
   "source": []
  },
  {
   "cell_type": "code",
   "execution_count": 0,
   "metadata": {
    "colab": {},
    "colab_type": "code",
    "id": "G6oirdxtrW_t"
   },
   "outputs": [],
   "source": []
  },
  {
   "cell_type": "code",
   "execution_count": 0,
   "metadata": {
    "colab": {},
    "colab_type": "code",
    "id": "3o2NfLFKrW_z"
   },
   "outputs": [],
   "source": []
  },
  {
   "cell_type": "code",
   "execution_count": 0,
   "metadata": {
    "colab": {},
    "colab_type": "code",
    "id": "BQZJ3epmrW_5"
   },
   "outputs": [],
   "source": []
  },
  {
   "cell_type": "code",
   "execution_count": 0,
   "metadata": {
    "colab": {},
    "colab_type": "code",
    "id": "ggNnKxphrW_8"
   },
   "outputs": [],
   "source": []
  },
  {
   "cell_type": "code",
   "execution_count": 0,
   "metadata": {
    "colab": {},
    "colab_type": "code",
    "id": "SSms7iX3rXAE"
   },
   "outputs": [],
   "source": []
  },
  {
   "cell_type": "code",
   "execution_count": 0,
   "metadata": {
    "colab": {},
    "colab_type": "code",
    "id": "zy6SsuUZrXAK"
   },
   "outputs": [],
   "source": [
    "from pycorenlp import StanfordCoreNLP\n",
    "nlp = StanfordCoreNLP('http://localhost:9000')"
   ]
  },
  {
   "cell_type": "code",
   "execution_count": 0,
   "metadata": {
    "colab": {},
    "colab_type": "code",
    "id": "ogLs6EsbrXAO",
    "outputId": "5779bb1e-e310-4372-cf31-3f91982a1aad"
   },
   "outputs": [
    {
     "name": "stdout",
     "output_type": "stream",
     "text": [
      "0: 'bahujan samaj party president mayawati on march 11 accused the narendra modi led bjp of ignoring development and relying on nationalism and national security as poll issues for lok sabha 2019 .': 1 Negative\n",
      "1: 'pvikas agenda gone voters apathy is palpable ms. mayawati tweeted .': 1 Negative\n",
      "2: 'pshe said bjp relying on nationalism & amp national security as ls poll issue ignoring much touted issue of vikas .': 1 Negative\n",
      "3: 'no problem but bjp first satisfy masses what happened to poll promise of achche din to crores of poor labourers farmers unemployed .': 1 Negative\n",
      "4: 'p': 2 Neutral\n",
      "0: 'the congress on sunday claimed that mehul choksi the fugitive diamond trader and alleged mastermind of the multicrore punjab national bank scam had applied for a new company in the u.k. on march 7 and asked if the government of india was aware of it .': 1 Negative\n",
      "1: 'pcongress spokesperson pawan khera addressing a press conference here questioned the `` seriousness of the government of india 's extradition efforts '' .': 1 Negative\n",
      "2: 'the congress also released documents to support their claim .': 1 Negative\n",
      "3: 'pmr .': 2 Neutral\n",
      "4: 'choksi fled india last year after the scam was unearthed and has taken up citizenship of antigua and barbuda .': 1 Negative\n",
      "5: 'pmr .': 2 Neutral\n",
      "6: 'khera also asked if it was a coincidence that mehul choksi 's business partner nirav modi was seen roaming freely in london just when a `` shell company '' was being registered in london .': 1 Negative\n",
      "7: 'pthe congress spokesperson said mr. choksi while applying for a registration in the u.k. mentioned the company 's principal address in dubai uae .': 1 Negative\n",
      "8: 'he also alleged that a `` powerful person '' who benefited from mr. choksi was protecting him .': 1 Negative\n",
      "9: '`` who has benefited from choksi and who is this important powerful man who is saving him .': 3 Positive\n",
      "10: 'why the modi government applied for extradition of choksi from antigua with which india has no extradition treaty '' he asked .': 1 Negative\n",
      "11: 'pmr .': 2 Neutral\n",
      "12: 'choksi along with his nephew nirav modi is accused of defrauding the state run punjab national bank of ₹ 13000 crore .': 1 Negative\n",
      "13: 'mr choksi fled the country last year after the scam was unearthed and has taken up citizenship of antigua and barbuda .': 1 Negative\n",
      "14: 'pnirav modi was tracked down to a luxury apartment in london by the english newspaper emthe daily telegraph em earlier in the week .': 1 Negative\n",
      "15: 'the paper also reported that he had started a new business in the u.k. p': 2 Neutral\n",
      "0: 'congress president rahul gandhi on sunday asked prime minister narendra modi to tell the families of the 40 crpf soldiers killed in jammu and kashmir 's pulwama who released masood azhar leader of the jaish e mohammad jem that claimed responsibility for the february 14 suicide bombing .': 1 Negative\n",
      "1: 'pmr .': 2 Neutral\n",
      "2: 'gandhi also targeted national security adviser ajit doval tweeting a december 1999 photo of him at kandahar where 150 indian hostages were exchanged for terrorists .': 1 Negative\n",
      "3: 'p `` pm modi please tell the families of our 40 crpf shaheeds who released their murderer masood azhar also tell them that your current nsa was the deal maker who went to kandahar to hand the murderer back to pakistan '' he wrote on twitter .': 1 Negative\n",
      "4: 'pindia freed masood azhar and some other terrorists in december 1999 to secure the release of passengers of the indian airlines plane that was hijacked from kathmandu and eventually taken to kandahar afghanistan .': 1 Negative\n",
      "5: 'pmr .': 2 Neutral\n",
      "6: 'gandhi 's attack on mr. modi and mr. doval over the suicide bombing marks a shift in the strategy of the main opposition party .': 1 Negative\n",
      "7: 'most opposition parties believe mr. modi 's popularity has increased after the air strikes on terror camps at balakot across the border .': 1 Negative\n",
      "8: 'that is why their leaders welcomed the election commission 's circular asking the parties to refrain from using armed forces in their campaign .': 1 Negative\n",
      "9: '`` the ec 's circular on preventing the use of armed forces in election campaign was much needed .': 1 Negative\n",
      "10: 'this needs to be implemented in letter & amp spirit .': 2 Neutral\n",
      "11: 'let 's keep security forces out of politics .': 2 Neutral\n",
      "12: 'by using the military to conceal its own failures the bjp is walking down a dangerous path '' senior congress leader ahmed patel wrote on twitter .': 1 Negative\n",
      "13: 'p': 2 Neutral\n",
      "0: 'prime minister narendra modi on sunday issued a stern warning to terrorist forces targeting india saying the country can not keep suffering forever .': 1 Negative\n",
      "1: 'p `` enough is enough '' he said while referring to the terror attacks in pulwama and uri .': 1 Negative\n",
      "2: '`` we can not keep suffering till eternity . ''': 1 Negative\n",
      "3: 'paddressing the 50th raising day of the central industrial security force as the chief guest here mr. modi said the role of security forces like the cisf becomes very significant when the country faces a hostile neighbour that gets encouragement from some elements within the country in hatching conspiracy .': 1 Negative\n",
      "4: 'p `` when the neighbour is very hostile but does not have the capability to fight a war and various conspiracies hatched within the country is getting encouragement from across the border and when the ghastly pictures of terror come to light under such difficult situations ensuring security of the country and its institutions becomes very challenging '' the pm said .': 1 Negative\n",
      "5: 'pmr .': 2 Neutral\n",
      "6: 'modi also said vip culture in the country sometimes creates hurdle in the security systems of the country .': 1 Negative\n",
      "7: 'he said sometimes the government has to take certain decisions and hence it took some strong steps .': 3 Positive\n",
      "8: 'pcongratulating the cisf the prime minister also said it is easier to protect an individual but very difficult to protect any institution where there is a daily footfall of 30 lakh .': 1 Negative\n",
      "9: 'p': 2 Neutral\n",
      "0: 'the cbi will extend all necessary help to the united kingdom authorities for the extradition of fugitive diamantaire nirav modi wanted in stronga href = https www.thehindu.com topic pnb nirav _ modi _ case ₹ 13000 crore fraud in punjab national bank a strong pnb in collusion with his uncle mehul choksi the agency said on saturday .': 1 Negative\n",
      "1: 'pthe cbi is awaiting a response on its extradition request which was sent to the united kingdom through the external affairs ministry in august last year after the confirmation from london that mr. modi was in their country agency spokesperson nitin wakankar said .': 1 Negative\n",
      "2: 'pthe united kingdom has responded to the red corner notice issued by the agency against mr. modi in june last year he said .': 1 Negative\n",
      "3: 'p `` we are willing to extend all help to the united kingdom through external affairs ministry in ensuring the extradition of nirav modi '' mr. wakankar said .': 1 Negative\n",
      "4: 'pmr .': 2 Neutral\n",
      "5: 'modi fled the country after allegedly siphoning off about ₹ 13000 crore from punjab national bank using letters of undertaking in collusion with his uncle mr. choski .': 1 Negative\n",
      "6: 'pforty eight year old stronga href = https www.thehindu.com news national indian diamond billionaire nirav modi tracked down to swanky london apartment report article26479126.ecemr .': 1 Negative\n",
      "7: 'modi was spotted in a neighbourhood of london a strong by british newspaper emthe telegraph em .': 1 Negative\n",
      "8: 'phe refused to comment to any of the posers put forth by emthe telegraph em correspondent .': 1 Negative\n",
      "9: 'pdiv class = also view containerdiv class = also view headspanalso read span diva href = https www.thehindu.com news national ed working on initiating legal proceedings against nirav modi in uk sources article26480118.ecediv data focus y = 0 data focus x = 0 class = also view img cont focuspointimg src = https th.thgim.com static img 1x1_spacer.png data variant = landscape data device variant = landscape ~ landscape ~ landscape data src template = https www.thehindu.com news national tqjx66 article23505580.ece binary thumbnail punjabnatlb alt = nirav modi .': 1 Negative\n",
      "10: 'file photo .': 2 Neutral\n",
      "11: 'title = nirav modi .': 2 Neutral\n",
      "12: 'file photo .': 2 Neutral\n",
      "13: 'class = media object lazy adaptive placeholder data original = https www.thehindu.com news national tqjx66 article23505580.ece alternates landscape _ 100 punjabnatlb data selected width = 100 divdiv class = also view text conted working on initiating legal proceedings against nirav modi in u.k. sources p div a divthe cbi registered an fir against him on january 31 on the basis of a complaint against him and his uncle choksi from the bank .': 1 Negative\n",
      "14: 'it was followed by another fir by the agency against him .': 1 Negative\n",
      "15: 'pmr .': 2 Neutral\n",
      "16: 'modi 's brother and wife were also named as accused in the fir .': 2 Neutral\n",
      "17: 'phis wife ami a us citizen brother nishal a belgian and uncle choksi gitanjali group 's promoter had also fled the country in the first week of january .': 1 Negative\n",
      "18: 'pthe case pertains to allegedly cheating the state run punjab national bank pnb through fraudulent issuance of letters of undertaking lous and foreign letters of credit flcs .': 1 Negative\n",
      "19: 'pthe agency has charge sheeted both mr. modi and mr. choksi separately in the scam .': 1 Negative\n",
      "20: 'pit has now approached the interpol for a red corner notice aimed at bringing nirav modi back for facing trial in the cases against them the sources said .': 1 Negative\n",
      "21: 'pthe cbi in its charge sheets filed on may 14 had alleged that nirav modi through his companies siphoned off funds to the tune of ₹ 6498.20 crore using fraudulent lous issued from pnb 's brady house branch in mumbai .': 0 Verynegative\n",
      "22: 'pmr .': 2 Neutral\n",
      "23: 'choksi allegedly swindled ₹ 7080.86 crore making it possibly the biggest banking scam in the country it alleged .': 1 Negative\n",
      "24: 'pit is alleged that mr. modi and mr. choksi through their companies availed credit from overseas branches of indian banks using fraudulent guarantees of the pnb given through lous and letters of credit which were not repaid bringing the liability on the state run bank the officials said .': 1 Negative\n",
      "25: 'pan lou is a guarantee given by an issuing bank to indian banks having branches abroad to grant short term credit to the applicant .': 1 Negative\n",
      "26: 'pthe instructions for transferring the funds were allegedly issued by a bank employee gokulnath shetty using an international messaging system for banking called swift platform and without making their subsequent entries in the pnb 's internal banking software thus bypassing scrutiny in the bank they said .': 1 Negative\n",
      "27: 'p': 2 Neutral\n"
     ]
    },
    {
     "name": "stdout",
     "output_type": "stream",
     "text": [
      "0: 'the united kingdom 's home secretary has referred india 's request for the extradition of a href = https www.thehindu.com topic pnb nirav _ modi _ case title = multi crore punjab national bank fraud a case fugitive nirav modi to a court there for initiating legal proceedings against him according to a senior enforcement directorate official .': 1 Negative\n",
      "1: 'p `` our a href = https www.thehindu.com tag 621 620 600 extradition utm = bodytag target = _ blankstrongextradition strong arequest was pending consideration with the uk 's home secretary for the last over six months .': 1 Negative\n",
      "2: 'we have learnt that it was referred to the court concerned a couple of days ago .': 2 Neutral\n",
      "3: 'both the enforcement directorate and the central bureau of investigation had moved the requests in july august last year '' said the official .': 3 Positive\n",
      "4: 'pafter filing charge sheets against mr. modi and others the agencies had got an a href = https www.thehindu.com news national interpol issues red notice against nirav modi article24309184.ece title = interpol red notice aissued against him last year .': 1 Negative\n",
      "5: '`` in response to a diffusion notice seeking his whereabouts the uk authorities had in august 2018 confirmed his presence there .': 1 Negative\n",
      "6: 'however the uk police has not yet detained him .': 1 Negative\n",
      "7: 'it seems the court may now initiate legal action against him as and when it takes cognisance of the matter '' the official said .': 1 Negative\n",
      "8: 'pin the first week of january last year mr. modi had left the country along with his family members including co accuseda href = https www.thehindu.com news national pnb fraud mehul choksi surrenders indian passport article26049861.ece title = mehul choksi awho has taken citizenship of antigua days before the cbi registered cases against them .': 1 Negative\n",
      "9: 'based on the firs the ed also initiated money laundering investigations .': 1 Negative\n",
      "10: 'pdiv class = newsarticle block item div class = teaser twitter widget class = twitter tweet twitter tweet rendered id = twitter widget 0 style = position absolute visibility hidden display block transform rotate0deg max width 100 % width 500px min width 220px margin top 10px margin bottom 10px twitter widgetblockquote class = twitter tweet data lang = en data twitter extracted i1552294206041666166 = true lang = en dir = ltrrequest for extradition of nirav modi to india was sent in july 2018 to uk .': 0 Verynegative\n",
      "11: 'the uk central authority of home office has confirmed that the extradition request has been sent to the westminster magistrate court for the district judge for further proceedings .': 1 Negative\n",
      "12: 'p -- ed @dir_ed a href = https twitter.com dir _ ed status 1104300767236612096ref _ src = twsrc ^ tfwmarch 9 2019 a blockquotescript async = src = https platform.twitter.com widgets.js charset = utf 8 script div divin its first charge sheet which was filed in may 2018 the ed arraigned mr. modi and 23 other accused persons and entities .': 1 Negative\n",
      "13: 'the agency had by then established alleged diversion of $ 629.21 million dollars about ₹ 4302 crore by them .': 1 Negative\n",
      "14: 'the funds were traced to the united states hong kong belgium and dubai .': 2 Neutral\n",
      "15: 'pamong those named in the charge sheet were mr. nirav modi 's father deepak modi brother neeshal sister purvi and her husband mayank mehta and nehal modi .': 1 Negative\n",
      "16: 'pthe fugitive businessman 's three companies -- solar exports stellar diamonds and diamonds r us -- had allegedly got letters of undertaking lous for ₹ 6498 crore fraudulently issued through the pnb 's brady house branch in mumbai .': 1 Negative\n",
      "17: 'p `` the funds so obtained by the said three entities were partly used for payments to various overseas companies and also for offsetting earlier lous .': 1 Negative\n",
      "18: 'payments were made to 17 overseas entities in hong kong dubai and the united states since 2011 in the guise of export or import '' the ed had alleged .': 1 Negative\n",
      "19: 'pthe directors and shareholders of these companies were the current or former employees of firestar group of companies who were working on the directions of mr. nirav modi and his other trusted officials such as shyamsunder wadhwa aditya nanavati mihir bhansali and saju poulose as alleged .': 1 Negative\n",
      "20: 'pthe modus operandi involved fraudulent import or export wherein there were no actual manufacturing activities undertaken in any of the dummy overseas companies .': 1 Negative\n",
      "21: 'the invoices of export import were overvalued to a huge extent so as to inflate the balance sheets and procure high credit facilities from banks .': 1 Negative\n",
      "22: 'paccording to the agency the export or import shown on paper was just rotational transactions .': 1 Negative\n",
      "23: 'p `` the jewellery exported from india was dismantled the diamonds pearls taken out of it and gold silver were sent for melting .': 1 Negative\n",
      "24: 'the melted metal was re exported to dubai or india and precious stones like diamonds and pearls were separately re exported to india .': 1 Negative\n",
      "25: 'the whole process was carried out without any substantial value addition and was only for inflating the turnover of indian companies '' the agency alleges .': 1 Negative\n",
      "26: 'pthe cbi has also filed charge sheets against mr. nirav modi mr. choksi and others in the two criminal cases .': 1 Negative\n",
      "27: 'india is already pursuing the request for mr. choksi 's extradition from antigua .': 1 Negative\n",
      "28: 'p': 2 Neutral\n",
      "0: 'bahujan samaj party president mayawati on march 11 accused the narendra modi led bjp of ignoring development and relying on nationalism and national security as poll issues for lok sabha 2019 .': 1 Negative\n",
      "1: 'pvikas agenda gone voters apathy is palpable ms. mayawati tweeted .': 1 Negative\n",
      "2: 'pshe said bjp relying on nationalism & amp national security as ls poll issue ignoring much touted issue of vikas .': 1 Negative\n",
      "3: 'no problem but bjp first satisfy masses what happened to poll promise of achche din to crores of poor labourers farmers unemployed .': 1 Negative\n",
      "4: 'p': 2 Neutral\n",
      "0: 'peoples democratic party president and former chief minister mehbooba mufti on saturday said the bjp was turning a href = https www.thehindu.com tag 134 81 jammu and kashmir utm = bodytag target = _ blankstrongjammu and kashmir strong ainto a theatre of war for electoral gains by criminalising dissent bundling people into jails and banning religious outfits .': 1 Negative\n",
      "1: 'p `` the repressive measures and the iron fist approach are being rigorously implemented with the common masses being threatened intimated and harassed by the government '' said ms. mufti after chairing a meeting of party leaders in srinagar .': 1 Negative\n",
      "2: 'pshe took exception to prime minister narendra modi 's assertions that `` air strikes against pakistan was a pilot project . ''': 2 Neutral\n",
      "3: '`` whom is pm modi trying to threaten with such warmongering '' she said the ban on jamaat e islami was undemocratic as it `` further shrinks the space for politics and dialogue '' .': 1 Negative\n",
      "4: 'p': 2 Neutral\n",
      "0: 'bahujan samaj party president mayawati on march 11 accused the narendra modi led bjp of ignoring development and relying on nationalism and national security as poll issues for lok sabha 2019 .': 1 Negative\n",
      "1: 'pvikas agenda gone voters apathy is palpable ms. mayawati tweeted .': 1 Negative\n",
      "2: 'pshe said bjp relying on nationalism & amp national security as ls poll issue ignoring much touted issue of vikas .': 1 Negative\n",
      "3: 'no problem but bjp first satisfy masses what happened to poll promise of achche din to crores of poor labourers farmers unemployed .': 1 Negative\n",
      "4: 'p': 2 Neutral\n",
      "0: 'the congress on sunday claimed that mehul choksi the fugitive diamond trader and alleged mastermind of the multicrore punjab national bank scam had applied for a new company in the u.k. on march 7 and asked if the government of india was aware of it .': 1 Negative\n",
      "1: 'pcongress spokesperson pawan khera addressing a press conference here questioned the `` seriousness of the government of india 's extradition efforts '' .': 1 Negative\n",
      "2: 'the congress also released documents to support their claim .': 1 Negative\n",
      "3: 'pmr .': 2 Neutral\n",
      "4: 'choksi fled india last year after the scam was unearthed and has taken up citizenship of antigua and barbuda .': 1 Negative\n",
      "5: 'pmr .': 2 Neutral\n",
      "6: 'khera also asked if it was a coincidence that mehul choksi 's business partner nirav modi was seen roaming freely in london just when a `` shell company '' was being registered in london .': 1 Negative\n",
      "7: 'pthe congress spokesperson said mr. choksi while applying for a registration in the u.k. mentioned the company 's principal address in dubai uae .': 1 Negative\n",
      "8: 'he also alleged that a `` powerful person '' who benefited from mr. choksi was protecting him .': 1 Negative\n",
      "9: '`` who has benefited from choksi and who is this important powerful man who is saving him .': 3 Positive\n",
      "10: 'why the modi government applied for extradition of choksi from antigua with which india has no extradition treaty '' he asked .': 1 Negative\n",
      "11: 'pmr .': 2 Neutral\n",
      "12: 'choksi along with his nephew nirav modi is accused of defrauding the state run punjab national bank of ₹ 13000 crore .': 1 Negative\n",
      "13: 'mr choksi fled the country last year after the scam was unearthed and has taken up citizenship of antigua and barbuda .': 1 Negative\n",
      "14: 'pnirav modi was tracked down to a luxury apartment in london by the english newspaper emthe daily telegraph em earlier in the week .': 1 Negative\n",
      "15: 'the paper also reported that he had started a new business in the u.k. p': 2 Neutral\n"
     ]
    },
    {
     "name": "stdout",
     "output_type": "stream",
     "text": [
      "0: 'congress president rahul gandhi on sunday asked prime minister narendra modi to tell the families of the 40 crpf soldiers killed in jammu and kashmir 's pulwama who released masood azhar leader of the jaish e mohammad jem that claimed responsibility for the february 14 suicide bombing .': 1 Negative\n",
      "1: 'pmr .': 2 Neutral\n",
      "2: 'gandhi also targeted national security adviser ajit doval tweeting a december 1999 photo of him at kandahar where 150 indian hostages were exchanged for terrorists .': 1 Negative\n",
      "3: 'p `` pm modi please tell the families of our 40 crpf shaheeds who released their murderer masood azhar also tell them that your current nsa was the deal maker who went to kandahar to hand the murderer back to pakistan '' he wrote on twitter .': 1 Negative\n",
      "4: 'pindia freed masood azhar and some other terrorists in december 1999 to secure the release of passengers of the indian airlines plane that was hijacked from kathmandu and eventually taken to kandahar afghanistan .': 1 Negative\n",
      "5: 'pmr .': 2 Neutral\n",
      "6: 'gandhi 's attack on mr. modi and mr. doval over the suicide bombing marks a shift in the strategy of the main opposition party .': 1 Negative\n",
      "7: 'most opposition parties believe mr. modi 's popularity has increased after the air strikes on terror camps at balakot across the border .': 1 Negative\n",
      "8: 'that is why their leaders welcomed the election commission 's circular asking the parties to refrain from using armed forces in their campaign .': 1 Negative\n",
      "9: '`` the ec 's circular on preventing the use of armed forces in election campaign was much needed .': 1 Negative\n",
      "10: 'this needs to be implemented in letter & amp spirit .': 2 Neutral\n",
      "11: 'let 's keep security forces out of politics .': 2 Neutral\n",
      "12: 'by using the military to conceal its own failures the bjp is walking down a dangerous path '' senior congress leader ahmed patel wrote on twitter .': 1 Negative\n",
      "13: 'p': 2 Neutral\n",
      "0: 'prime minister narendra modi on sunday issued a stern warning to terrorist forces targeting india saying the country can not keep suffering forever .': 1 Negative\n",
      "1: 'p `` enough is enough '' he said while referring to the terror attacks in pulwama and uri .': 1 Negative\n",
      "2: '`` we can not keep suffering till eternity . ''': 1 Negative\n",
      "3: 'paddressing the 50th raising day of the central industrial security force as the chief guest here mr. modi said the role of security forces like the cisf becomes very significant when the country faces a hostile neighbour that gets encouragement from some elements within the country in hatching conspiracy .': 1 Negative\n",
      "4: 'p `` when the neighbour is very hostile but does not have the capability to fight a war and various conspiracies hatched within the country is getting encouragement from across the border and when the ghastly pictures of terror come to light under such difficult situations ensuring security of the country and its institutions becomes very challenging '' the pm said .': 1 Negative\n",
      "5: 'pmr .': 2 Neutral\n",
      "6: 'modi also said vip culture in the country sometimes creates hurdle in the security systems of the country .': 1 Negative\n",
      "7: 'he said sometimes the government has to take certain decisions and hence it took some strong steps .': 3 Positive\n",
      "8: 'pcongratulating the cisf the prime minister also said it is easier to protect an individual but very difficult to protect any institution where there is a daily footfall of 30 lakh .': 1 Negative\n",
      "9: 'p': 2 Neutral\n",
      "0: 'bahujan samaj party president mayawati on march 11 accused the narendra modi led bjp of ignoring development and relying on nationalism and national security as poll issues for lok sabha 2019 .': 1 Negative\n",
      "1: 'pvikas agenda gone voters apathy is palpable ms. mayawati tweeted .': 1 Negative\n",
      "2: 'pshe said bjp relying on nationalism & amp national security as ls poll issue ignoring much touted issue of vikas .': 1 Negative\n",
      "3: 'no problem but bjp first satisfy masses what happened to poll promise of achche din to crores of poor labourers farmers unemployed .': 1 Negative\n",
      "4: 'p': 2 Neutral\n",
      "0: 'the congress on sunday claimed that mehul choksi the fugitive diamond trader and alleged mastermind of the multicrore punjab national bank scam had applied for a new company in the u.k. on march 7 and asked if the government of india was aware of it .': 1 Negative\n",
      "1: 'pcongress spokesperson pawan khera addressing a press conference here questioned the `` seriousness of the government of india 's extradition efforts '' .': 1 Negative\n",
      "2: 'the congress also released documents to support their claim .': 1 Negative\n",
      "3: 'pmr .': 2 Neutral\n",
      "4: 'choksi fled india last year after the scam was unearthed and has taken up citizenship of antigua and barbuda .': 1 Negative\n",
      "5: 'pmr .': 2 Neutral\n",
      "6: 'khera also asked if it was a coincidence that mehul choksi 's business partner nirav modi was seen roaming freely in london just when a `` shell company '' was being registered in london .': 1 Negative\n",
      "7: 'pthe congress spokesperson said mr. choksi while applying for a registration in the u.k. mentioned the company 's principal address in dubai uae .': 1 Negative\n",
      "8: 'he also alleged that a `` powerful person '' who benefited from mr. choksi was protecting him .': 1 Negative\n",
      "9: '`` who has benefited from choksi and who is this important powerful man who is saving him .': 3 Positive\n",
      "10: 'why the modi government applied for extradition of choksi from antigua with which india has no extradition treaty '' he asked .': 1 Negative\n",
      "11: 'pmr .': 2 Neutral\n",
      "12: 'choksi along with his nephew nirav modi is accused of defrauding the state run punjab national bank of ₹ 13000 crore .': 1 Negative\n",
      "13: 'mr choksi fled the country last year after the scam was unearthed and has taken up citizenship of antigua and barbuda .': 1 Negative\n",
      "14: 'pnirav modi was tracked down to a luxury apartment in london by the english newspaper emthe daily telegraph em earlier in the week .': 1 Negative\n",
      "15: 'the paper also reported that he had started a new business in the u.k. p': 2 Neutral\n",
      "0: 'congress president rahul gandhi on sunday asked prime minister narendra modi to tell the families of the 40 crpf soldiers killed in jammu and kashmir 's pulwama who released masood azhar leader of the jaish e mohammad jem that claimed responsibility for the february 14 suicide bombing .': 1 Negative\n",
      "1: 'pmr .': 2 Neutral\n",
      "2: 'gandhi also targeted national security adviser ajit doval tweeting a december 1999 photo of him at kandahar where 150 indian hostages were exchanged for terrorists .': 1 Negative\n",
      "3: 'p `` pm modi please tell the families of our 40 crpf shaheeds who released their murderer masood azhar also tell them that your current nsa was the deal maker who went to kandahar to hand the murderer back to pakistan '' he wrote on twitter .': 1 Negative\n",
      "4: 'pindia freed masood azhar and some other terrorists in december 1999 to secure the release of passengers of the indian airlines plane that was hijacked from kathmandu and eventually taken to kandahar afghanistan .': 1 Negative\n",
      "5: 'pmr .': 2 Neutral\n",
      "6: 'gandhi 's attack on mr. modi and mr. doval over the suicide bombing marks a shift in the strategy of the main opposition party .': 1 Negative\n",
      "7: 'most opposition parties believe mr. modi 's popularity has increased after the air strikes on terror camps at balakot across the border .': 1 Negative\n",
      "8: 'that is why their leaders welcomed the election commission 's circular asking the parties to refrain from using armed forces in their campaign .': 1 Negative\n",
      "9: '`` the ec 's circular on preventing the use of armed forces in election campaign was much needed .': 1 Negative\n",
      "10: 'this needs to be implemented in letter & amp spirit .': 2 Neutral\n",
      "11: 'let 's keep security forces out of politics .': 2 Neutral\n",
      "12: 'by using the military to conceal its own failures the bjp is walking down a dangerous path '' senior congress leader ahmed patel wrote on twitter .': 1 Negative\n",
      "13: 'p': 2 Neutral\n",
      "0: 'prime minister narendra modi on sunday issued a stern warning to terrorist forces targeting india saying the country can not keep suffering forever .': 1 Negative\n",
      "1: 'p `` enough is enough '' he said while referring to the terror attacks in pulwama and uri .': 1 Negative\n",
      "2: '`` we can not keep suffering till eternity . ''': 1 Negative\n",
      "3: 'paddressing the 50th raising day of the central industrial security force as the chief guest here mr. modi said the role of security forces like the cisf becomes very significant when the country faces a hostile neighbour that gets encouragement from some elements within the country in hatching conspiracy .': 1 Negative\n",
      "4: 'p `` when the neighbour is very hostile but does not have the capability to fight a war and various conspiracies hatched within the country is getting encouragement from across the border and when the ghastly pictures of terror come to light under such difficult situations ensuring security of the country and its institutions becomes very challenging '' the pm said .': 1 Negative\n",
      "5: 'pmr .': 2 Neutral\n",
      "6: 'modi also said vip culture in the country sometimes creates hurdle in the security systems of the country .': 1 Negative\n",
      "7: 'he said sometimes the government has to take certain decisions and hence it took some strong steps .': 3 Positive\n",
      "8: 'pcongratulating the cisf the prime minister also said it is easier to protect an individual but very difficult to protect any institution where there is a daily footfall of 30 lakh .': 1 Negative\n",
      "9: 'p': 2 Neutral\n"
     ]
    },
    {
     "name": "stdout",
     "output_type": "stream",
     "text": [
      "0: 'the cbi will extend all necessary help to the united kingdom authorities for the extradition of fugitive diamantaire nirav modi wanted in stronga href = https www.thehindu.com topic pnb nirav _ modi _ case ₹ 13000 crore fraud in punjab national bank a strong pnb in collusion with his uncle mehul choksi the agency said on saturday .': 1 Negative\n",
      "1: 'pthe cbi is awaiting a response on its extradition request which was sent to the united kingdom through the external affairs ministry in august last year after the confirmation from london that mr. modi was in their country agency spokesperson nitin wakankar said .': 1 Negative\n",
      "2: 'pthe united kingdom has responded to the red corner notice issued by the agency against mr. modi in june last year he said .': 1 Negative\n",
      "3: 'p `` we are willing to extend all help to the united kingdom through external affairs ministry in ensuring the extradition of nirav modi '' mr. wakankar said .': 1 Negative\n",
      "4: 'pmr .': 2 Neutral\n",
      "5: 'modi fled the country after allegedly siphoning off about ₹ 13000 crore from punjab national bank using letters of undertaking in collusion with his uncle mr. choski .': 1 Negative\n",
      "6: 'pforty eight year old stronga href = https www.thehindu.com news national indian diamond billionaire nirav modi tracked down to swanky london apartment report article26479126.ecemr .': 1 Negative\n",
      "7: 'modi was spotted in a neighbourhood of london a strong by british newspaper emthe telegraph em .': 1 Negative\n",
      "8: 'phe refused to comment to any of the posers put forth by emthe telegraph em correspondent .': 1 Negative\n",
      "9: 'pdiv class = also view containerdiv class = also view headspanalso read span diva href = https www.thehindu.com news national ed working on initiating legal proceedings against nirav modi in uk sources article26480118.ecediv data focus y = 0 data focus x = 0 class = also view img cont focuspointimg src = https th.thgim.com static img 1x1_spacer.png data variant = landscape data device variant = landscape ~ landscape ~ landscape data src template = https www.thehindu.com news national tqjx66 article23505580.ece binary thumbnail punjabnatlb alt = nirav modi .': 1 Negative\n",
      "10: 'file photo .': 2 Neutral\n",
      "11: 'title = nirav modi .': 2 Neutral\n",
      "12: 'file photo .': 2 Neutral\n",
      "13: 'class = media object lazy adaptive placeholder data original = https www.thehindu.com news national tqjx66 article23505580.ece alternates landscape _ 100 punjabnatlb data selected width = 100 divdiv class = also view text conted working on initiating legal proceedings against nirav modi in u.k. sources p div a divthe cbi registered an fir against him on january 31 on the basis of a complaint against him and his uncle choksi from the bank .': 1 Negative\n",
      "14: 'it was followed by another fir by the agency against him .': 1 Negative\n",
      "15: 'pmr .': 2 Neutral\n",
      "16: 'modi 's brother and wife were also named as accused in the fir .': 2 Neutral\n",
      "17: 'phis wife ami a us citizen brother nishal a belgian and uncle choksi gitanjali group 's promoter had also fled the country in the first week of january .': 1 Negative\n",
      "18: 'pthe case pertains to allegedly cheating the state run punjab national bank pnb through fraudulent issuance of letters of undertaking lous and foreign letters of credit flcs .': 1 Negative\n",
      "19: 'pthe agency has charge sheeted both mr. modi and mr. choksi separately in the scam .': 1 Negative\n",
      "20: 'pit has now approached the interpol for a red corner notice aimed at bringing nirav modi back for facing trial in the cases against them the sources said .': 1 Negative\n",
      "21: 'pthe cbi in its charge sheets filed on may 14 had alleged that nirav modi through his companies siphoned off funds to the tune of ₹ 6498.20 crore using fraudulent lous issued from pnb 's brady house branch in mumbai .': 0 Verynegative\n",
      "22: 'pmr .': 2 Neutral\n",
      "23: 'choksi allegedly swindled ₹ 7080.86 crore making it possibly the biggest banking scam in the country it alleged .': 1 Negative\n",
      "24: 'pit is alleged that mr. modi and mr. choksi through their companies availed credit from overseas branches of indian banks using fraudulent guarantees of the pnb given through lous and letters of credit which were not repaid bringing the liability on the state run bank the officials said .': 1 Negative\n",
      "25: 'pan lou is a guarantee given by an issuing bank to indian banks having branches abroad to grant short term credit to the applicant .': 1 Negative\n",
      "26: 'pthe instructions for transferring the funds were allegedly issued by a bank employee gokulnath shetty using an international messaging system for banking called swift platform and without making their subsequent entries in the pnb 's internal banking software thus bypassing scrutiny in the bank they said .': 1 Negative\n",
      "27: 'p': 2 Neutral\n",
      "0: 'the united kingdom 's home secretary has referred india 's request for the extradition of a href = https www.thehindu.com topic pnb nirav _ modi _ case title = multi crore punjab national bank fraud a case fugitive nirav modi to a court there for initiating legal proceedings against him according to a senior enforcement directorate official .': 1 Negative\n",
      "1: 'p `` our a href = https www.thehindu.com tag 621 620 600 extradition utm = bodytag target = _ blankstrongextradition strong arequest was pending consideration with the uk 's home secretary for the last over six months .': 1 Negative\n",
      "2: 'we have learnt that it was referred to the court concerned a couple of days ago .': 2 Neutral\n",
      "3: 'both the enforcement directorate and the central bureau of investigation had moved the requests in july august last year '' said the official .': 3 Positive\n",
      "4: 'pafter filing charge sheets against mr. modi and others the agencies had got an a href = https www.thehindu.com news national interpol issues red notice against nirav modi article24309184.ece title = interpol red notice aissued against him last year .': 1 Negative\n",
      "5: '`` in response to a diffusion notice seeking his whereabouts the uk authorities had in august 2018 confirmed his presence there .': 1 Negative\n",
      "6: 'however the uk police has not yet detained him .': 1 Negative\n",
      "7: 'it seems the court may now initiate legal action against him as and when it takes cognisance of the matter '' the official said .': 1 Negative\n",
      "8: 'pin the first week of january last year mr. modi had left the country along with his family members including co accuseda href = https www.thehindu.com news national pnb fraud mehul choksi surrenders indian passport article26049861.ece title = mehul choksi awho has taken citizenship of antigua days before the cbi registered cases against them .': 1 Negative\n",
      "9: 'based on the firs the ed also initiated money laundering investigations .': 1 Negative\n",
      "10: 'pdiv class = newsarticle block item div class = teaser twitter widget class = twitter tweet twitter tweet rendered id = twitter widget 0 style = position absolute visibility hidden display block transform rotate0deg max width 100 % width 500px min width 220px margin top 10px margin bottom 10px twitter widgetblockquote class = twitter tweet data lang = en data twitter extracted i1552294304825228846 = true lang = en dir = ltrrequest for extradition of nirav modi to india was sent in july 2018 to uk .': 0 Verynegative\n",
      "11: 'the uk central authority of home office has confirmed that the extradition request has been sent to the westminster magistrate court for the district judge for further proceedings .': 1 Negative\n",
      "12: 'p -- ed @dir_ed a href = https twitter.com dir _ ed status 1104300767236612096ref _ src = twsrc ^ tfwmarch 9 2019 a blockquotescript async = src = https platform.twitter.com widgets.js charset = utf 8 script div divin its first charge sheet which was filed in may 2018 the ed arraigned mr. modi and 23 other accused persons and entities .': 1 Negative\n",
      "13: 'the agency had by then established alleged diversion of $ 629.21 million dollars about ₹ 4302 crore by them .': 1 Negative\n",
      "14: 'the funds were traced to the united states hong kong belgium and dubai .': 2 Neutral\n",
      "15: 'pamong those named in the charge sheet were mr. nirav modi 's father deepak modi brother neeshal sister purvi and her husband mayank mehta and nehal modi .': 1 Negative\n",
      "16: 'pthe fugitive businessman 's three companies -- solar exports stellar diamonds and diamonds r us -- had allegedly got letters of undertaking lous for ₹ 6498 crore fraudulently issued through the pnb 's brady house branch in mumbai .': 1 Negative\n",
      "17: 'p `` the funds so obtained by the said three entities were partly used for payments to various overseas companies and also for offsetting earlier lous .': 1 Negative\n",
      "18: 'payments were made to 17 overseas entities in hong kong dubai and the united states since 2011 in the guise of export or import '' the ed had alleged .': 1 Negative\n",
      "19: 'pthe directors and shareholders of these companies were the current or former employees of firestar group of companies who were working on the directions of mr. nirav modi and his other trusted officials such as shyamsunder wadhwa aditya nanavati mihir bhansali and saju poulose as alleged .': 1 Negative\n",
      "20: 'pthe modus operandi involved fraudulent import or export wherein there were no actual manufacturing activities undertaken in any of the dummy overseas companies .': 1 Negative\n",
      "21: 'the invoices of export import were overvalued to a huge extent so as to inflate the balance sheets and procure high credit facilities from banks .': 1 Negative\n",
      "22: 'paccording to the agency the export or import shown on paper was just rotational transactions .': 1 Negative\n",
      "23: 'p `` the jewellery exported from india was dismantled the diamonds pearls taken out of it and gold silver were sent for melting .': 1 Negative\n",
      "24: 'the melted metal was re exported to dubai or india and precious stones like diamonds and pearls were separately re exported to india .': 1 Negative\n",
      "25: 'the whole process was carried out without any substantial value addition and was only for inflating the turnover of indian companies '' the agency alleges .': 1 Negative\n",
      "26: 'pthe cbi has also filed charge sheets against mr. nirav modi mr. choksi and others in the two criminal cases .': 1 Negative\n",
      "27: 'india is already pursuing the request for mr. choksi 's extradition from antigua .': 1 Negative\n",
      "28: 'p': 2 Neutral\n"
     ]
    },
    {
     "name": "stdout",
     "output_type": "stream",
     "text": [
      "0: 'bahujan samaj party president mayawati on march 11 accused the narendra modi led bjp of ignoring development and relying on nationalism and national security as poll issues for lok sabha 2019 .': 1 Negative\n",
      "1: 'pvikas agenda gone voters apathy is palpable ms. mayawati tweeted .': 1 Negative\n",
      "2: 'pshe said bjp relying on nationalism & amp national security as ls poll issue ignoring much touted issue of vikas .': 1 Negative\n",
      "3: 'no problem but bjp first satisfy masses what happened to poll promise of achche din to crores of poor labourers farmers unemployed .': 1 Negative\n",
      "4: 'p': 2 Neutral\n",
      "0: 'peoples democratic party president and former chief minister mehbooba mufti on saturday said the bjp was turning a href = https www.thehindu.com tag 134 81 jammu and kashmir utm = bodytag target = _ blankstrongjammu and kashmir strong ainto a theatre of war for electoral gains by criminalising dissent bundling people into jails and banning religious outfits .': 1 Negative\n",
      "1: 'p `` the repressive measures and the iron fist approach are being rigorously implemented with the common masses being threatened intimated and harassed by the government '' said ms. mufti after chairing a meeting of party leaders in srinagar .': 1 Negative\n",
      "2: 'pshe took exception to prime minister narendra modi 's assertions that `` air strikes against pakistan was a pilot project . ''': 2 Neutral\n",
      "3: '`` whom is pm modi trying to threaten with such warmongering '' she said the ban on jamaat e islami was undemocratic as it `` further shrinks the space for politics and dialogue '' .': 1 Negative\n",
      "4: 'p': 2 Neutral\n",
      "0: 'bahujan samaj party president mayawati on march 11 accused the narendra modi led bjp of ignoring development and relying on nationalism and national security as poll issues for lok sabha 2019 .': 1 Negative\n",
      "1: 'pvikas agenda gone voters apathy is palpable ms. mayawati tweeted .': 1 Negative\n",
      "2: 'pshe said bjp relying on nationalism & amp national security as ls poll issue ignoring much touted issue of vikas .': 1 Negative\n",
      "3: 'no problem but bjp first satisfy masses what happened to poll promise of achche din to crores of poor labourers farmers unemployed .': 1 Negative\n",
      "4: 'p': 2 Neutral\n",
      "0: 'the congress on sunday claimed that mehul choksi the fugitive diamond trader and alleged mastermind of the multicrore punjab national bank scam had applied for a new company in the u.k. on march 7 and asked if the government of india was aware of it .': 1 Negative\n",
      "1: 'pcongress spokesperson pawan khera addressing a press conference here questioned the `` seriousness of the government of india 's extradition efforts '' .': 1 Negative\n",
      "2: 'the congress also released documents to support their claim .': 1 Negative\n",
      "3: 'pmr .': 2 Neutral\n",
      "4: 'choksi fled india last year after the scam was unearthed and has taken up citizenship of antigua and barbuda .': 1 Negative\n",
      "5: 'pmr .': 2 Neutral\n",
      "6: 'khera also asked if it was a coincidence that mehul choksi 's business partner nirav modi was seen roaming freely in london just when a `` shell company '' was being registered in london .': 1 Negative\n",
      "7: 'pthe congress spokesperson said mr. choksi while applying for a registration in the u.k. mentioned the company 's principal address in dubai uae .': 1 Negative\n",
      "8: 'he also alleged that a `` powerful person '' who benefited from mr. choksi was protecting him .': 1 Negative\n",
      "9: '`` who has benefited from choksi and who is this important powerful man who is saving him .': 3 Positive\n",
      "10: 'why the modi government applied for extradition of choksi from antigua with which india has no extradition treaty '' he asked .': 1 Negative\n",
      "11: 'pmr .': 2 Neutral\n",
      "12: 'choksi along with his nephew nirav modi is accused of defrauding the state run punjab national bank of ₹ 13000 crore .': 1 Negative\n",
      "13: 'mr choksi fled the country last year after the scam was unearthed and has taken up citizenship of antigua and barbuda .': 1 Negative\n",
      "14: 'pnirav modi was tracked down to a luxury apartment in london by the english newspaper emthe daily telegraph em earlier in the week .': 1 Negative\n",
      "15: 'the paper also reported that he had started a new business in the u.k. p': 2 Neutral\n",
      "0: 'congress president rahul gandhi on sunday asked prime minister narendra modi to tell the families of the 40 crpf soldiers killed in jammu and kashmir 's pulwama who released masood azhar leader of the jaish e mohammad jem that claimed responsibility for the february 14 suicide bombing .': 1 Negative\n",
      "1: 'pmr .': 2 Neutral\n",
      "2: 'gandhi also targeted national security adviser ajit doval tweeting a december 1999 photo of him at kandahar where 150 indian hostages were exchanged for terrorists .': 1 Negative\n",
      "3: 'p `` pm modi please tell the families of our 40 crpf shaheeds who released their murderer masood azhar also tell them that your current nsa was the deal maker who went to kandahar to hand the murderer back to pakistan '' he wrote on twitter .': 1 Negative\n",
      "4: 'pindia freed masood azhar and some other terrorists in december 1999 to secure the release of passengers of the indian airlines plane that was hijacked from kathmandu and eventually taken to kandahar afghanistan .': 1 Negative\n",
      "5: 'pmr .': 2 Neutral\n",
      "6: 'gandhi 's attack on mr. modi and mr. doval over the suicide bombing marks a shift in the strategy of the main opposition party .': 1 Negative\n",
      "7: 'most opposition parties believe mr. modi 's popularity has increased after the air strikes on terror camps at balakot across the border .': 1 Negative\n",
      "8: 'that is why their leaders welcomed the election commission 's circular asking the parties to refrain from using armed forces in their campaign .': 1 Negative\n",
      "9: '`` the ec 's circular on preventing the use of armed forces in election campaign was much needed .': 1 Negative\n",
      "10: 'this needs to be implemented in letter & amp spirit .': 2 Neutral\n",
      "11: 'let 's keep security forces out of politics .': 2 Neutral\n",
      "12: 'by using the military to conceal its own failures the bjp is walking down a dangerous path '' senior congress leader ahmed patel wrote on twitter .': 1 Negative\n",
      "13: 'p': 2 Neutral\n",
      "0: 'prime minister narendra modi on sunday issued a stern warning to terrorist forces targeting india saying the country can not keep suffering forever .': 1 Negative\n",
      "1: 'p `` enough is enough '' he said while referring to the terror attacks in pulwama and uri .': 1 Negative\n",
      "2: '`` we can not keep suffering till eternity . ''': 1 Negative\n",
      "3: 'paddressing the 50th raising day of the central industrial security force as the chief guest here mr. modi said the role of security forces like the cisf becomes very significant when the country faces a hostile neighbour that gets encouragement from some elements within the country in hatching conspiracy .': 1 Negative\n",
      "4: 'p `` when the neighbour is very hostile but does not have the capability to fight a war and various conspiracies hatched within the country is getting encouragement from across the border and when the ghastly pictures of terror come to light under such difficult situations ensuring security of the country and its institutions becomes very challenging '' the pm said .': 1 Negative\n",
      "5: 'pmr .': 2 Neutral\n",
      "6: 'modi also said vip culture in the country sometimes creates hurdle in the security systems of the country .': 1 Negative\n",
      "7: 'he said sometimes the government has to take certain decisions and hence it took some strong steps .': 3 Positive\n",
      "8: 'pcongratulating the cisf the prime minister also said it is easier to protect an individual but very difficult to protect any institution where there is a daily footfall of 30 lakh .': 1 Negative\n",
      "9: 'p': 2 Neutral\n"
     ]
    }
   ],
   "source": [
    "\n",
    "for i in range(len(df_news)):\n",
    "    text = df_news['text'][i]\n",
    "    res = nlp.annotate(str(text),properties={'annotators': 'sentiment', 'outputFormat': 'json','timeout': 10000000, })\n",
    "    #print(text)\n",
    "    for s in res[\"sentences\"]:\n",
    "        print(\"%d: '%s': %s %s\" % (s[\"index\"],\" \".join([t[\"word\"] for t in s[\"tokens\"]]),s[\"sentimentValue\"], s[\"sentiment\"]))"
   ]
  },
  {
   "cell_type": "code",
   "execution_count": 0,
   "metadata": {
    "colab": {},
    "colab_type": "code",
    "id": "L5m6j6rLrXAe"
   },
   "outputs": [],
   "source": []
  },
  {
   "cell_type": "code",
   "execution_count": 0,
   "metadata": {
    "colab": {},
    "colab_type": "code",
    "id": "6YQn8CQ5rXAi"
   },
   "outputs": [],
   "source": []
  },
  {
   "cell_type": "code",
   "execution_count": 0,
   "metadata": {
    "colab": {},
    "colab_type": "code",
    "id": "gRwPYiEFrXAq"
   },
   "outputs": [],
   "source": []
  },
  {
   "cell_type": "markdown",
   "metadata": {
    "colab_type": "text",
    "id": "QtajfzCDrXA4"
   },
   "source": [
    "SENTIMENT ANALYSES USING VADER"
   ]
  },
  {
   "cell_type": "code",
   "execution_count": 0,
   "metadata": {
    "colab": {},
    "colab_type": "code",
    "id": "N88o2aWLrXA8"
   },
   "outputs": [],
   "source": []
  }
 ],
 "metadata": {
  "colab": {
   "name": "StanfordNLP_TheHindu (bjp) (11March) .ipynb",
   "provenance": [],
   "version": "0.3.2"
  },
  "kernelspec": {
   "display_name": "Python 3",
   "language": "python",
   "name": "python3"
  },
  "language_info": {
   "codemirror_mode": {
    "name": "ipython",
    "version": 3
   },
   "file_extension": ".py",
   "mimetype": "text/x-python",
   "name": "python",
   "nbconvert_exporter": "python",
   "pygments_lexer": "ipython3",
   "version": "3.6.7"
  }
 },
 "nbformat": 4,
 "nbformat_minor": 1
}
