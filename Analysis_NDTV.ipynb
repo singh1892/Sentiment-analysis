{
 "cells": [
  {
   "cell_type": "code",
   "execution_count": 1,
   "metadata": {
    "colab": {
     "base_uri": "https://localhost:8080/",
     "height": 74,
     "resources": {
      "http://localhost:8080/nbextensions/google.colab/files.js": {
       "data": "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",
       "headers": [
        [
         "content-type",
         "application/javascript"
        ]
       ],
       "ok": true,
       "status": 200,
       "status_text": ""
      }
     }
    },
    "colab_type": "code",
    "id": "lpCAg4p5vTD5",
    "outputId": "107f2292-7bb6-493b-a192-97451c24ea75"
   },
   "outputs": [
    {
     "ename": "ModuleNotFoundError",
     "evalue": "No module named 'google.colab'",
     "output_type": "error",
     "traceback": [
      "\u001b[1;31m---------------------------------------------------------------------------\u001b[0m",
      "\u001b[1;31mModuleNotFoundError\u001b[0m                       Traceback (most recent call last)",
      "\u001b[1;32m<ipython-input-1-dfb3c71bbe01>\u001b[0m in \u001b[0;36m<module>\u001b[1;34m\u001b[0m\n\u001b[1;32m----> 1\u001b[1;33m \u001b[1;32mfrom\u001b[0m \u001b[0mgoogle\u001b[0m\u001b[1;33m.\u001b[0m\u001b[0mcolab\u001b[0m \u001b[1;32mimport\u001b[0m \u001b[0mfiles\u001b[0m\u001b[1;33m\u001b[0m\u001b[1;33m\u001b[0m\u001b[0m\n\u001b[0m\u001b[0;32m      2\u001b[0m \u001b[0mdatafiles\u001b[0m \u001b[1;33m=\u001b[0m \u001b[0mfiles\u001b[0m\u001b[1;33m.\u001b[0m\u001b[0mupload\u001b[0m\u001b[1;33m(\u001b[0m\u001b[1;33m)\u001b[0m\u001b[1;33m\u001b[0m\u001b[1;33m\u001b[0m\u001b[0m\n",
      "\u001b[1;31mModuleNotFoundError\u001b[0m: No module named 'google.colab'"
     ]
    }
   ],
   "source": [
    "from google.colab import files\n",
    "datafiles = files.upload()"
   ]
  },
  {
   "cell_type": "code",
   "execution_count": 0,
   "metadata": {
    "colab": {},
    "colab_type": "code",
    "id": "TWczFSxZxUsX"
   },
   "outputs": [],
   "source": [
    "import pandas as pd"
   ]
  },
  {
   "cell_type": "code",
   "execution_count": 0,
   "metadata": {
    "colab": {},
    "colab_type": "code",
    "id": "C4JytUrbw5cA"
   },
   "outputs": [],
   "source": [
    "article = pd.read_csv('NDTV_Feb13_article.csv')"
   ]
  },
  {
   "cell_type": "code",
   "execution_count": 4,
   "metadata": {
    "colab": {
     "base_uri": "https://localhost:8080/",
     "height": 1969
    },
    "colab_type": "code",
    "id": "8Uy_byYBxiSA",
    "outputId": "f0a4bcdd-a17b-4335-82d1-61feb798ab36"
   },
   "outputs": [
    {
     "data": {
      "text/html": [
       "<div>\n",
       "<style scoped>\n",
       "    .dataframe tbody tr th:only-of-type {\n",
       "        vertical-align: middle;\n",
       "    }\n",
       "\n",
       "    .dataframe tbody tr th {\n",
       "        vertical-align: top;\n",
       "    }\n",
       "\n",
       "    .dataframe thead th {\n",
       "        text-align: right;\n",
       "    }\n",
       "</style>\n",
       "<table border=\"1\" class=\"dataframe\">\n",
       "  <thead>\n",
       "    <tr style=\"text-align: right;\">\n",
       "      <th></th>\n",
       "      <th>0</th>\n",
       "    </tr>\n",
       "  </thead>\n",
       "  <tbody>\n",
       "    <tr>\n",
       "      <th>0</th>\n",
       "      <td>['New Delhi:Reacting to Samajwadi Party founde...</td>\n",
       "    </tr>\n",
       "    <tr>\n",
       "      <th>1</th>\n",
       "      <td>['New Delhi:Tackling a contradiction that has ...</td>\n",
       "    </tr>\n",
       "    <tr>\n",
       "      <th>2</th>\n",
       "      <td>['New Delhi:Prime Minister Narendra Modi, deli...</td>\n",
       "    </tr>\n",
       "    <tr>\n",
       "      <th>3</th>\n",
       "      <td>['New Delhi:A restaurant owner in Karnataka, a...</td>\n",
       "    </tr>\n",
       "    <tr>\n",
       "      <th>4</th>\n",
       "      <td>['New Delhi:Highlights\"Mulayam Singhji has giv...</td>\n",
       "    </tr>\n",
       "    <tr>\n",
       "      <th>5</th>\n",
       "      <td>['New Delhi:West Bengal Chief Minister Mamata ...</td>\n",
       "    </tr>\n",
       "    <tr>\n",
       "      <th>6</th>\n",
       "      <td>['New Delhi:Collaborative editing may be one o...</td>\n",
       "    </tr>\n",
       "    <tr>\n",
       "      <th>7</th>\n",
       "      <td>['Yavatmal (Maharashtra):A crowd thrashed Arni...</td>\n",
       "    </tr>\n",
       "    <tr>\n",
       "      <th>8</th>\n",
       "      <td>['New Delhi:HighlightsCAG report does not incl...</td>\n",
       "    </tr>\n",
       "    <tr>\n",
       "      <th>9</th>\n",
       "      <td>['Chennai/New Delhi:The BJP\\'s tie-up with the...</td>\n",
       "    </tr>\n",
       "    <tr>\n",
       "      <th>10</th>\n",
       "      <td>['New Delhi:HighlightsGhulam Nabi Azad said Va...</td>\n",
       "    </tr>\n",
       "    <tr>\n",
       "      <th>11</th>\n",
       "      <td>['New Delhi:The Prime Minister Narendra Modi-l...</td>\n",
       "    </tr>\n",
       "    <tr>\n",
       "      <th>12</th>\n",
       "      <td>['Mangaluru:HighlightsPM Modi\\'s brother Prahl...</td>\n",
       "    </tr>\n",
       "    <tr>\n",
       "      <th>13</th>\n",
       "      <td>['New Delhi:The Congress today used the occasi...</td>\n",
       "    </tr>\n",
       "    <tr>\n",
       "      <th>14</th>\n",
       "      <td>['Kurukshetra, Haryana:Prime Minister Narendra...</td>\n",
       "    </tr>\n",
       "    <tr>\n",
       "      <th>15</th>\n",
       "      <td>['Kurukshetra:Prime Minister Narendra Modi Tue...</td>\n",
       "    </tr>\n",
       "    <tr>\n",
       "      <th>16</th>\n",
       "      <td>['Ahmedabad:Claiming that Prime Minister Naren...</td>\n",
       "    </tr>\n",
       "    <tr>\n",
       "      <th>17</th>\n",
       "      <td>['New Delhi:Defence, trade and energy security...</td>\n",
       "    </tr>\n",
       "    <tr>\n",
       "      <th>18</th>\n",
       "      <td>['New Delhi:The BJP Tuesday dismissed Rahul Ga...</td>\n",
       "    </tr>\n",
       "    <tr>\n",
       "      <th>19</th>\n",
       "      <td>['New Delhi:Former prime minister Atal Bihari ...</td>\n",
       "    </tr>\n",
       "    <tr>\n",
       "      <th>20</th>\n",
       "      <td>['New Delhi:Union minister Nitin Gadkari has p...</td>\n",
       "    </tr>\n",
       "    <tr>\n",
       "      <th>21</th>\n",
       "      <td>['Rafale deal: Rahul Gandhi and the Congress h...</td>\n",
       "    </tr>\n",
       "    <tr>\n",
       "      <th>22</th>\n",
       "      <td>['New Delhi:Prime Minister Narendra Modi is \"a...</td>\n",
       "    </tr>\n",
       "    <tr>\n",
       "      <th>23</th>\n",
       "      <td>['PM Modi laid the foundation stones of five p...</td>\n",
       "    </tr>\n",
       "    <tr>\n",
       "      <th>24</th>\n",
       "      <td>['Agartala:HighlightsMinister Manoj Kanti Deb ...</td>\n",
       "    </tr>\n",
       "    <tr>\n",
       "      <th>25</th>\n",
       "      <td>['Hyderabad:Taking a jibe at Congress Presiden...</td>\n",
       "    </tr>\n",
       "    <tr>\n",
       "      <th>26</th>\n",
       "      <td>['New Delhi:Tamil Nadu\\'s ruling AIADMK, which...</td>\n",
       "    </tr>\n",
       "    <tr>\n",
       "      <th>27</th>\n",
       "      <td>['Lucknow:Bahujan Samaj Party chief Mayawati o...</td>\n",
       "    </tr>\n",
       "    <tr>\n",
       "      <th>28</th>\n",
       "      <td>['Vrindavan:Prime Minister Narendra Modi on Mo...</td>\n",
       "    </tr>\n",
       "    <tr>\n",
       "      <th>29</th>\n",
       "      <td>['Kolkata:The Calcutta High Court on Wednesday...</td>\n",
       "    </tr>\n",
       "    <tr>\n",
       "      <th>...</th>\n",
       "      <td>...</td>\n",
       "    </tr>\n",
       "    <tr>\n",
       "      <th>267</th>\n",
       "      <td>['Jaipur:Robert Vadra, Congress president Rahu...</td>\n",
       "    </tr>\n",
       "    <tr>\n",
       "      <th>268</th>\n",
       "      <td>['New Delhi:Sarojini Naidu, often referred as ...</td>\n",
       "    </tr>\n",
       "    <tr>\n",
       "      <th>269</th>\n",
       "      <td>['New Delhi:Union Minister Arun Jaitley today ...</td>\n",
       "    </tr>\n",
       "    <tr>\n",
       "      <th>270</th>\n",
       "      <td>['Lucknow:As Priyanka Gandhi Vadra sets off wi...</td>\n",
       "    </tr>\n",
       "    <tr>\n",
       "      <th>271</th>\n",
       "      <td>['New Delhi:Rajya Sabha proceedings on Wednesd...</td>\n",
       "    </tr>\n",
       "    <tr>\n",
       "      <th>272</th>\n",
       "      <td>['New Delhi:The proceedings of Lok Sabha were ...</td>\n",
       "    </tr>\n",
       "    <tr>\n",
       "      <th>273</th>\n",
       "      <td>['New Delhi:HighlightsCAG report does not incl...</td>\n",
       "    </tr>\n",
       "    <tr>\n",
       "      <th>274</th>\n",
       "      <td>['New Delhi:Congress president Rahul Gandhi, a...</td>\n",
       "    </tr>\n",
       "    <tr>\n",
       "      <th>275</th>\n",
       "      <td>['New Delhi:HighlightsPriyanka Gandhi met with...</td>\n",
       "    </tr>\n",
       "    <tr>\n",
       "      <th>276</th>\n",
       "      <td>['Kolkata:West Bengal chief minister Mamata Ba...</td>\n",
       "    </tr>\n",
       "    <tr>\n",
       "      <th>277</th>\n",
       "      <td>['New Delhi:HighlightsGhulam Nabi Azad said Va...</td>\n",
       "    </tr>\n",
       "    <tr>\n",
       "      <th>278</th>\n",
       "      <td>['Patna:Former Bihar Congress president Ram Ja...</td>\n",
       "    </tr>\n",
       "    <tr>\n",
       "      <th>279</th>\n",
       "      <td>['Mumbai:Senior Nationalist Congress Party (NC...</td>\n",
       "    </tr>\n",
       "    <tr>\n",
       "      <th>280</th>\n",
       "      <td>['Raipur:The new Congress government in Chhatt...</td>\n",
       "    </tr>\n",
       "    <tr>\n",
       "      <th>281</th>\n",
       "      <td>['New Delhi/Lucknow:Congress president Rahul G...</td>\n",
       "    </tr>\n",
       "    <tr>\n",
       "      <th>282</th>\n",
       "      <td>['New Delhi:The Congress today used the occasi...</td>\n",
       "    </tr>\n",
       "    <tr>\n",
       "      <th>283</th>\n",
       "      <td>['Jaipur:As the protesting members of the Gujj...</td>\n",
       "    </tr>\n",
       "    <tr>\n",
       "      <th>284</th>\n",
       "      <td>['New Delhi:Congress chief Rahul Gandhi has al...</td>\n",
       "    </tr>\n",
       "    <tr>\n",
       "      <th>285</th>\n",
       "      <td>['Lucknow:Congress general secretary Priyanka ...</td>\n",
       "    </tr>\n",
       "    <tr>\n",
       "      <th>286</th>\n",
       "      <td>['New Delhi:Kapil Sibal wore two hats on Tuesd...</td>\n",
       "    </tr>\n",
       "    <tr>\n",
       "      <th>287</th>\n",
       "      <td>['New Delhi:Amid bitter exchanges between the ...</td>\n",
       "    </tr>\n",
       "    <tr>\n",
       "      <th>288</th>\n",
       "      <td>['New Delhi:On a day Priyanka Gandhi Vadra lau...</td>\n",
       "    </tr>\n",
       "    <tr>\n",
       "      <th>289</th>\n",
       "      <td>['New Delhi:Union minister Nitin Gadkari has p...</td>\n",
       "    </tr>\n",
       "    <tr>\n",
       "      <th>290</th>\n",
       "      <td>['Rafale deal: Rahul Gandhi and the Congress h...</td>\n",
       "    </tr>\n",
       "    <tr>\n",
       "      <th>291</th>\n",
       "      <td>['New Delhi:Robert Vadra, Congress president R...</td>\n",
       "    </tr>\n",
       "    <tr>\n",
       "      <th>292</th>\n",
       "      <td>['New Delhi:Congress president Rahul Gandhi on...</td>\n",
       "    </tr>\n",
       "    <tr>\n",
       "      <th>293</th>\n",
       "      <td>['Hyderabad:Taking a jibe at Congress Presiden...</td>\n",
       "    </tr>\n",
       "    <tr>\n",
       "      <th>294</th>\n",
       "      <td>['New Delhi:The Aam Aadmi Party (AAP) has invi...</td>\n",
       "    </tr>\n",
       "    <tr>\n",
       "      <th>295</th>\n",
       "      <td>['New Delhi:The Congress on Monday slammed BJP...</td>\n",
       "    </tr>\n",
       "    <tr>\n",
       "      <th>296</th>\n",
       "      <td>['Bengaluru:Cracking the whip, the Congress on...</td>\n",
       "    </tr>\n",
       "  </tbody>\n",
       "</table>\n",
       "<p>297 rows × 1 columns</p>\n",
       "</div>"
      ],
      "text/plain": [
       "                                                     0\n",
       "0    ['New Delhi:Reacting to Samajwadi Party founde...\n",
       "1    ['New Delhi:Tackling a contradiction that has ...\n",
       "2    ['New Delhi:Prime Minister Narendra Modi, deli...\n",
       "3    ['New Delhi:A restaurant owner in Karnataka, a...\n",
       "4    ['New Delhi:Highlights\"Mulayam Singhji has giv...\n",
       "5    ['New Delhi:West Bengal Chief Minister Mamata ...\n",
       "6    ['New Delhi:Collaborative editing may be one o...\n",
       "7    ['Yavatmal (Maharashtra):A crowd thrashed Arni...\n",
       "8    ['New Delhi:HighlightsCAG report does not incl...\n",
       "9    ['Chennai/New Delhi:The BJP\\'s tie-up with the...\n",
       "10   ['New Delhi:HighlightsGhulam Nabi Azad said Va...\n",
       "11   ['New Delhi:The Prime Minister Narendra Modi-l...\n",
       "12   ['Mangaluru:HighlightsPM Modi\\'s brother Prahl...\n",
       "13   ['New Delhi:The Congress today used the occasi...\n",
       "14   ['Kurukshetra, Haryana:Prime Minister Narendra...\n",
       "15   ['Kurukshetra:Prime Minister Narendra Modi Tue...\n",
       "16   ['Ahmedabad:Claiming that Prime Minister Naren...\n",
       "17   ['New Delhi:Defence, trade and energy security...\n",
       "18   ['New Delhi:The BJP Tuesday dismissed Rahul Ga...\n",
       "19   ['New Delhi:Former prime minister Atal Bihari ...\n",
       "20   ['New Delhi:Union minister Nitin Gadkari has p...\n",
       "21   ['Rafale deal: Rahul Gandhi and the Congress h...\n",
       "22   ['New Delhi:Prime Minister Narendra Modi is \"a...\n",
       "23   ['PM Modi laid the foundation stones of five p...\n",
       "24   ['Agartala:HighlightsMinister Manoj Kanti Deb ...\n",
       "25   ['Hyderabad:Taking a jibe at Congress Presiden...\n",
       "26   ['New Delhi:Tamil Nadu\\'s ruling AIADMK, which...\n",
       "27   ['Lucknow:Bahujan Samaj Party chief Mayawati o...\n",
       "28   ['Vrindavan:Prime Minister Narendra Modi on Mo...\n",
       "29   ['Kolkata:The Calcutta High Court on Wednesday...\n",
       "..                                                 ...\n",
       "267  ['Jaipur:Robert Vadra, Congress president Rahu...\n",
       "268  ['New Delhi:Sarojini Naidu, often referred as ...\n",
       "269  ['New Delhi:Union Minister Arun Jaitley today ...\n",
       "270  ['Lucknow:As Priyanka Gandhi Vadra sets off wi...\n",
       "271  ['New Delhi:Rajya Sabha proceedings on Wednesd...\n",
       "272  ['New Delhi:The proceedings of Lok Sabha were ...\n",
       "273  ['New Delhi:HighlightsCAG report does not incl...\n",
       "274  ['New Delhi:Congress president Rahul Gandhi, a...\n",
       "275  ['New Delhi:HighlightsPriyanka Gandhi met with...\n",
       "276  ['Kolkata:West Bengal chief minister Mamata Ba...\n",
       "277  ['New Delhi:HighlightsGhulam Nabi Azad said Va...\n",
       "278  ['Patna:Former Bihar Congress president Ram Ja...\n",
       "279  ['Mumbai:Senior Nationalist Congress Party (NC...\n",
       "280  ['Raipur:The new Congress government in Chhatt...\n",
       "281  ['New Delhi/Lucknow:Congress president Rahul G...\n",
       "282  ['New Delhi:The Congress today used the occasi...\n",
       "283  ['Jaipur:As the protesting members of the Gujj...\n",
       "284  ['New Delhi:Congress chief Rahul Gandhi has al...\n",
       "285  ['Lucknow:Congress general secretary Priyanka ...\n",
       "286  ['New Delhi:Kapil Sibal wore two hats on Tuesd...\n",
       "287  ['New Delhi:Amid bitter exchanges between the ...\n",
       "288  ['New Delhi:On a day Priyanka Gandhi Vadra lau...\n",
       "289  ['New Delhi:Union minister Nitin Gadkari has p...\n",
       "290  ['Rafale deal: Rahul Gandhi and the Congress h...\n",
       "291  ['New Delhi:Robert Vadra, Congress president R...\n",
       "292  ['New Delhi:Congress president Rahul Gandhi on...\n",
       "293  ['Hyderabad:Taking a jibe at Congress Presiden...\n",
       "294  ['New Delhi:The Aam Aadmi Party (AAP) has invi...\n",
       "295  ['New Delhi:The Congress on Monday slammed BJP...\n",
       "296  ['Bengaluru:Cracking the whip, the Congress on...\n",
       "\n",
       "[297 rows x 1 columns]"
      ]
     },
     "execution_count": 4,
     "metadata": {
      "tags": []
     },
     "output_type": "execute_result"
    }
   ],
   "source": [
    "article"
   ]
  },
  {
   "cell_type": "code",
   "execution_count": 0,
   "metadata": {
    "colab": {},
    "colab_type": "code",
    "id": "8UwaM1ZNxjq2"
   },
   "outputs": [],
   "source": [
    "import seaborn as sns\n",
    "import spacy\n",
    "from wordcloud import WordCloud\n",
    "import re"
   ]
  },
  {
   "cell_type": "code",
   "execution_count": 0,
   "metadata": {
    "colab": {},
    "colab_type": "code",
    "id": "U48ptItUxs4J"
   },
   "outputs": [],
   "source": [
    "import nltk"
   ]
  },
  {
   "cell_type": "code",
   "execution_count": 0,
   "metadata": {
    "colab": {},
    "colab_type": "code",
    "id": "D4E8gvwWyFe0"
   },
   "outputs": [],
   "source": [
    "article.columns = ['text']"
   ]
  },
  {
   "cell_type": "code",
   "execution_count": 0,
   "metadata": {
    "colab": {},
    "colab_type": "code",
    "id": "4Nw_vtq1xwAa"
   },
   "outputs": [],
   "source": [
    "replace_1 = re.compile(\"(\\.)|(\\;)|(\\:)|(\\!)|(\\')|(\\?)|(\\,)|(\\\")|(\\()|(\\))|(\\[)|(\\])\")\n",
    "replace_2 = re.compile(\"(<br\\s*/><br\\s*/>)|(\\-)|(\\/)\")\n",
    "\n",
    "# function to clean text data\n",
    "def clean_reviews(reviews):\n",
    "    reviews = [replace_1.sub(\"\", line.lower()) for line in reviews]\n",
    "    reviews = [replace_2.sub(\" \", line) for line in reviews]\n",
    "    return reviews"
   ]
  },
  {
   "cell_type": "code",
   "execution_count": 0,
   "metadata": {
    "colab": {},
    "colab_type": "code",
    "id": "pIhUlZb5x8zh"
   },
   "outputs": [],
   "source": [
    "article['text'] = clean_reviews(article['text'])"
   ]
  },
  {
   "cell_type": "code",
   "execution_count": 10,
   "metadata": {
    "colab": {
     "base_uri": "https://localhost:8080/",
     "height": 204
    },
    "colab_type": "code",
    "id": "8HHzgk1zy7MN",
    "outputId": "e3dac0b4-2a21-42c8-d09c-386f23f27a14"
   },
   "outputs": [
    {
     "data": {
      "text/html": [
       "<div>\n",
       "<style scoped>\n",
       "    .dataframe tbody tr th:only-of-type {\n",
       "        vertical-align: middle;\n",
       "    }\n",
       "\n",
       "    .dataframe tbody tr th {\n",
       "        vertical-align: top;\n",
       "    }\n",
       "\n",
       "    .dataframe thead th {\n",
       "        text-align: right;\n",
       "    }\n",
       "</style>\n",
       "<table border=\"1\" class=\"dataframe\">\n",
       "  <thead>\n",
       "    <tr style=\"text-align: right;\">\n",
       "      <th></th>\n",
       "      <th>text</th>\n",
       "    </tr>\n",
       "  </thead>\n",
       "  <tbody>\n",
       "    <tr>\n",
       "      <th>0</th>\n",
       "      <td>new delhireacting to samajwadi party founder m...</td>\n",
       "    </tr>\n",
       "    <tr>\n",
       "      <th>1</th>\n",
       "      <td>new delhitackling a contradiction that has lon...</td>\n",
       "    </tr>\n",
       "    <tr>\n",
       "      <th>2</th>\n",
       "      <td>new delhiprime minister narendra modi deliveri...</td>\n",
       "    </tr>\n",
       "    <tr>\n",
       "      <th>3</th>\n",
       "      <td>new delhia restaurant owner in karnataka an ar...</td>\n",
       "    </tr>\n",
       "    <tr>\n",
       "      <th>4</th>\n",
       "      <td>new delhihighlightsmulayam singhji has given h...</td>\n",
       "    </tr>\n",
       "  </tbody>\n",
       "</table>\n",
       "</div>"
      ],
      "text/plain": [
       "                                                text\n",
       "0  new delhireacting to samajwadi party founder m...\n",
       "1  new delhitackling a contradiction that has lon...\n",
       "2  new delhiprime minister narendra modi deliveri...\n",
       "3  new delhia restaurant owner in karnataka an ar...\n",
       "4  new delhihighlightsmulayam singhji has given h..."
      ]
     },
     "execution_count": 10,
     "metadata": {
      "tags": []
     },
     "output_type": "execute_result"
    }
   ],
   "source": [
    "article.head()"
   ]
  },
  {
   "cell_type": "code",
   "execution_count": 0,
   "metadata": {
    "colab": {},
    "colab_type": "code",
    "id": "HWt7OpUGzB4b"
   },
   "outputs": [],
   "source": [
    "from nltk import FreqDist\n",
    "import matplotlib.pyplot as plt\n",
    "%matplotlib inline\n",
    "\n",
    "from tqdm import tqdm"
   ]
  },
  {
   "cell_type": "code",
   "execution_count": 0,
   "metadata": {
    "colab": {},
    "colab_type": "code",
    "id": "elgg38xuzEOf"
   },
   "outputs": [],
   "source": [
    "def freq_words(x, terms = 30):\n",
    "  all_words = ' '.join([text for text in x])\n",
    "  all_words = all_words.split()\n",
    "  \n",
    "  fdist = FreqDist(all_words)\n",
    "  words_df = pd.DataFrame({'word':list(fdist.keys()), 'count':list(fdist.values())})\n",
    "  \n",
    "  # selecting top n most frequent words\n",
    "  d = words_df.nlargest(columns=\"count\", n = terms) \n",
    "  plt.figure(figsize=(20,5))\n",
    "  ax = sns.barplot(data=d, x= \"word\", y = \"count\")\n",
    "  ax.set(ylabel = 'Count')\n",
    "  plt.show()"
   ]
  },
  {
   "cell_type": "code",
   "execution_count": 13,
   "metadata": {
    "colab": {
     "base_uri": "https://localhost:8080/",
     "height": 368
    },
    "colab_type": "code",
    "id": "KLlG52j8zGus",
    "outputId": "87403310-5bae-4b31-971d-299494eeeb11"
   },
   "outputs": [
    {
     "name": "stderr",
     "output_type": "stream",
     "text": [
      "/usr/local/lib/python3.6/dist-packages/seaborn/categorical.py:1428: FutureWarning: remove_na is deprecated and is a private function. Do not use.\n",
      "  stat_data = remove_na(group_data)\n"
     ]
    },
    {
     "data": {
      "image/png": "[encoded data removed]",
      "text/plain": [
       "<Figure size 1440x360 with 1 Axes>"
      ]
     },
     "metadata": {
      "tags": []
     },
     "output_type": "display_data"
    }
   ],
   "source": [
    "freq_words(article['text'])"
   ]
  },
  {
   "cell_type": "code",
   "execution_count": 0,
   "metadata": {
    "colab": {},
    "colab_type": "code",
    "id": "yHVGaqtSzLDT"
   },
   "outputs": [],
   "source": [
    "\n",
    "nlp = spacy.load('en_core_web_sm')\n",
    "\n",
    "#excluding key stopwords to maintain the semantics of the text \n",
    "nlp.vocab['however'].is_stop = False\n",
    "nlp.vocab['no'].is_stop = False\n",
    "nlp.vocab['not'].is_stop = False\n",
    "nlp.vocab['but'].is_stop = False"
   ]
  },
  {
   "cell_type": "code",
   "execution_count": 0,
   "metadata": {
    "colab": {},
    "colab_type": "code",
    "id": "X8GAnXXKzO7t"
   },
   "outputs": [],
   "source": [
    "def tokenization(x):\n",
    "    reviews_tokens = []\n",
    "    for i in tqdm(x):\n",
    "        i = nlp(i)\n",
    "        temp = []\n",
    "        for j in i:\n",
    "            temp.append(j.text)\n",
    "        reviews_tokens.append(temp)\n",
    "    \n",
    "    return reviews_tokens"
   ]
  },
  {
   "cell_type": "code",
   "execution_count": 16,
   "metadata": {
    "colab": {
     "base_uri": "https://localhost:8080/",
     "height": 34
    },
    "colab_type": "code",
    "id": "kRgaR8E3zRpy",
    "outputId": "4ca954bd-5378-46e4-a847-3c317ce8b0c8"
   },
   "outputs": [
    {
     "name": "stderr",
     "output_type": "stream",
     "text": [
      "100%|██████████| 297/297 [00:41<00:00,  7.00it/s]\n"
     ]
    }
   ],
   "source": [
    "article['tokenized_news'] = tokenization(article['text'])"
   ]
  },
  {
   "cell_type": "code",
   "execution_count": 0,
   "metadata": {
    "colab": {},
    "colab_type": "code",
    "id": "cU7gxj52zWP7"
   },
   "outputs": [],
   "source": [
    "#function to remove STOPWORDS:\n",
    "def strip_stopwords(reviews):\n",
    "    s = []\n",
    "    for r in tqdm(reviews):\n",
    "        s_2 = []\n",
    "        for token in r:\n",
    "            if nlp.vocab[token].is_stop == True:\n",
    "                continue\n",
    "            else:\n",
    "                s_2.append(token)\n",
    "        s.append(\" \".join(s_2))    \n",
    "        \n",
    "    return s"
   ]
  },
  {
   "cell_type": "code",
   "execution_count": 18,
   "metadata": {
    "colab": {
     "base_uri": "https://localhost:8080/",
     "height": 34
    },
    "colab_type": "code",
    "id": "zxzj0Zebzh1f",
    "outputId": "6d012cd8-922c-4f7a-8066-b0b61de59ec4"
   },
   "outputs": [
    {
     "name": "stderr",
     "output_type": "stream",
     "text": [
      "100%|██████████| 297/297 [00:00<00:00, 1709.15it/s]\n"
     ]
    }
   ],
   "source": [
    "article['news_cleaned'] = strip_stopwords(article['tokenized_news'])"
   ]
  },
  {
   "cell_type": "code",
   "execution_count": 19,
   "metadata": {
    "colab": {
     "base_uri": "https://localhost:8080/",
     "height": 368
    },
    "colab_type": "code",
    "id": "JAn9qQVrzstO",
    "outputId": "a8e327c5-372a-4724-8d8b-b49082aaa6b4"
   },
   "outputs": [
    {
     "name": "stderr",
     "output_type": "stream",
     "text": [
      "/usr/local/lib/python3.6/dist-packages/seaborn/categorical.py:1428: FutureWarning: remove_na is deprecated and is a private function. Do not use.\n",
      "  stat_data = remove_na(group_data)\n"
     ]
    },
    {
     "data": {
      "image/png": "[encoded data removed]",
      "text/plain": [
       "<Figure size 1440x360 with 1 Axes>"
      ]
     },
     "metadata": {
      "tags": []
     },
     "output_type": "display_data"
    }
   ],
   "source": [
    "freq_words(article['news_cleaned'])"
   ]
  },
  {
   "cell_type": "code",
   "execution_count": 0,
   "metadata": {
    "colab": {},
    "colab_type": "code",
    "id": "Lw6r7dOvzwXr"
   },
   "outputs": [],
   "source": [
    "article['news_cleaned'] = article['news_cleaned'].apply(lambda x: ' '.join([w for w in x.split() if len(w)>1]))"
   ]
  },
  {
   "cell_type": "code",
   "execution_count": 21,
   "metadata": {
    "colab": {
     "base_uri": "https://localhost:8080/",
     "height": 368
    },
    "colab_type": "code",
    "id": "cnfZifaWz3sx",
    "outputId": "c301b821-5ba6-48a4-fe68-991befd1eac6"
   },
   "outputs": [
    {
     "name": "stderr",
     "output_type": "stream",
     "text": [
      "/usr/local/lib/python3.6/dist-packages/seaborn/categorical.py:1428: FutureWarning: remove_na is deprecated and is a private function. Do not use.\n",
      "  stat_data = remove_na(group_data)\n"
     ]
    },
    {
     "data": {
      "image/png": "[encoded data removed]",
      "text/plain": [
       "<Figure size 1440x360 with 1 Axes>"
      ]
     },
     "metadata": {
      "tags": []
     },
     "output_type": "display_data"
    }
   ],
   "source": [
    "freq_words(article['news_cleaned'])"
   ]
  },
  {
   "cell_type": "code",
   "execution_count": 22,
   "metadata": {
    "colab": {
     "base_uri": "https://localhost:8080/",
     "height": 119
    },
    "colab_type": "code",
    "id": "jweHsa2xz6xE",
    "outputId": "b8329d28-6dc3-448c-dbb6-8cab592c00f2"
   },
   "outputs": [
    {
     "data": {
      "text/plain": [
       "0    new delhireacting to samajwadi party founder m...\n",
       "1    new delhitackling a contradiction that has lon...\n",
       "2    new delhiprime minister narendra modi deliveri...\n",
       "3    new delhia restaurant owner in karnataka an ar...\n",
       "4    new delhihighlightsmulayam singhji has given h...\n",
       "Name: text, dtype: object"
      ]
     },
     "execution_count": 22,
     "metadata": {
      "tags": []
     },
     "output_type": "execute_result"
    }
   ],
   "source": [
    "news=article['text'].copy()\n",
    "\n",
    "news.head()"
   ]
  },
  {
   "cell_type": "code",
   "execution_count": 0,
   "metadata": {
    "colab": {},
    "colab_type": "code",
    "id": "ycWmBxfI3Tzr"
   },
   "outputs": [],
   "source": [
    "tokenize_pattern = \"[A-Za-z-']+\"\n",
    "\n",
    "tokenizer = nltk.tokenize.RegexpTokenizer(pattern=tokenize_pattern)\n",
    "news_tokens = [tokenizer.tokenize(rev.lower()) for rev in news]"
   ]
  },
  {
   "cell_type": "code",
   "execution_count": 0,
   "metadata": {
    "colab": {},
    "colab_type": "code",
    "id": "62ieWGzv3cFk"
   },
   "outputs": [],
   "source": [
    "from collections import Counter \n",
    "from wordcloud import STOPWORDS"
   ]
  },
  {
   "cell_type": "code",
   "execution_count": 0,
   "metadata": {
    "colab": {},
    "colab_type": "code",
    "id": "nFzO6FOp3d31"
   },
   "outputs": [],
   "source": [
    "for rev in news_tokens:\n",
    "    for w in STOPWORDS:\n",
    "        while True:\n",
    "            try:\n",
    "                rev.remove(w)\n",
    "            except:\n",
    "                break"
   ]
  },
  {
   "cell_type": "code",
   "execution_count": 0,
   "metadata": {
    "colab": {},
    "colab_type": "code",
    "id": "3BBho0X73g47"
   },
   "outputs": [],
   "source": [
    "news_token_all = [w for rev in news_tokens for w in rev]"
   ]
  },
  {
   "cell_type": "code",
   "execution_count": 27,
   "metadata": {
    "colab": {
     "base_uri": "https://localhost:8080/",
     "height": 34
    },
    "colab_type": "code",
    "id": "cMUAEFmX3lvl",
    "outputId": "23d5a16a-d4d7-488f-e0e4-880ab6d2ec3e"
   },
   "outputs": [
    {
     "data": {
      "text/plain": [
       "72219"
      ]
     },
     "execution_count": 27,
     "metadata": {
      "tags": []
     },
     "output_type": "execute_result"
    }
   ],
   "source": [
    "len(news_token_all)"
   ]
  },
  {
   "cell_type": "code",
   "execution_count": 0,
   "metadata": {
    "colab": {},
    "colab_type": "code",
    "id": "FuTdpQu03nZR"
   },
   "outputs": [],
   "source": [
    "word_count = Counter(news_token_all)"
   ]
  },
  {
   "cell_type": "code",
   "execution_count": 29,
   "metadata": {
    "colab": {
     "base_uri": "https://localhost:8080/",
     "height": 867
    },
    "colab_type": "code",
    "id": "jh5A2__T3pDF",
    "outputId": "d895d1d9-34da-43e3-9479-537e310fa146"
   },
   "outputs": [
    {
     "data": {
      "text/plain": [
       "[('s', 1345),\n",
       " ('gandhi', 1123),\n",
       " ('congress', 1058),\n",
       " ('minister', 1000),\n",
       " ('said', 870),\n",
       " ('modi', 808),\n",
       " ('party', 767),\n",
       " ('bjp', 658),\n",
       " ('prime', 580),\n",
       " ('pm', 554),\n",
       " ('rahul', 545),\n",
       " ('government', 485),\n",
       " ('rafale', 484),\n",
       " ('mr', 462),\n",
       " ('will', 450),\n",
       " ('deal', 448),\n",
       " ('anil', 410),\n",
       " ('n', 398),\n",
       " ('sabha', 385),\n",
       " ('ambani', 362),\n",
       " ('chief', 352),\n",
       " ('defence', 346),\n",
       " ('president', 326),\n",
       " ('vadra', 326),\n",
       " ('lok', 323),\n",
       " ('narendra', 288),\n",
       " ('new', 285),\n",
       " ('india', 264),\n",
       " ('pradesh', 262),\n",
       " ('yadav', 259),\n",
       " ('leader', 248),\n",
       " ('today', 238),\n",
       " ('priyanka', 224),\n",
       " ('state', 220),\n",
       " ('national', 218),\n",
       " ('last', 212),\n",
       " ('uttar', 208),\n",
       " ('report', 202),\n",
       " ('leaders', 201),\n",
       " ('opposition', 199),\n",
       " ('country', 196),\n",
       " ('alliance', 166),\n",
       " ('says', 164),\n",
       " ('banerjee', 158),\n",
       " ('one', 155),\n",
       " ('time', 152),\n",
       " ('general', 152),\n",
       " ('singh', 151),\n",
       " ('corruption', 150),\n",
       " ('day', 148)]"
      ]
     },
     "execution_count": 29,
     "metadata": {
      "tags": []
     },
     "output_type": "execute_result"
    }
   ],
   "source": [
    "word_count.most_common(50)"
   ]
  },
  {
   "cell_type": "code",
   "execution_count": 30,
   "metadata": {
    "colab": {
     "base_uri": "https://localhost:8080/",
     "height": 347
    },
    "colab_type": "code",
    "id": "N2JTmkW23rVx",
    "outputId": "cc671da6-3d44-4a08-fbd7-36ce6885fc99"
   },
   "outputs": [
    {
     "data": {
      "text/plain": [
       "<matplotlib.image.AxesImage at 0x7f8724f3e6a0>"
      ]
     },
     "execution_count": 30,
     "metadata": {
      "tags": []
     },
     "output_type": "execute_result"
    },
    {
     "data": {
      "image/png": "[encoded data removed]",
      "text/plain": [
       "<Figure size 720x576 with 1 Axes>"
      ]
     },
     "metadata": {
      "tags": []
     },
     "output_type": "display_data"
    }
   ],
   "source": [
    "wc = WordCloud(max_words=100)\n",
    "plt.figure(figsize=(10,8))\n",
    "plt.imshow(wc.generate_from_frequencies(word_count))"
   ]
  },
  {
   "cell_type": "code",
   "execution_count": 0,
   "metadata": {
    "colab": {},
    "colab_type": "code",
    "id": "66LoKabR3u3z"
   },
   "outputs": [],
   "source": [
    "tokenize_pattern = \"[A-Za-z-']+\"\n",
    "\n",
    "tokenizer = nltk.tokenize.RegexpTokenizer(pattern=tokenize_pattern)\n",
    "clean_news_tokens = [tokenizer.tokenize(rev.lower()) for rev in news]"
   ]
  },
  {
   "cell_type": "code",
   "execution_count": 0,
   "metadata": {
    "colab": {},
    "colab_type": "code",
    "id": "mjTjpr0Z3xmX"
   },
   "outputs": [],
   "source": [
    "clean_news_token_all = [w for rev in clean_news_tokens for w in rev]"
   ]
  },
  {
   "cell_type": "code",
   "execution_count": 33,
   "metadata": {
    "colab": {
     "base_uri": "https://localhost:8080/",
     "height": 34
    },
    "colab_type": "code",
    "id": "HbHAS11q36cl",
    "outputId": "0412c5c1-4920-4c9e-c248-eb9e981edbe5"
   },
   "outputs": [
    {
     "data": {
      "text/plain": [
       "118156"
      ]
     },
     "execution_count": 33,
     "metadata": {
      "tags": []
     },
     "output_type": "execute_result"
    }
   ],
   "source": [
    "len(clean_news_token_all)"
   ]
  },
  {
   "cell_type": "code",
   "execution_count": 34,
   "metadata": {
    "colab": {
     "base_uri": "https://localhost:8080/",
     "height": 867
    },
    "colab_type": "code",
    "id": "iWCnA0NW38gL",
    "outputId": "51ecdf7e-b51a-4971-f66f-76435c6da5e7"
   },
   "outputs": [
    {
     "data": {
      "text/plain": [
       "[('the', 8021),\n",
       " ('in', 2788),\n",
       " ('of', 2690),\n",
       " ('to', 2461),\n",
       " ('and', 2456),\n",
       " ('a', 2010),\n",
       " ('s', 1345),\n",
       " ('is', 1186),\n",
       " ('on', 1128),\n",
       " ('gandhi', 1123),\n",
       " ('that', 1078),\n",
       " ('congress', 1058),\n",
       " ('minister', 1000),\n",
       " ('with', 937),\n",
       " ('for', 936),\n",
       " ('has', 873),\n",
       " ('said', 870),\n",
       " ('he', 863),\n",
       " ('was', 846),\n",
       " ('modi', 808),\n",
       " ('party', 767),\n",
       " ('by', 723),\n",
       " ('bjp', 658),\n",
       " ('his', 654),\n",
       " ('had', 653),\n",
       " ('as', 618),\n",
       " ('prime', 580),\n",
       " ('at', 565),\n",
       " ('pm', 554),\n",
       " ('rahul', 545),\n",
       " ('it', 536),\n",
       " ('an', 507),\n",
       " ('government', 485),\n",
       " ('have', 484),\n",
       " ('rafale', 484),\n",
       " ('been', 472),\n",
       " ('mr', 462),\n",
       " ('will', 450),\n",
       " ('deal', 448),\n",
       " ('this', 425),\n",
       " ('not', 418),\n",
       " ('anil', 410),\n",
       " ('who', 403),\n",
       " ('n', 398),\n",
       " ('after', 394),\n",
       " ('sabha', 385),\n",
       " ('be', 380),\n",
       " ('her', 368),\n",
       " ('ambani', 362),\n",
       " ('chief', 352)]"
      ]
     },
     "execution_count": 34,
     "metadata": {
      "tags": []
     },
     "output_type": "execute_result"
    }
   ],
   "source": [
    "news_count = Counter(clean_news_token_all)\n",
    "news_count.most_common(50)"
   ]
  },
  {
   "cell_type": "code",
   "execution_count": 35,
   "metadata": {
    "colab": {
     "base_uri": "https://localhost:8080/",
     "height": 347
    },
    "colab_type": "code",
    "id": "U2RJqfDA390v",
    "outputId": "60996028-c95d-4769-8a37-bb19f2d6b1a6"
   },
   "outputs": [
    {
     "data": {
      "text/plain": [
       "<matplotlib.image.AxesImage at 0x7f8723aa7160>"
      ]
     },
     "execution_count": 35,
     "metadata": {
      "tags": []
     },
     "output_type": "execute_result"
    },
    {
     "data": {
      "image/png": "[encoded data removed]",
      "text/plain": [
       "<Figure size 720x576 with 1 Axes>"
      ]
     },
     "metadata": {
      "tags": []
     },
     "output_type": "display_data"
    }
   ],
   "source": [
    "nc = WordCloud(max_words=100)\n",
    "plt.figure(figsize=(10,8))\n",
    "plt.imshow(wc.generate_from_frequencies(news_count))"
   ]
  },
  {
   "cell_type": "code",
   "execution_count": 0,
   "metadata": {
    "colab": {},
    "colab_type": "code",
    "id": "JpYDW0yPzaJK"
   },
   "outputs": [],
   "source": [
    "import gensim"
   ]
  },
  {
   "cell_type": "code",
   "execution_count": 0,
   "metadata": {
    "colab": {},
    "colab_type": "code",
    "id": "It8khTKuz87e"
   },
   "outputs": [],
   "source": [
    "only_reviews = article.text"
   ]
  },
  {
   "cell_type": "code",
   "execution_count": 0,
   "metadata": {
    "colab": {},
    "colab_type": "code",
    "id": "iSZI94wN0AW3"
   },
   "outputs": [],
   "source": [
    "only_reviews1 = [gensim.utils.any2utf8(rev.lower()) for rev in only_reviews]"
   ]
  },
  {
   "cell_type": "code",
   "execution_count": 0,
   "metadata": {
    "colab": {},
    "colab_type": "code",
    "id": "MRx6DIfW0CgC"
   },
   "outputs": [],
   "source": [
    "only_reviews1 = [gensim.parsing.remove_stopwords(rev) for rev in only_reviews1]"
   ]
  },
  {
   "cell_type": "code",
   "execution_count": 0,
   "metadata": {
    "colab": {},
    "colab_type": "code",
    "id": "vAP3lW-D0EVM"
   },
   "outputs": [],
   "source": [
    "tokens = [list(gensim.utils.tokenize(rev)) for rev in only_reviews1]"
   ]
  },
  {
   "cell_type": "code",
   "execution_count": 0,
   "metadata": {
    "colab": {},
    "colab_type": "code",
    "id": "y-MHIBV10GCL"
   },
   "outputs": [],
   "source": [
    "dictionaries = gensim.corpora.Dictionary(tokens)"
   ]
  },
  {
   "cell_type": "code",
   "execution_count": 0,
   "metadata": {
    "colab": {},
    "colab_type": "code",
    "id": "lqSNSu9p0Hl6"
   },
   "outputs": [],
   "source": [
    "dictionaries.filter_extremes(no_below=10)"
   ]
  },
  {
   "cell_type": "code",
   "execution_count": 43,
   "metadata": {
    "colab": {
     "base_uri": "https://localhost:8080/",
     "height": 34
    },
    "colab_type": "code",
    "id": "yMBjYQXY0JDC",
    "outputId": "7cb3ab2c-8a4b-4858-e4a8-cad668cbc94d"
   },
   "outputs": [
    {
     "data": {
      "text/plain": [
       "1060"
      ]
     },
     "execution_count": 43,
     "metadata": {
      "tags": []
     },
     "output_type": "execute_result"
    }
   ],
   "source": [
    "len(list(dictionaries))"
   ]
  },
  {
   "cell_type": "code",
   "execution_count": 44,
   "metadata": {
    "colab": {
     "base_uri": "https://localhost:8080/",
     "height": 34
    },
    "colab_type": "code",
    "id": "zxGFP5CD0Kvs",
    "outputId": "0c9404c3-9999-4d58-991c-bf95b160d42d"
   },
   "outputs": [
    {
     "name": "stdout",
     "output_type": "stream",
     "text": [
      "NDTV_Feb13_article.csv  \u001b[0m\u001b[01;34msample_data\u001b[0m/\n"
     ]
    }
   ],
   "source": [
    "ls"
   ]
  },
  {
   "cell_type": "code",
   "execution_count": 0,
   "metadata": {
    "colab": {},
    "colab_type": "code",
    "id": "ThHk-KLv0QYw"
   },
   "outputs": [],
   "source": [
    "dictionaries.save(\"TEXTA.dict\")"
   ]
  },
  {
   "cell_type": "code",
   "execution_count": 46,
   "metadata": {
    "colab": {
     "base_uri": "https://localhost:8080/",
     "height": 34
    },
    "colab_type": "code",
    "id": "OTl6_62U03sp",
    "outputId": "66ce2850-16d7-454b-e44d-2b6fca0ed9be"
   },
   "outputs": [
    {
     "name": "stdout",
     "output_type": "stream",
     "text": [
      "NDTV_Feb13_article.csv  \u001b[0m\u001b[01;34msample_data\u001b[0m/  TEXTA.dict\n"
     ]
    }
   ],
   "source": [
    "ls"
   ]
  },
  {
   "cell_type": "code",
   "execution_count": 0,
   "metadata": {
    "colab": {},
    "colab_type": "code",
    "id": "jSc13XJ404g4"
   },
   "outputs": [],
   "source": [
    "news_corpora = [dictionaries.doc2bow(t) for t in tokens]"
   ]
  },
  {
   "cell_type": "code",
   "execution_count": 0,
   "metadata": {
    "colab": {},
    "colab_type": "code",
    "id": "ELnUX-G408CD"
   },
   "outputs": [],
   "source": [
    "gensim.corpora.MmCorpus.serialize(\"TEXTA.dict\",\n",
    "                                  news_corpora)"
   ]
  },
  {
   "cell_type": "code",
   "execution_count": 0,
   "metadata": {
    "colab": {},
    "colab_type": "code",
    "id": "-gb7M1wC0_zy"
   },
   "outputs": [],
   "source": [
    "tfidf_news = gensim.models.TfidfModel(news_corpora)\n",
    "tfidf_corpus = tfidf_news[news_corpora]"
   ]
  },
  {
   "cell_type": "code",
   "execution_count": 0,
   "metadata": {
    "colab": {},
    "colab_type": "code",
    "id": "oicI6UDR1BnV"
   },
   "outputs": [],
   "source": [
    "lsi_model = gensim.models.lsimodel.LsiModel(tfidf_corpus,num_topics= 10, id2word= dictionaries)"
   ]
  },
  {
   "cell_type": "code",
   "execution_count": 51,
   "metadata": {
    "colab": {
     "base_uri": "https://localhost:8080/",
     "height": 377
    },
    "colab_type": "code",
    "id": "lYTBF3l31FRi",
    "outputId": "92d685be-4693-4604-b31b-04e9da5cd0c9"
   },
   "outputs": [
    {
     "data": {
      "text/plain": [
       "[(0,\n",
       "  '0.196*\"deal\" + 0.193*\"rafale\" + 0.188*\"ambani\" + 0.172*\"anil\" + 0.170*\"report\" + 0.148*\"defence\" + 0.141*\"vadra\" + 0.126*\"yadav\" + 0.121*\"cag\" + 0.118*\"priyanka\"'),\n",
       " (1,\n",
       "  '0.220*\"ambani\" + 0.204*\"rafale\" + 0.201*\"deal\" + 0.200*\"anil\" + 0.198*\"report\" + -0.183*\"vadra\" + 0.161*\"defence\" + -0.151*\"priyanka\" + -0.149*\"yadav\" + 0.144*\"cag\"'),\n",
       " (2,\n",
       "  '0.280*\"hug\" + 0.242*\"yadav\" + 0.228*\"hate\" + -0.216*\"vadra\" + 0.177*\"mulayam\" + 0.160*\"don\" + -0.138*\"enforcement\" + 0.127*\"hugging\" + 0.126*\"comment\" + -0.123*\"directorate\"'),\n",
       " (3,\n",
       "  '-0.376*\"banerjee\" + 0.312*\"yadav\" + -0.234*\"bengal\" + 0.233*\"mulayam\" + 0.163*\"samajwadi\" + -0.139*\"mamata\" + 0.133*\"comment\" + -0.120*\"ms\" + 0.120*\"priyanka\" + -0.116*\"trinamool\"'),\n",
       " (4,\n",
       "  '0.308*\"hug\" + -0.260*\"yadav\" + 0.249*\"hate\" + -0.232*\"banerjee\" + -0.167*\"mulayam\" + -0.166*\"aap\" + 0.158*\"don\" + 0.139*\"hugging\" + -0.130*\"bengal\" + 0.126*\"scindia\"'),\n",
       " (5,\n",
       "  '0.292*\"n\" + -0.230*\"report\" + -0.169*\"cag\" + 0.142*\"anil\" + 0.135*\"updates\" + 0.127*\"var\" + 0.120*\"mulayam\" + -0.119*\"jaitley\" + 0.117*\"vadra\" + 0.116*\"ambani\"'),\n",
       " (6,\n",
       "  '-0.274*\"n\" + 0.181*\"report\" + 0.173*\"mulayam\" + 0.161*\"yadav\" + 0.160*\"enforcement\" + 0.146*\"directorate\" + 0.140*\"vadra\" + 0.137*\"ed\" + 0.131*\"cag\" + -0.130*\"scindia\"'),\n",
       " (7,\n",
       "  '0.268*\"irani\" + 0.258*\"vajpayee\" + 0.188*\"london\" + 0.173*\"looted\" + 0.169*\"poor\" + 0.150*\"atal\" + 0.144*\"azad\" + -0.137*\"scindia\" + -0.115*\"banerjee\" + 0.114*\"law\"'),\n",
       " (8,\n",
       "  '-0.297*\"irani\" + 0.286*\"vajpayee\" + -0.208*\"london\" + -0.202*\"looted\" + -0.184*\"poor\" + 0.174*\"atal\" + 0.157*\"azad\" + 0.124*\"portrait\" + 0.115*\"bihari\" + -0.105*\"assets\"'),\n",
       " (9,\n",
       "  '0.276*\"vajpayee\" + -0.210*\"committee\" + -0.201*\"gadkari\" + -0.189*\"n\" + 0.185*\"atal\" + 0.135*\"mail\" + 0.128*\"e\" + 0.123*\"portrait\" + 0.119*\"azad\" + 0.119*\"bihari\"')]"
      ]
     },
     "execution_count": 51,
     "metadata": {
      "tags": []
     },
     "output_type": "execute_result"
    }
   ],
   "source": [
    "lsi_model.print_topics(num_topics=25)"
   ]
  },
  {
   "cell_type": "code",
   "execution_count": 0,
   "metadata": {
    "colab": {},
    "colab_type": "code",
    "id": "JIUVvvhI1Gwk"
   },
   "outputs": [],
   "source": []
  }
 ],
 "metadata": {
  "colab": {
   "collapsed_sections": [],
   "name": "Analysis_NDTV.ipynb",
   "provenance": [],
   "version": "0.3.2"
  },
  "kernelspec": {
   "display_name": "Python 3",
   "language": "python",
   "name": "python3"
  },
  "language_info": {
   "codemirror_mode": {
    "name": "ipython",
    "version": 3
   },
   "file_extension": ".py",
   "mimetype": "text/x-python",
   "name": "python",
   "nbconvert_exporter": "python",
   "pygments_lexer": "ipython3",
   "version": "3.6.7"
  }
 },
 "nbformat": 4,
 "nbformat_minor": 1
}
